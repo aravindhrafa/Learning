{
  "nbformat": 4,
  "nbformat_minor": 0,
  "metadata": {
    "colab": {
      "name": "NLTK_baiscs_1.ipynb",
      "provenance": [],
      "collapsed_sections": []
    },
    "kernelspec": {
      "name": "python3",
      "display_name": "Python 3"
    }
  },
  "cells": [
    {
      "cell_type": "code",
      "metadata": {
        "id": "vUyLbWXXMx7t",
        "colab_type": "code",
        "outputId": "a3db5229-6642-4878-b873-41decaaebf76",
        "colab": {
          "base_uri": "https://localhost:8080/",
          "height": 68
        }
      },
      "source": [
        "\n",
        "import nltk\n",
        "nltk.download('punkt')\n"
      ],
      "execution_count": 1,
      "outputs": [
        {
          "output_type": "stream",
          "text": [
            "[nltk_data] Downloading package punkt to /root/nltk_data...\n",
            "[nltk_data]   Unzipping tokenizers/punkt.zip.\n"
          ],
          "name": "stdout"
        },
        {
          "output_type": "execute_result",
          "data": {
            "text/plain": [
              "True"
            ]
          },
          "metadata": {
            "tags": []
          },
          "execution_count": 1
        }
      ]
    },
    {
      "cell_type": "code",
      "metadata": {
        "id": "N6VRbVNkNwGG",
        "colab_type": "code",
        "outputId": "e02ca033-4db3-4e51-d370-283ab8c41b7c",
        "colab": {
          "base_uri": "https://localhost:8080/",
          "height": 34
        }
      },
      "source": [
        "my_string = 'I am learning Natural Language Processing'\n",
        "tokens = nltk.word_tokenize(my_string)\n",
        "tokens\n",
        "\n",
        "# Tokenisation process happened here "
      ],
      "execution_count": 2,
      "outputs": [
        {
          "output_type": "execute_result",
          "data": {
            "text/plain": [
              "['I', 'am', 'learning', 'Natural', 'Language', 'Processing']"
            ]
          },
          "metadata": {
            "tags": []
          },
          "execution_count": 2
        }
      ]
    },
    {
      "cell_type": "code",
      "metadata": {
        "id": "ElKgdFykayVu",
        "colab_type": "code",
        "outputId": "3bc400f0-60c6-447e-9d45-b84bcace26d6",
        "colab": {
          "base_uri": "https://localhost:8080/",
          "height": 34
        }
      },
      "source": [
        "len(tokens)"
      ],
      "execution_count": 3,
      "outputs": [
        {
          "output_type": "execute_result",
          "data": {
            "text/plain": [
              "6"
            ]
          },
          "metadata": {
            "tags": []
          },
          "execution_count": 3
        }
      ]
    },
    {
      "cell_type": "code",
      "metadata": {
        "id": "V4Gbw70AbKcp",
        "colab_type": "code",
        "outputId": "81bc35da-d1d9-4f7d-92ef-059af086170c",
        "colab": {
          "base_uri": "https://localhost:8080/",
          "height": 51
        }
      },
      "source": [
        "phrase = \"I am learning Natural Language processing. I am currently trying to learn how to tokenize\"\n",
        "tokens_sent =nltk.sent_tokenize(phrase) \n",
        "tokens_sent\n",
        "\n",
        "# Sentence tokenization "
      ],
      "execution_count": 4,
      "outputs": [
        {
          "output_type": "execute_result",
          "data": {
            "text/plain": [
              "['I am learning Natural Language processing.',\n",
              " 'I am currently trying to learn how to tokenize']"
            ]
          },
          "metadata": {
            "tags": []
          },
          "execution_count": 4
        }
      ]
    },
    {
      "cell_type": "code",
      "metadata": {
        "id": "ium2R57PbXia",
        "colab_type": "code",
        "outputId": "cf4c2107-da94-4bcf-8c6f-8acc6d314eb1",
        "colab": {
          "base_uri": "https://localhost:8080/",
          "height": 34
        }
      },
      "source": [
        "len(tokens_sent)"
      ],
      "execution_count": 5,
      "outputs": [
        {
          "output_type": "execute_result",
          "data": {
            "text/plain": [
              "2"
            ]
          },
          "metadata": {
            "tags": []
          },
          "execution_count": 5
        }
      ]
    },
    {
      "cell_type": "code",
      "metadata": {
        "id": "1zaOp8zKb3U7",
        "colab_type": "code",
        "outputId": "5e7a91bb-1cb2-407a-e240-98ff1a7216ea",
        "colab": {
          "base_uri": "https://localhost:8080/",
          "height": 51
        }
      },
      "source": [
        "# Word tokenization with the help of sentences\n",
        "\n",
        "for items in tokens_sent:\n",
        "  print(nltk.word_tokenize(items))\n",
        "\n",
        "\n",
        "\n",
        "#Word tokenization inside the sentence tokens "
      ],
      "execution_count": 6,
      "outputs": [
        {
          "output_type": "stream",
          "text": [
            "['I', 'am', 'learning', 'Natural', 'Language', 'processing', '.']\n",
            "['I', 'am', 'currently', 'trying', 'to', 'learn', 'how', 'to', 'tokenize']\n"
          ],
          "name": "stdout"
        }
      ]
    },
    {
      "cell_type": "markdown",
      "metadata": {
        "id": "mYOu37Owcavp",
        "colab_type": "text"
      },
      "source": [
        "Normalization process"
      ]
    },
    {
      "cell_type": "code",
      "metadata": {
        "id": "sLZot3_ocJfw",
        "colab_type": "code",
        "outputId": "1906fe27-abe1-4382-b624-9368e868bf30",
        "colab": {
          "base_uri": "https://localhost:8080/",
          "height": 68
        }
      },
      "source": [
        "import nltk\n",
        "nltk.download('gutenberg')\n"
      ],
      "execution_count": 7,
      "outputs": [
        {
          "output_type": "stream",
          "text": [
            "[nltk_data] Downloading package gutenberg to /root/nltk_data...\n",
            "[nltk_data]   Unzipping corpora/gutenberg.zip.\n"
          ],
          "name": "stdout"
        },
        {
          "output_type": "execute_result",
          "data": {
            "text/plain": [
              "True"
            ]
          },
          "metadata": {
            "tags": []
          },
          "execution_count": 7
        }
      ]
    },
    {
      "cell_type": "code",
      "metadata": {
        "id": "UQPppHMlfykQ",
        "colab_type": "code",
        "outputId": "2aa7845f-e3fb-48b8-ae7c-bd9d2a3dd719",
        "colab": {
          "base_uri": "https://localhost:8080/",
          "height": 34
        }
      },
      "source": [
        "md = nltk.corpus.gutenberg.words('melville-moby_dick.txt')\n",
        "md[:5]"
      ],
      "execution_count": 8,
      "outputs": [
        {
          "output_type": "execute_result",
          "data": {
            "text/plain": [
              "['[', 'Moby', 'Dick', 'by', 'Herman']"
            ]
          },
          "metadata": {
            "tags": []
          },
          "execution_count": 8
        }
      ]
    },
    {
      "cell_type": "code",
      "metadata": {
        "id": "TCj4Yl4TgCav",
        "colab_type": "code",
        "outputId": "55a5c9dd-49c0-4bb6-d399-44e06a497f0b",
        "colab": {
          "base_uri": "https://localhost:8080/",
          "height": 391
        }
      },
      "source": [
        "md[:22]"
      ],
      "execution_count": 9,
      "outputs": [
        {
          "output_type": "execute_result",
          "data": {
            "text/plain": [
              "['[',\n",
              " 'Moby',\n",
              " 'Dick',\n",
              " 'by',\n",
              " 'Herman',\n",
              " 'Melville',\n",
              " '1851',\n",
              " ']',\n",
              " 'ETYMOLOGY',\n",
              " '.',\n",
              " '(',\n",
              " 'Supplied',\n",
              " 'by',\n",
              " 'a',\n",
              " 'Late',\n",
              " 'Consumptive',\n",
              " 'Usher',\n",
              " 'to',\n",
              " 'a',\n",
              " 'Grammar',\n",
              " 'School',\n",
              " ')']"
            ]
          },
          "metadata": {
            "tags": []
          },
          "execution_count": 9
        }
      ]
    },
    {
      "cell_type": "code",
      "metadata": {
        "id": "OLtgYC6Bguki",
        "colab_type": "code",
        "colab": {}
      },
      "source": [
        "# Let us initiate to variable \n",
        "\n",
        "md_22 = md[:22]"
      ],
      "execution_count": 0,
      "outputs": []
    },
    {
      "cell_type": "code",
      "metadata": {
        "id": "-JvOEc6Ygzbz",
        "colab_type": "code",
        "outputId": "ca421cda-8ae7-4c66-a217-df7132998e72",
        "colab": {
          "base_uri": "https://localhost:8080/",
          "height": 289
        }
      },
      "source": [
        "for item in md_22:\n",
        "  if item.isalpha():\n",
        "    print(item)\n",
        "\n",
        "# Here you can see that there is an inclusion of both the Upper and Lower case letters"
      ],
      "execution_count": 11,
      "outputs": [
        {
          "output_type": "stream",
          "text": [
            "Moby\n",
            "Dick\n",
            "by\n",
            "Herman\n",
            "Melville\n",
            "ETYMOLOGY\n",
            "Supplied\n",
            "by\n",
            "a\n",
            "Late\n",
            "Consumptive\n",
            "Usher\n",
            "to\n",
            "a\n",
            "Grammar\n",
            "School\n"
          ],
          "name": "stdout"
        }
      ]
    },
    {
      "cell_type": "code",
      "metadata": {
        "id": "O3iEKJmBg9Xb",
        "colab_type": "code",
        "outputId": "7e5d15f2-0554-48b1-a7a8-5920c6eda9ff",
        "colab": {
          "base_uri": "https://localhost:8080/",
          "height": 391
        }
      },
      "source": [
        "for word in md_22:\n",
        "  print(word.lower())\n",
        "\n",
        "# lower function could be used to reduce the upper case to lower case letters"
      ],
      "execution_count": 12,
      "outputs": [
        {
          "output_type": "stream",
          "text": [
            "[\n",
            "moby\n",
            "dick\n",
            "by\n",
            "herman\n",
            "melville\n",
            "1851\n",
            "]\n",
            "etymology\n",
            ".\n",
            "(\n",
            "supplied\n",
            "by\n",
            "a\n",
            "late\n",
            "consumptive\n",
            "usher\n",
            "to\n",
            "a\n",
            "grammar\n",
            "school\n",
            ")\n"
          ],
          "name": "stdout"
        }
      ]
    },
    {
      "cell_type": "code",
      "metadata": {
        "id": "v-kYVXIdhLIk",
        "colab_type": "code",
        "outputId": "0fddac1a-cd91-4769-f921-78f40e9037c8",
        "colab": {
          "base_uri": "https://localhost:8080/",
          "height": 289
        }
      },
      "source": [
        "# the above two functions could be provide inside some single variable like below \n",
        "\n",
        "norm  =  [word.lower() for word in md_22 if word.isalpha()]\n",
        "norm"
      ],
      "execution_count": 13,
      "outputs": [
        {
          "output_type": "execute_result",
          "data": {
            "text/plain": [
              "['moby',\n",
              " 'dick',\n",
              " 'by',\n",
              " 'herman',\n",
              " 'melville',\n",
              " 'etymology',\n",
              " 'supplied',\n",
              " 'by',\n",
              " 'a',\n",
              " 'late',\n",
              " 'consumptive',\n",
              " 'usher',\n",
              " 'to',\n",
              " 'a',\n",
              " 'grammar',\n",
              " 'school']"
            ]
          },
          "metadata": {
            "tags": []
          },
          "execution_count": 13
        }
      ]
    },
    {
      "cell_type": "markdown",
      "metadata": {
        "id": "2XOm7647iYzs",
        "colab_type": "text"
      },
      "source": [
        "Other Ways of Normalization : Important "
      ]
    },
    {
      "cell_type": "code",
      "metadata": {
        "id": "xKXDOsM4hnzy",
        "colab_type": "code",
        "colab": {}
      },
      "source": [
        "porter = nltk.PorterStemmer()"
      ],
      "execution_count": 0,
      "outputs": []
    },
    {
      "cell_type": "code",
      "metadata": {
        "id": "UADLMGMAjsRb",
        "colab_type": "code",
        "colab": {}
      },
      "source": [
        "my_list = ['cat','Cats','lie','lying','run','running','city','cities','month','monthly','woman','women']"
      ],
      "execution_count": 0,
      "outputs": []
    },
    {
      "cell_type": "code",
      "metadata": {
        "id": "gJCanGfGj-Om",
        "colab_type": "code",
        "outputId": "0479327d-dc60-4b4d-c9a1-27db4f495916",
        "colab": {
          "base_uri": "https://localhost:8080/",
          "height": 221
        }
      },
      "source": [
        "for word in my_list:\n",
        "  print(porter.stem(word))\n",
        "\n",
        "  # normalization mismatch happened for city and monthly "
      ],
      "execution_count": 16,
      "outputs": [
        {
          "output_type": "stream",
          "text": [
            "cat\n",
            "cat\n",
            "lie\n",
            "lie\n",
            "run\n",
            "run\n",
            "citi\n",
            "citi\n",
            "month\n",
            "monthli\n",
            "woman\n",
            "women\n"
          ],
          "name": "stdout"
        }
      ]
    },
    {
      "cell_type": "code",
      "metadata": {
        "id": "Q41o54rOkffh",
        "colab_type": "code",
        "colab": {}
      },
      "source": [
        "lancaster = nltk.LancasterStemmer()"
      ],
      "execution_count": 0,
      "outputs": []
    },
    {
      "cell_type": "code",
      "metadata": {
        "id": "0R62USK1kDXO",
        "colab_type": "code",
        "outputId": "118c5796-965e-4944-acb3-714992670843",
        "colab": {
          "base_uri": "https://localhost:8080/",
          "height": 221
        }
      },
      "source": [
        "for word in my_list:\n",
        "  print(lancaster.stem(word))\n",
        "\n",
        "# Normalization happened differently for month,woman,women,lying,month \n",
        "# Chopping happens differently  "
      ],
      "execution_count": 18,
      "outputs": [
        {
          "output_type": "stream",
          "text": [
            "cat\n",
            "cat\n",
            "lie\n",
            "lying\n",
            "run\n",
            "run\n",
            "city\n",
            "city\n",
            "mon\n",
            "month\n",
            "wom\n",
            "wom\n"
          ],
          "name": "stdout"
        }
      ]
    },
    {
      "cell_type": "code",
      "metadata": {
        "id": "WRfgvjEklOLH",
        "colab_type": "code",
        "outputId": "01e09e3f-3384-4e6c-f0a1-6fb09a1fce0f",
        "colab": {
          "base_uri": "https://localhost:8080/",
          "height": 68
        }
      },
      "source": [
        "nltk.download('wordnet')"
      ],
      "execution_count": 19,
      "outputs": [
        {
          "output_type": "stream",
          "text": [
            "[nltk_data] Downloading package wordnet to /root/nltk_data...\n",
            "[nltk_data]   Unzipping corpora/wordnet.zip.\n"
          ],
          "name": "stdout"
        },
        {
          "output_type": "execute_result",
          "data": {
            "text/plain": [
              "True"
            ]
          },
          "metadata": {
            "tags": []
          },
          "execution_count": 19
        }
      ]
    },
    {
      "cell_type": "code",
      "metadata": {
        "id": "qZ4TYR-skdGn",
        "colab_type": "code",
        "colab": {}
      },
      "source": [
        "vnlem = nltk.WordNetLemmatizer()"
      ],
      "execution_count": 0,
      "outputs": []
    },
    {
      "cell_type": "code",
      "metadata": {
        "id": "DyiRSucylAW5",
        "colab_type": "code",
        "outputId": "d988349c-071b-4a49-cf8e-ed953e2d10af",
        "colab": {
          "base_uri": "https://localhost:8080/",
          "height": 221
        }
      },
      "source": [
        "for word in my_list:\n",
        "  print(vnlem.lemmatize(word))\n",
        "\n",
        "\n",
        "# this seems to be computationally intensive\n",
        "# takes longer time to process\n",
        "# Chopping and Lemmatization doesnt happened correctly "
      ],
      "execution_count": 21,
      "outputs": [
        {
          "output_type": "stream",
          "text": [
            "cat\n",
            "Cats\n",
            "lie\n",
            "lying\n",
            "run\n",
            "running\n",
            "city\n",
            "city\n",
            "month\n",
            "monthly\n",
            "woman\n",
            "woman\n"
          ],
          "name": "stdout"
        }
      ]
    },
    {
      "cell_type": "code",
      "metadata": {
        "id": "n67Zg_WO_OGt",
        "colab_type": "code",
        "outputId": "429456ee-e5b9-4d53-9ff7-cc2b0814f0ec",
        "colab": {
          "base_uri": "https://localhost:8080/",
          "height": 85
        }
      },
      "source": [
        "nltk.download('averaged_perceptron_tagger')"
      ],
      "execution_count": 22,
      "outputs": [
        {
          "output_type": "stream",
          "text": [
            "[nltk_data] Downloading package averaged_perceptron_tagger to\n",
            "[nltk_data]     /root/nltk_data...\n",
            "[nltk_data]   Unzipping taggers/averaged_perceptron_tagger.zip.\n"
          ],
          "name": "stdout"
        },
        {
          "output_type": "execute_result",
          "data": {
            "text/plain": [
              "True"
            ]
          },
          "metadata": {
            "tags": []
          },
          "execution_count": 22
        }
      ]
    },
    {
      "cell_type": "markdown",
      "metadata": {
        "id": "jvq17vA8l-7m",
        "colab_type": "text"
      },
      "source": [
        "Parts of speech Tagging"
      ]
    },
    {
      "cell_type": "code",
      "metadata": {
        "id": "Lx6PYC3OlK81",
        "colab_type": "code",
        "outputId": "73d479da-1c51-43af-ca7b-bfcff44bcb4a",
        "colab": {
          "base_uri": "https://localhost:8080/",
          "height": 187
        }
      },
      "source": [
        "# Parts of Speech could be used to solve the natural language processing problems \n",
        "# While solving the sentence, and for other word counts, we should see the parts \n",
        "# of speeching to see parts of speech\n",
        "\n",
        "\n",
        "import nltk\n",
        "text = 'I walked to the cafe to buy coffee before work'\n",
        "tokens = nltk.word_tokenize(text)\n",
        "nltk.pos_tag(tokens)"
      ],
      "execution_count": 23,
      "outputs": [
        {
          "output_type": "execute_result",
          "data": {
            "text/plain": [
              "[('I', 'PRP'),\n",
              " ('walked', 'VBD'),\n",
              " ('to', 'TO'),\n",
              " ('the', 'DT'),\n",
              " ('cafe', 'NN'),\n",
              " ('to', 'TO'),\n",
              " ('buy', 'VB'),\n",
              " ('coffee', 'NN'),\n",
              " ('before', 'IN'),\n",
              " ('work', 'NN')]"
            ]
          },
          "metadata": {
            "tags": []
          },
          "execution_count": 23
        }
      ]
    },
    {
      "cell_type": "code",
      "metadata": {
        "id": "aLTuLbkWI8CH",
        "colab_type": "code",
        "outputId": "6136b34e-791b-4fcd-d353-5732c9bb6794",
        "colab": {
          "base_uri": "https://localhost:8080/",
          "height": 68
        }
      },
      "source": [
        "nltk.download('tagsets')"
      ],
      "execution_count": 24,
      "outputs": [
        {
          "output_type": "stream",
          "text": [
            "[nltk_data] Downloading package tagsets to /root/nltk_data...\n",
            "[nltk_data]   Unzipping help/tagsets.zip.\n"
          ],
          "name": "stdout"
        },
        {
          "output_type": "execute_result",
          "data": {
            "text/plain": [
              "True"
            ]
          },
          "metadata": {
            "tags": []
          },
          "execution_count": 24
        }
      ]
    },
    {
      "cell_type": "code",
      "metadata": {
        "id": "Go-JJOAd4hzX",
        "colab_type": "code",
        "colab": {
          "base_uri": "https://localhost:8080/",
          "height": 1000
        },
        "outputId": "1ff0909e-be45-48ad-a280-6d881622a5b7"
      },
      "source": [
        "# To check out what is the mearning of the above words, we could be able to get definition from \n",
        "# Abbreviation meant for \n",
        "\n",
        "nltk.help.upenn_tagset()"
      ],
      "execution_count": 25,
      "outputs": [
        {
          "output_type": "stream",
          "text": [
            "$: dollar\n",
            "    $ -$ --$ A$ C$ HK$ M$ NZ$ S$ U.S.$ US$\n",
            "'': closing quotation mark\n",
            "    ' ''\n",
            "(: opening parenthesis\n",
            "    ( [ {\n",
            "): closing parenthesis\n",
            "    ) ] }\n",
            ",: comma\n",
            "    ,\n",
            "--: dash\n",
            "    --\n",
            ".: sentence terminator\n",
            "    . ! ?\n",
            ":: colon or ellipsis\n",
            "    : ; ...\n",
            "CC: conjunction, coordinating\n",
            "    & 'n and both but either et for less minus neither nor or plus so\n",
            "    therefore times v. versus vs. whether yet\n",
            "CD: numeral, cardinal\n",
            "    mid-1890 nine-thirty forty-two one-tenth ten million 0.5 one forty-\n",
            "    seven 1987 twenty '79 zero two 78-degrees eighty-four IX '60s .025\n",
            "    fifteen 271,124 dozen quintillion DM2,000 ...\n",
            "DT: determiner\n",
            "    all an another any both del each either every half la many much nary\n",
            "    neither no some such that the them these this those\n",
            "EX: existential there\n",
            "    there\n",
            "FW: foreign word\n",
            "    gemeinschaft hund ich jeux habeas Haementeria Herr K'ang-si vous\n",
            "    lutihaw alai je jour objets salutaris fille quibusdam pas trop Monte\n",
            "    terram fiche oui corporis ...\n",
            "IN: preposition or conjunction, subordinating\n",
            "    astride among uppon whether out inside pro despite on by throughout\n",
            "    below within for towards near behind atop around if like until below\n",
            "    next into if beside ...\n",
            "JJ: adjective or numeral, ordinal\n",
            "    third ill-mannered pre-war regrettable oiled calamitous first separable\n",
            "    ectoplasmic battery-powered participatory fourth still-to-be-named\n",
            "    multilingual multi-disciplinary ...\n",
            "JJR: adjective, comparative\n",
            "    bleaker braver breezier briefer brighter brisker broader bumper busier\n",
            "    calmer cheaper choosier cleaner clearer closer colder commoner costlier\n",
            "    cozier creamier crunchier cuter ...\n",
            "JJS: adjective, superlative\n",
            "    calmest cheapest choicest classiest cleanest clearest closest commonest\n",
            "    corniest costliest crassest creepiest crudest cutest darkest deadliest\n",
            "    dearest deepest densest dinkiest ...\n",
            "LS: list item marker\n",
            "    A A. B B. C C. D E F First G H I J K One SP-44001 SP-44002 SP-44005\n",
            "    SP-44007 Second Third Three Two * a b c d first five four one six three\n",
            "    two\n",
            "MD: modal auxiliary\n",
            "    can cannot could couldn't dare may might must need ought shall should\n",
            "    shouldn't will would\n",
            "NN: noun, common, singular or mass\n",
            "    common-carrier cabbage knuckle-duster Casino afghan shed thermostat\n",
            "    investment slide humour falloff slick wind hyena override subhumanity\n",
            "    machinist ...\n",
            "NNP: noun, proper, singular\n",
            "    Motown Venneboerger Czestochwa Ranzer Conchita Trumplane Christos\n",
            "    Oceanside Escobar Kreisler Sawyer Cougar Yvette Ervin ODI Darryl CTCA\n",
            "    Shannon A.K.C. Meltex Liverpool ...\n",
            "NNPS: noun, proper, plural\n",
            "    Americans Americas Amharas Amityvilles Amusements Anarcho-Syndicalists\n",
            "    Andalusians Andes Andruses Angels Animals Anthony Antilles Antiques\n",
            "    Apache Apaches Apocrypha ...\n",
            "NNS: noun, common, plural\n",
            "    undergraduates scotches bric-a-brac products bodyguards facets coasts\n",
            "    divestitures storehouses designs clubs fragrances averages\n",
            "    subjectivists apprehensions muses factory-jobs ...\n",
            "PDT: pre-determiner\n",
            "    all both half many quite such sure this\n",
            "POS: genitive marker\n",
            "    ' 's\n",
            "PRP: pronoun, personal\n",
            "    hers herself him himself hisself it itself me myself one oneself ours\n",
            "    ourselves ownself self she thee theirs them themselves they thou thy us\n",
            "PRP$: pronoun, possessive\n",
            "    her his mine my our ours their thy your\n",
            "RB: adverb\n",
            "    occasionally unabatingly maddeningly adventurously professedly\n",
            "    stirringly prominently technologically magisterially predominately\n",
            "    swiftly fiscally pitilessly ...\n",
            "RBR: adverb, comparative\n",
            "    further gloomier grander graver greater grimmer harder harsher\n",
            "    healthier heavier higher however larger later leaner lengthier less-\n",
            "    perfectly lesser lonelier longer louder lower more ...\n",
            "RBS: adverb, superlative\n",
            "    best biggest bluntest earliest farthest first furthest hardest\n",
            "    heartiest highest largest least less most nearest second tightest worst\n",
            "RP: particle\n",
            "    aboard about across along apart around aside at away back before behind\n",
            "    by crop down ever fast for forth from go high i.e. in into just later\n",
            "    low more off on open out over per pie raising start teeth that through\n",
            "    under unto up up-pp upon whole with you\n",
            "SYM: symbol\n",
            "    % & ' '' ''. ) ). * + ,. < = > @ A[fj] U.S U.S.S.R * ** ***\n",
            "TO: \"to\" as preposition or infinitive marker\n",
            "    to\n",
            "UH: interjection\n",
            "    Goodbye Goody Gosh Wow Jeepers Jee-sus Hubba Hey Kee-reist Oops amen\n",
            "    huh howdy uh dammit whammo shucks heck anyways whodunnit honey golly\n",
            "    man baby diddle hush sonuvabitch ...\n",
            "VB: verb, base form\n",
            "    ask assemble assess assign assume atone attention avoid bake balkanize\n",
            "    bank begin behold believe bend benefit bevel beware bless boil bomb\n",
            "    boost brace break bring broil brush build ...\n",
            "VBD: verb, past tense\n",
            "    dipped pleaded swiped regummed soaked tidied convened halted registered\n",
            "    cushioned exacted snubbed strode aimed adopted belied figgered\n",
            "    speculated wore appreciated contemplated ...\n",
            "VBG: verb, present participle or gerund\n",
            "    telegraphing stirring focusing angering judging stalling lactating\n",
            "    hankerin' alleging veering capping approaching traveling besieging\n",
            "    encrypting interrupting erasing wincing ...\n",
            "VBN: verb, past participle\n",
            "    multihulled dilapidated aerosolized chaired languished panelized used\n",
            "    experimented flourished imitated reunifed factored condensed sheared\n",
            "    unsettled primed dubbed desired ...\n",
            "VBP: verb, present tense, not 3rd person singular\n",
            "    predominate wrap resort sue twist spill cure lengthen brush terminate\n",
            "    appear tend stray glisten obtain comprise detest tease attract\n",
            "    emphasize mold postpone sever return wag ...\n",
            "VBZ: verb, present tense, 3rd person singular\n",
            "    bases reconstructs marks mixes displeases seals carps weaves snatches\n",
            "    slumps stretches authorizes smolders pictures emerges stockpiles\n",
            "    seduces fizzes uses bolsters slaps speaks pleads ...\n",
            "WDT: WH-determiner\n",
            "    that what whatever which whichever\n",
            "WP: WH-pronoun\n",
            "    that what whatever whatsoever which who whom whosoever\n",
            "WP$: WH-pronoun, possessive\n",
            "    whose\n",
            "WRB: Wh-adverb\n",
            "    how however whence whenever where whereby whereever wherein whereof why\n",
            "``: opening quotation mark\n",
            "    ` ``\n"
          ],
          "name": "stdout"
        }
      ]
    },
    {
      "cell_type": "code",
      "metadata": {
        "id": "gbh2Ca4VI5Ul",
        "colab_type": "code",
        "colab": {
          "base_uri": "https://localhost:8080/",
          "height": 34
        },
        "outputId": "358e314e-50b2-46af-fdf2-5e180a6be761"
      },
      "source": [
        "# Understanding how the same word can be used on different places\n",
        "# And nltk can be able to predict correctly \n",
        "\n",
        "nltk.pos_tag(nltk.word_tokenize(\"I will have desert\"))\n",
        "\n",
        "\n",
        "# Here the desert is noun which is singular "
      ],
      "execution_count": 26,
      "outputs": [
        {
          "output_type": "execute_result",
          "data": {
            "text/plain": [
              "[('I', 'PRP'), ('will', 'MD'), ('have', 'VB'), ('desert', 'NN')]"
            ]
          },
          "metadata": {
            "tags": []
          },
          "execution_count": 26
        }
      ]
    },
    {
      "cell_type": "code",
      "metadata": {
        "id": "DV3pUkNXLuro",
        "colab_type": "code",
        "colab": {
          "base_uri": "https://localhost:8080/",
          "height": 34
        },
        "outputId": "2627135b-4afd-4da4-af0b-8b8463299af0"
      },
      "source": [
        "nltk.pos_tag(nltk.word_tokenize(\"They will desert us\"))\n",
        "\n",
        "# Here is desert is verb, which is in the base form "
      ],
      "execution_count": 27,
      "outputs": [
        {
          "output_type": "execute_result",
          "data": {
            "text/plain": [
              "[('They', 'PRP'), ('will', 'MD'), ('desert', 'VB'), ('us', 'PRP')]"
            ]
          },
          "metadata": {
            "tags": []
          },
          "execution_count": 27
        }
      ]
    },
    {
      "cell_type": "code",
      "metadata": {
        "id": "cdJvc5lyL6Dj",
        "colab_type": "code",
        "colab": {}
      },
      "source": [
        "# Dealing about with file \n",
        "\n",
        "md = nltk.corpus.gutenberg.words('melville-moby_dick.txt')\n",
        "# md"
      ],
      "execution_count": 0,
      "outputs": []
    },
    {
      "cell_type": "code",
      "metadata": {
        "id": "h01EoZy-MvfV",
        "colab_type": "code",
        "colab": {
          "base_uri": "https://localhost:8080/",
          "height": 34
        },
        "outputId": "d32100f5-1534-40a8-afdb-262d597144c7"
      },
      "source": [
        "md_norm = [word.lower() for word in md if word.isalpha()]\n",
        "len(md_norm)# --> 218361\n",
        "\n",
        "# md_norm = [word for word in md if word.isalpha()]\n",
        "# len(md_norm)  # -->218361\n",
        "# md_norm\n",
        "# The above code will also include the capitals but the count for the \n",
        "# former and below code are the same"
      ],
      "execution_count": 29,
      "outputs": [
        {
          "output_type": "execute_result",
          "data": {
            "text/plain": [
              "218361"
            ]
          },
          "metadata": {
            "tags": []
          },
          "execution_count": 29
        }
      ]
    },
    {
      "cell_type": "code",
      "metadata": {
        "id": "9WV-5l2DQAyZ",
        "colab_type": "code",
        "colab": {
          "base_uri": "https://localhost:8080/",
          "height": 68
        },
        "outputId": "91784a54-6a48-41a9-8899-1f026a7f2261"
      },
      "source": [
        "nltk.download('universal_tagset')"
      ],
      "execution_count": 30,
      "outputs": [
        {
          "output_type": "stream",
          "text": [
            "[nltk_data] Downloading package universal_tagset to /root/nltk_data...\n",
            "[nltk_data]   Unzipping taggers/universal_tagset.zip.\n"
          ],
          "name": "stdout"
        },
        {
          "output_type": "execute_result",
          "data": {
            "text/plain": [
              "True"
            ]
          },
          "metadata": {
            "tags": []
          },
          "execution_count": 30
        }
      ]
    },
    {
      "cell_type": "code",
      "metadata": {
        "id": "ME9qukMBNAfB",
        "colab_type": "code",
        "colab": {}
      },
      "source": [
        "md_tags = nltk.pos_tag(md_norm,tagset = \"universal\")\n",
        "\n",
        "# the function of tagset ='universal' is to consider various types of nouns to \n",
        "# be considered as same\n",
        "# Even though, we know various types of nouns, the interpreter still \n",
        "# predicts the word as the noun --> Important \n",
        "# The below code could help to understand it better "
      ],
      "execution_count": 0,
      "outputs": []
    },
    {
      "cell_type": "code",
      "metadata": {
        "id": "nlELy2V4PgS7",
        "colab_type": "code",
        "colab": {
          "base_uri": "https://localhost:8080/",
          "height": 102
        },
        "outputId": "8efb551b-9342-45c4-c573-4ff132cfa0fe"
      },
      "source": [
        "md_tags[:5]\n",
        "\n",
        "# Beginning five  words are displayed here wit their universal position tags "
      ],
      "execution_count": 32,
      "outputs": [
        {
          "output_type": "execute_result",
          "data": {
            "text/plain": [
              "[('moby', 'NOUN'),\n",
              " ('dick', 'NOUN'),\n",
              " ('by', 'ADP'),\n",
              " ('herman', 'NOUN'),\n",
              " ('melville', 'NOUN')]"
            ]
          },
          "metadata": {
            "tags": []
          },
          "execution_count": 32
        }
      ]
    },
    {
      "cell_type": "code",
      "metadata": {
        "id": "NyK_E5OmQG1T",
        "colab_type": "code",
        "colab": {}
      },
      "source": [
        "# If we wish to display only the noun words\n",
        "\n",
        "md_nouns = [word for word in md_tags if word[1]=='NOUN']\n",
        "# md_nouns -- > This could display tuple inside"
      ],
      "execution_count": 0,
      "outputs": []
    },
    {
      "cell_type": "code",
      "metadata": {
        "id": "YN95RaDURiZS",
        "colab_type": "code",
        "colab": {}
      },
      "source": [
        "md_nouns = [word[0] for word in md_tags if word[1]=='NOUN']\n",
        "\n",
        "# This could provide only the noun values "
      ],
      "execution_count": 0,
      "outputs": []
    },
    {
      "cell_type": "code",
      "metadata": {
        "id": "NyvmpXIiYLcw",
        "colab_type": "code",
        "colab": {
          "base_uri": "https://localhost:8080/",
          "height": 187
        },
        "outputId": "ac9ba024-1053-4d09-8203-24ba5b1570f6"
      },
      "source": [
        "md_nouns[:10]"
      ],
      "execution_count": 35,
      "outputs": [
        {
          "output_type": "execute_result",
          "data": {
            "text/plain": [
              "['moby',\n",
              " 'dick',\n",
              " 'herman',\n",
              " 'melville',\n",
              " 'etymology',\n",
              " 'consumptive',\n",
              " 'usher',\n",
              " 'grammar',\n",
              " 'school',\n",
              " 'pale']"
            ]
          },
          "metadata": {
            "tags": []
          },
          "execution_count": 35
        }
      ]
    },
    {
      "cell_type": "code",
      "metadata": {
        "id": "YPaI1anbEN7h",
        "colab_type": "code",
        "colab": {
          "base_uri": "https://localhost:8080/",
          "height": 1000
        },
        "outputId": "cb071069-9d87-441f-d552-ee0cf7ba9210"
      },
      "source": [
        "nouns_fd = nltk.FreqDist(md_nouns)\n",
        "nouns_fd"
      ],
      "execution_count": 36,
      "outputs": [
        {
          "output_type": "execute_result",
          "data": {
            "text/plain": [
              "FreqDist({'moby': 49,\n",
              "          'dick': 69,\n",
              "          'herman': 1,\n",
              "          'melville': 1,\n",
              "          'etymology': 1,\n",
              "          'consumptive': 1,\n",
              "          'usher': 2,\n",
              "          'grammar': 2,\n",
              "          'school': 10,\n",
              "          'pale': 4,\n",
              "          'threadbare': 1,\n",
              "          'heart': 91,\n",
              "          'body': 110,\n",
              "          'brain': 37,\n",
              "          'i': 1182,\n",
              "          'lexicons': 1,\n",
              "          'grammars': 2,\n",
              "          'queer': 28,\n",
              "          'handkerchief': 5,\n",
              "          'gay': 17,\n",
              "          'flags': 1,\n",
              "          'nations': 12,\n",
              "          'world': 176,\n",
              "          'mortality': 1,\n",
              "          'hand': 214,\n",
              "          'others': 39,\n",
              "          'name': 67,\n",
              "          'fish': 103,\n",
              "          'tongue': 11,\n",
              "          'ignorance': 11,\n",
              "          'letter': 15,\n",
              "          'h': 2,\n",
              "          'signification': 1,\n",
              "          'word': 76,\n",
              "          'hackluyt': 3,\n",
              "          'sw': 1,\n",
              "          'dan': 4,\n",
              "          'hval': 1,\n",
              "          'animal': 11,\n",
              "          'roundness': 1,\n",
              "          'hvalt': 2,\n",
              "          'webster': 3,\n",
              "          's': 774,\n",
              "          'whale': 909,\n",
              "          'dut': 1,\n",
              "          'ger': 1,\n",
              "          'walw': 1,\n",
              "          'richardson': 1,\n",
              "          'ketos': 1,\n",
              "          'cetus': 3,\n",
              "          'latin': 4,\n",
              "          'whoel': 1,\n",
              "          'anglo': 1,\n",
              "          'saxon': 2,\n",
              "          'wal': 1,\n",
              "          'dutch': 19,\n",
              "          'hwal': 1,\n",
              "          'baleine': 1,\n",
              "          'ballena': 1,\n",
              "          'pekee': 2,\n",
              "          'nuee': 1,\n",
              "          'fegee': 1,\n",
              "          'erromangoan': 1,\n",
              "          'extracts': 6,\n",
              "          'sub': 5,\n",
              "          'burrower': 1,\n",
              "          'worm': 5,\n",
              "          'devil': 45,\n",
              "          'vaticans': 1,\n",
              "          'street': 13,\n",
              "          'stalls': 1,\n",
              "          'earth': 45,\n",
              "          'allusions': 7,\n",
              "          'whales': 256,\n",
              "          'book': 60,\n",
              "          'profane': 4,\n",
              "          'case': 72,\n",
              "          'higgledy': 1,\n",
              "          'piggledy': 1,\n",
              "          'statements': 4,\n",
              "          'gospel': 1,\n",
              "          'cetology': 10,\n",
              "          'ancient': 9,\n",
              "          'authors': 4,\n",
              "          'poets': 3,\n",
              "          'bird': 17,\n",
              "          'eye': 88,\n",
              "          'view': 43,\n",
              "          'sung': 1,\n",
              "          'leviathan': 75,\n",
              "          'generations': 6,\n",
              "          'thee': 75,\n",
              "          'commentator': 1,\n",
              "          'hopeless': 3,\n",
              "          'sallow': 1,\n",
              "          'tribe': 9,\n",
              "          'wine': 7,\n",
              "          'sherry': 1,\n",
              "          'tears': 4,\n",
              "          'eyes': 153,\n",
              "          'glasses': 10,\n",
              "          'sadness': 2,\n",
              "          'subs': 1,\n",
              "          'pains': 14,\n",
              "          'thankless': 1,\n",
              "          'court': 2,\n",
              "          'tuileries': 3,\n",
              "          'ye': 220,\n",
              "          'hie': 1,\n",
              "          'royal': 15,\n",
              "          'mast': 99,\n",
              "          'hearts': 25,\n",
              "          'friends': 15,\n",
              "          'heavens': 16,\n",
              "          'refugees': 1,\n",
              "          'gabriel': 16,\n",
              "          'michael': 1,\n",
              "          'strike': 11,\n",
              "          'god': 120,\n",
              "          'genesis': 1,\n",
              "          'path': 10,\n",
              "          'deep': 7,\n",
              "          'job': 15,\n",
              "          'lord': 56,\n",
              "          'jonah': 70,\n",
              "          'ships': 86,\n",
              "          'thou': 149,\n",
              "          'hast': 23,\n",
              "          'psalms': 2,\n",
              "          'day': 176,\n",
              "          'sore': 3,\n",
              "          'sword': 24,\n",
              "          'piercing': 2,\n",
              "          'serpent': 3,\n",
              "          'dragon': 6,\n",
              "          'sea': 435,\n",
              "          'isaiah': 2,\n",
              "          'thing': 188,\n",
              "          'soever': 1,\n",
              "          'cometh': 1,\n",
              "          'chaos': 4,\n",
              "          'monster': 48,\n",
              "          'boat': 332,\n",
              "          'swallow': 3,\n",
              "          'perisheth': 1,\n",
              "          'bottomless': 6,\n",
              "          'gulf': 6,\n",
              "          'paunch': 2,\n",
              "          'holland': 6,\n",
              "          'plutarch': 1,\n",
              "          'fishes': 4,\n",
              "          'whirlpooles': 1,\n",
              "          'balaene': 1,\n",
              "          'length': 70,\n",
              "          'acres': 3,\n",
              "          'arpens': 1,\n",
              "          'land': 71,\n",
              "          'pliny': 6,\n",
              "          'days': 82,\n",
              "          'sunrise': 11,\n",
              "          'monsters': 9,\n",
              "          'size': 12,\n",
              "          'towards': 45,\n",
              "          'waves': 44,\n",
              "          'sides': 28,\n",
              "          'tooke': 1,\n",
              "          'history': 23,\n",
              "          'country': 25,\n",
              "          'horse': 27,\n",
              "          'bones': 49,\n",
              "          'value': 6,\n",
              "          'teeth': 44,\n",
              "          'yards': 27,\n",
              "          'narrative': 5,\n",
              "          'mouth': 57,\n",
              "          'd': 33,\n",
              "          'things': 132,\n",
              "          'beast': 3,\n",
              "          'vessel': 54,\n",
              "          'enter': 5,\n",
              "          'gudgeon': 1,\n",
              "          'security': 3,\n",
              "          'sleeps': 3,\n",
              "          'apology': 1,\n",
              "          'raimond': 1,\n",
              "          'sebond': 1,\n",
              "          'prophet': 16,\n",
              "          'moses': 2,\n",
              "          'life': 174,\n",
              "          'rabelais': 2,\n",
              "          'liver': 4,\n",
              "          'cartloads': 1,\n",
              "          'annals': 3,\n",
              "          'seas': 83,\n",
              "          'pan': 4,\n",
              "          'bacon': 1,\n",
              "          'version': 2,\n",
              "          'bulk': 29,\n",
              "          'ork': 1,\n",
              "          'nothing': 115,\n",
              "          'fat': 4,\n",
              "          'insomuch': 1,\n",
              "          'quantity': 13,\n",
              "          'oil': 90,\n",
              "          'death': 90,\n",
              "          'bruise': 1,\n",
              "          'hamlet': 1,\n",
              "          'skill': 9,\n",
              "          'leach': 1,\n",
              "          'art': 27,\n",
              "          'mote': 1,\n",
              "          'againe': 1,\n",
              "          'wound': 16,\n",
              "          'worker': 1,\n",
              "          'dart': 18,\n",
              "          'breast': 6,\n",
              "          'paine': 1,\n",
              "          'flies': 4,\n",
              "          'maine': 1,\n",
              "          'faerie': 1,\n",
              "          'immense': 2,\n",
              "          'motion': 17,\n",
              "          'bodies': 9,\n",
              "          'calm': 28,\n",
              "          'trouble': 11,\n",
              "          'ocean': 55,\n",
              "          'william': 3,\n",
              "          'preface': 1,\n",
              "          'spermacetti': 1,\n",
              "          'men': 244,\n",
              "          'hosmannus': 1,\n",
              "          'work': 48,\n",
              "          'years': 96,\n",
              "          'quid': 1,\n",
              "          'sit': 4,\n",
              "          'sir': 108,\n",
              "          't': 135,\n",
              "          'browne': 5,\n",
              "          'ceti': 3,\n",
              "          'v': 5,\n",
              "          'e': 17,\n",
              "          'spencer': 1,\n",
              "          'talus': 1,\n",
              "          'flail': 1,\n",
              "          'ruin': 5,\n",
              "          'jav': 1,\n",
              "          'lins': 1,\n",
              "          'side': 197,\n",
              "          'grove': 3,\n",
              "          'pikes': 2,\n",
              "          'battle': 31,\n",
              "          'summer': 16,\n",
              "          'islands': 15,\n",
              "          'commonwealth': 1,\n",
              "          'state': 28,\n",
              "          'civitas': 1,\n",
              "          'man': 527,\n",
              "          'sentence': 1,\n",
              "          'hobbes': 1,\n",
              "          'sprat': 1,\n",
              "          'pilgrim': 3,\n",
              "          'progress': 5,\n",
              "          'works': 13,\n",
              "          'stream': 11,\n",
              "          'paradise': 5,\n",
              "          'hugest': 2,\n",
              "          'living': 48,\n",
              "          'creatures': 33,\n",
              "          'stretched': 1,\n",
              "          'swims': 3,\n",
              "          'gills': 4,\n",
              "          'breath': 18,\n",
              "          'ibid': 1,\n",
              "          'mighty': 24,\n",
              "          'water': 190,\n",
              "          'swimming': 5,\n",
              "          'prey': 12,\n",
              "          'chance': 46,\n",
              "          'fry': 2,\n",
              "          'gaping': 2,\n",
              "          'jaws': 29,\n",
              "          'way': 271,\n",
              "          'annus': 1,\n",
              "          'mirabilis': 1,\n",
              "          'stern': 29,\n",
              "          'ship': 498,\n",
              "          'head': 337,\n",
              "          'tow': 7,\n",
              "          'shore': 19,\n",
              "          'twelve': 7,\n",
              "          'feet': 127,\n",
              "          'thomas': 2,\n",
              "          'edge': 8,\n",
              "          'ten': 11,\n",
              "          'purchas': 3,\n",
              "          'wantonness': 1,\n",
              "          'pipes': 8,\n",
              "          'vents': 1,\n",
              "          'nature': 41,\n",
              "          'shoulders': 12,\n",
              "          'herbert': 1,\n",
              "          'voyages': 16,\n",
              "          'asia': 4,\n",
              "          'harris': 5,\n",
              "          'coll': 2,\n",
              "          'troops': 2,\n",
              "          'deal': 12,\n",
              "          'caution': 2,\n",
              "          'fear': 21,\n",
              "          'circumnavigation': 3,\n",
              "          'sail': 64,\n",
              "          'elbe': 1,\n",
              "          'wind': 61,\n",
              "          'jonas': 3,\n",
              "          'masts': 24,\n",
              "          'discoverer': 2,\n",
              "          'ducat': 1,\n",
              "          'shetland': 2,\n",
              "          'barrel': 5,\n",
              "          'herrings': 1,\n",
              "          'harpooneers': 55,\n",
              "          'spitzbergen': 3,\n",
              "          'voyage': 102,\n",
              "          'coast': 42,\n",
              "          'fife': 2,\n",
              "          'eighty': 1,\n",
              "          'bone': 50,\n",
              "          'kind': 27,\n",
              "          'weight': 16,\n",
              "          'baleen': 10,\n",
              "          'gate': 4,\n",
              "          'garden': 5,\n",
              "          'pitferren': 1,\n",
              "          'sibbald': 3,\n",
              "          'sort': 151,\n",
              "          'fierceness': 1,\n",
              "          'richard': 1,\n",
              "          'strafford': 1,\n",
              "          'bermudas': 1,\n",
              "          'phil': 1,\n",
              "          'voice': 48,\n",
              "          'obey': 1,\n",
              "          'primer': 1,\n",
              "          'abundance': 4,\n",
              "          'northward': 4,\n",
              "          'globe': 24,\n",
              "          'smell': 7,\n",
              "          'disorder': 1,\n",
              "          'south': 6,\n",
              "          'america': 8,\n",
              "          'sylphs': 1,\n",
              "          'note': 5,\n",
              "          'charge': 10,\n",
              "          'petticoat': 1,\n",
              "          'fence': 1,\n",
              "          'tho': 1,\n",
              "          'stuffed': 1,\n",
              "          'hoops': 9,\n",
              "          'ribs': 19,\n",
              "          'rape': 1,\n",
              "          'lock': 7,\n",
              "          'animals': 5,\n",
              "          'respect': 15,\n",
              "          'abode': 2,\n",
              "          'comparison': 6,\n",
              "          'creation': 7,\n",
              "          'goldsmith': 2,\n",
              "          'hist': 6,\n",
              "          'wales': 2,\n",
              "          'johnson': 4,\n",
              "          'afternoon': 10,\n",
              "          'rock': 13,\n",
              "          'asiatics': 2,\n",
              "          'order': 64,\n",
              "          'venture': 5,\n",
              "          'dread': 7,\n",
              "          'names': 13,\n",
              "          'carry': 1,\n",
              "          'dung': 1,\n",
              "          'lime': 1,\n",
              "          'stone': 17,\n",
              "          'juniper': 1,\n",
              "          'wood': 36,\n",
              "          'articles': 11,\n",
              "          'boats': 144,\n",
              "          'approach': 4,\n",
              "          'troil': 1,\n",
              "          'letters': 11,\n",
              "          'banks': 7,\n",
              "          'solander': 1,\n",
              "          'nantuckois': 1,\n",
              "          'fierce': 5,\n",
              "          'address': 1,\n",
              "          'boldness': 2,\n",
              "          'fishermen': 28,\n",
              "          'jefferson': 1,\n",
              "          'memorial': 1,\n",
              "          'minister': 1,\n",
              "          'reference': 14,\n",
              "          'parliament': 3,\n",
              "          'nantucket': 80,\n",
              "          'fishery': 65,\n",
              "          'spain': 4,\n",
              "          'shores': 6,\n",
              "          'europe': 5,\n",
              "          'edmund': 1,\n",
              "          'burke': 1,\n",
              "          'branch': 4,\n",
              "          'king': 35,\n",
              "          'revenue': 2,\n",
              "          'consideration': 8,\n",
              "          'guarding': 1,\n",
              "          'pirates': 8,\n",
              "          'robbers': 1,\n",
              "          'sturgeon': 3,\n",
              "          'ashore': 8,\n",
              "          'caught': 5,\n",
              "          'property': 7,\n",
              "          'blackstone': 3,\n",
              "          'sport': 3,\n",
              "          'crews': 15,\n",
              "          'o': 17,\n",
              "          'steel': 33,\n",
              "          'turn': 23,\n",
              "          'shipwreck': 2,\n",
              "          'roofs': 1,\n",
              "          'domes': 1,\n",
              "          'spires': 6,\n",
              "          'rockets': 1,\n",
              "          'fire': 71,\n",
              "          'vault': 3,\n",
              "          'heaven': 21,\n",
              "          'serves': 1,\n",
              "          'air': 142,\n",
              "          'joy': 15,\n",
              "          'cowper': 1,\n",
              "          'visit': 5,\n",
              "          'gallons': 5,\n",
              "          'blood': 62,\n",
              "          'stroke': 15,\n",
              "          'velocity': 10,\n",
              "          'john': 12,\n",
              "          'hunter': 20,\n",
              "          'account': 25,\n",
              "          'dissection': 1,\n",
              "          'aorta': 1,\n",
              "          'bore': 2,\n",
              "          'pipe': 38,\n",
              "          'london': 9,\n",
              "          'bridge': 2,\n",
              "          'roaring': 5,\n",
              "          'passage': 34,\n",
              "          'impetus': 2,\n",
              "          'gushing': 1,\n",
              "          'paley': 1,\n",
              "          'cuvier': 11,\n",
              "          'degrees': 5,\n",
              "          'purpose': 32,\n",
              "          'element': 11,\n",
              "          'play': 22,\n",
              "          'chace': 5,\n",
              "          'colour': 15,\n",
              "          'form': 35,\n",
              "          'language': 6,\n",
              "          'cannot': 16,\n",
              "          'paint': 4,\n",
              "          'mariner': 16,\n",
              "          'millions': 7,\n",
              "          'wave': 6,\n",
              "          'gather': 2,\n",
              "          'shoals': 8,\n",
              "          'instincts': 1,\n",
              "          'waste': 3,\n",
              "          'region': 5,\n",
              "          'enemies': 2,\n",
              "          'sharks': 49,\n",
              "          'front': 22,\n",
              "          'jaw': 57,\n",
              "          'swords': 2,\n",
              "          'horns': 7,\n",
              "          'fangs': 3,\n",
              "          'montgomery': 1,\n",
              "          'flood': 15,\n",
              "          'io': 1,\n",
              "          'people': 46,\n",
              "          'atlantic': 7,\n",
              "          'fatter': 1,\n",
              "          'charles': 1,\n",
              "          'triumph': 4,\n",
              "          'year': 27,\n",
              "          'persons': 6,\n",
              "          'hill': 16,\n",
              "          'pasture': 4,\n",
              "          'children': 18,\n",
              "          'bread': 15,\n",
              "          'macy': 2,\n",
              "          'cottage': 3,\n",
              "          'gateway': 2,\n",
              "          'arch': 5,\n",
              "          'tales': 6,\n",
              "          'monument': 2,\n",
              "          'love': 16,\n",
              "          'tom': 3,\n",
              "          'sprout': 1,\n",
              "          'pair': 12,\n",
              "          'rainbows': 3,\n",
              "          'christian': 4,\n",
              "          'butt': 4,\n",
              "          'cooper': 6,\n",
              "          'pilot': 27,\n",
              "          'papers': 10,\n",
              "          'berlin': 1,\n",
              "          'gazette': 1,\n",
              "          'stage': 10,\n",
              "          'conversations': 1,\n",
              "          'matter': 86,\n",
              "          'essex': 3,\n",
              "          'mate': 78,\n",
              "          'york': 6,\n",
              "          'sat': 6,\n",
              "          'shrouds': 8,\n",
              "          'night': 150,\n",
              "          'phospher': 1,\n",
              "          'wake': 36,\n",
              "          'elizabeth': 1,\n",
              "          'oakes': 1,\n",
              "          'line': 158,\n",
              "          'withdrawn': 2,\n",
              "          'capture': 10,\n",
              "          'miles': 32,\n",
              "          'tail': 72,\n",
              "          'whip': 7,\n",
              "          'distance': 39,\n",
              "          'agonies': 1,\n",
              "          'attacks': 3,\n",
              "          'rolls': 8,\n",
              "          'snaps': 1,\n",
              "          'everything': 20,\n",
              "          'swiftness': 5,\n",
              "          'astonishment': 5,\n",
              "          'habits': 4,\n",
              "          'point': 66,\n",
              "          'curiosity': 10,\n",
              "          'observers': 1,\n",
              "          'opportunities': 1,\n",
              "          'habitudes': 1,\n",
              "          'cachalot': 4,\n",
              "          'greenland': 34,\n",
              "          'weapon': 9,\n",
              "          'extremity': 9,\n",
              "          'disposition': 3,\n",
              "          'weapons': 8,\n",
              "          'manner': 37,\n",
              "          'bold': 2,\n",
              "          'species': 30,\n",
              "          'frederick': 5,\n",
              "          'debell': 1,\n",
              "          'bennett': 4,\n",
              "          'october': 1,\n",
              "          'captain': 275,\n",
              "          'points': 14,\n",
              "          'lee': 13,\n",
              "          'bow': 39,\n",
              "          'wheel': 6,\n",
              "          'ahoy': 5,\n",
              "          'ay': 2,\n",
              "          'shoal': 8,\n",
              "          'time': 334,\n",
              "          'bowes': 1,\n",
              "          'bo': 2,\n",
              "          'thunder': 26,\n",
              "          'call': 11,\n",
              "          'ross': 3,\n",
              "          'etchings': 1,\n",
              "          'whaling': 42,\n",
              "          'board': 74,\n",
              "          'transactions': 1,\n",
              "          'island': 33,\n",
              "          'lay': 21,\n",
              "          'hussey': 15,\n",
              "          'survivors': 1,\n",
              "          'assault': 3,\n",
              "          'lance': 44,\n",
              "          'onset': 6,\n",
              "          'journal': 1,\n",
              "          'tyerman': 1,\n",
              "          'mr': 23,\n",
              "          'portion': 4,\n",
              "          'interest': 18,\n",
              "          'population': 3,\n",
              "          'wealth': 3,\n",
              "          'industry': 3,\n",
              "          'report': 5,\n",
              "          'speech': 4,\n",
              "          'senate': 2,\n",
              "          'application': 6,\n",
              "          'erection': 2,\n",
              "          'breakwater': 1,\n",
              "          'moment': 105,\n",
              "          'captors': 1,\n",
              "          'adventures': 5,\n",
              "          'biography': 1,\n",
              "          'homeward': 7,\n",
              "          'cruise': 7,\n",
              "          'commodore': 9,\n",
              "          'rev': 2,\n",
              "          'henry': 2,\n",
              "          'cheever': 2,\n",
              "          'bit': 25,\n",
              "          'noise': 12,\n",
              "          'samuel': 11,\n",
              "          'comstock': 2,\n",
              "          'mutineer': 3,\n",
              "          'brother': 12,\n",
              "          'object': 30,\n",
              "          'haunts': 3,\n",
              "          'mcculloch': 1,\n",
              "          'dictionary': 1,\n",
              "          'ball': 12,\n",
              "          'whalemen': 67,\n",
              "          'clews': 1,\n",
              "          'north': 6,\n",
              "          'something': 123,\n",
              "          'appearance': 11,\n",
              "          'look': 107,\n",
              "          'outs': 7,\n",
              "          'heads': 81,\n",
              "          'expanse': 3,\n",
              "          'currents': 8,\n",
              "          'ex': 2,\n",
              "          'pedestrians': 1,\n",
              "          'vicinity': 19,\n",
              "          'arches': 2,\n",
              "          'gateways': 1,\n",
              "          'entrances': 2,\n",
              "          'alcoves': 1,\n",
              "          'voyager': 4,\n",
              "          'pursuit': 24,\n",
              "          'whites': 2,\n",
              "          'possession': 11,\n",
              "          'savages': 9,\n",
              "          'crew': 133,\n",
              "          'newspaper': 2,\n",
              "          'taking': 1,\n",
              "          'retaking': 1,\n",
              "          'hobomack': 1,\n",
              "          'vessels': 26,\n",
              "          'mass': 39,\n",
              "          'shot': 19,\n",
              "          'while': 23,\n",
              "          'miriam': 3,\n",
              "          'coffin': 52,\n",
              "          'fisherman': 3,\n",
              "          'colt': 8,\n",
              "          'appliance': 1,\n",
              "          'rope': 57,\n",
              "          'root': 4,\n",
              "          'chapter': 155,\n",
              "          'trucks': 5,\n",
              "          'occasion': 9,\n",
              "          'throw': 3,\n",
              "          'terra': 3,\n",
              "          'del': 1,\n",
              "          'fuego': 1,\n",
              "          'beech': 2,\n",
              "          'tree': 19,\n",
              "          'branches': 5,\n",
              "          'close': 5,\n",
              "          'destruction': 7,\n",
              "          'lives': 14,\n",
              "          'killer': 6,\n",
              "          'lads': 13,\n",
              "          'harpooneer': 78,\n",
              "          'song': 8,\n",
              "          'mid': 5,\n",
              "          'storm': 31,\n",
              "          'gale': 26,\n",
              "          'home': 51,\n",
              "          'boundless': 5,\n",
              "          'loomings': 1,\n",
              "          'money': 12,\n",
              "          'purse': 6,\n",
              "          'part': 149,\n",
              "          'spleen': 1,\n",
              "          'circulation': 1,\n",
              "          'drizzly': 1,\n",
              "          'november': 2,\n",
              "          'soul': 82,\n",
              "          'warehouses': 2,\n",
              "          'rear': 19,\n",
              "          'meet': 2,\n",
              "          'hypos': 1,\n",
              "          'principle': 9,\n",
              "          'hats': 4,\n",
              "          'substitute': 3,\n",
              "          'pistol': 5,\n",
              "          'cato': 1,\n",
              "          'surprising': 2,\n",
              "          'degree': 26,\n",
              "          'feelings': 6,\n",
              "          'city': 14,\n",
              "          'manhattoes': 1,\n",
              "          'round': 127,\n",
              "          'wharves': 4,\n",
              "          'isles': 15,\n",
              "          'reefs': 1,\n",
              "          'commerce': 6,\n",
              "          'surf': 5,\n",
              "          'right': 25,\n",
              "          'streets': 15,\n",
              "          'downtown': 1,\n",
              "          'battery': 3,\n",
              "          'mole': 3,\n",
              "          'breezes': 3,\n",
              "          'hours': 42,\n",
              "          'sight': 93,\n",
              "          'crowds': 3,\n",
              "          'gazers': 1,\n",
              "          'sabbath': 4,\n",
              "          'corlears': 1,\n",
              "          'coenties': 1,\n",
              "          'slip': 1,\n",
              "          'thence': 7,\n",
              "          'sentinels': 1,\n",
              "          'town': 35,\n",
              "          'stand': 24,\n",
              "          'thousands': 16,\n",
              "          'reveries': 6,\n",
              "          'spiles': 1,\n",
              "          'pier': 1,\n",
              "          'bulwarks': 37,\n",
              "          'china': 4,\n",
              "          'rigging': 20,\n",
              "          'peep': 6,\n",
              "          'landsmen': 10,\n",
              "          'week': 5,\n",
              "          'lath': 1,\n",
              "          'plaster': 3,\n",
              "          'counters': 1,\n",
              "          'benches': 2,\n",
              "          'fields': 8,\n",
              "          'pacing': 4,\n",
              "          'straight': 8,\n",
              "          'strange': 6,\n",
              "          'limit': 5,\n",
              "          'yonder': 9,\n",
              "          'inlanders': 1,\n",
              "          'lanes': 1,\n",
              "          'alleys': 1,\n",
              "          'avenues': 3,\n",
              "          'west': 8,\n",
              "          'virtue': 19,\n",
              "          'needles': 11,\n",
              "          'compasses': 8,\n",
              "          'lakes': 3,\n",
              "          'dale': 1,\n",
              "          'pool': 5,\n",
              "          'deepest': 2,\n",
              "          'legs': 32,\n",
              "          'desert': 6,\n",
              "          'try': 26,\n",
              "          'caravan': 2,\n",
              "          'professor': 4,\n",
              "          'meditation': 4,\n",
              "          'artist': 4,\n",
              "          'shadiest': 1,\n",
              "          'quietest': 1,\n",
              "          'landscape': 3,\n",
              "          'valley': 6,\n",
              "          'saco': 1,\n",
              "          'trees': 14,\n",
              "          'trunk': 17,\n",
              "          'hermit': 3,\n",
              "          'crucifix': 1,\n",
              "          'meadow': 4,\n",
              "          'cattle': 6,\n",
              "          'smoke': 26,\n",
              "          'woodlands': 2,\n",
              "          'spurs': 2,\n",
              "          'mountains': 12,\n",
              "          'blue': 17,\n",
              "          'picture': 19,\n",
              "          'pine': 7,\n",
              "          'sighs': 2,\n",
              "          'leaves': 8,\n",
              "          'shepherd': 2,\n",
              "          'prairies': 6,\n",
              "          'june': 2,\n",
              "          'scores': 4,\n",
              "          'lilies': 2,\n",
              "          'charm': 6,\n",
              "          'wanting': 2,\n",
              "          'drop': 12,\n",
              "          'niagara': 1,\n",
              "          'cataract': 2,\n",
              "          'sand': 11,\n",
              "          'thousand': 18,\n",
              "          'poet': 2,\n",
              "          'tennessee': 1,\n",
              "          'handfuls': 4,\n",
              "          'silver': 10,\n",
              "          'deliberate': 3,\n",
              "          'coat': 27,\n",
              "          'trip': 4,\n",
              "          'beach': 14,\n",
              "          'boy': 50,\n",
              "          'crazy': 2,\n",
              "          'passenger': 5,\n",
              "          'vibration': 5,\n",
              "          'persians': 1,\n",
              "          'holy': 11,\n",
              "          'greeks': 2,\n",
              "          'deity': 4,\n",
              "          'jove': 7,\n",
              "          'meaning': 8,\n",
              "          'story': 49,\n",
              "          'narcissus': 1,\n",
              "          'tormenting': 2,\n",
              "          'image': 11,\n",
              "          'fountain': 9,\n",
              "          'rivers': 3,\n",
              "          'oceans': 16,\n",
              "          'phantom': 14,\n",
              "          'key': 5,\n",
              "          'habit': 2,\n",
              "          'hazy': 1,\n",
              "          'lungs': 16,\n",
              "          'needs': 4,\n",
              "          'rag': 2,\n",
              "          'passengers': 5,\n",
              "          'grow': 2,\n",
              "          'quarrelsome': 1,\n",
              "          'don': 49,\n",
              "          'sleep': 17,\n",
              "          'nights': 11,\n",
              "          'salt': 7,\n",
              "          'cook': 33,\n",
              "          'glory': 18,\n",
              "          'distinction': 4,\n",
              "          'offices': 1,\n",
              "          'toils': 1,\n",
              "          'trials': 1,\n",
              "          'tribulations': 2,\n",
              "          'care': 13,\n",
              "          'barques': 1,\n",
              "          'schooners': 1,\n",
              "          'confess': 6,\n",
              "          'officer': 15,\n",
              "          'fowls': 8,\n",
              "          'one': 41,\n",
              "          'fowl': 10,\n",
              "          'dotings': 1,\n",
              "          'egyptians': 4,\n",
              "          'ibis': 1,\n",
              "          'river': 7,\n",
              "          'mummies': 2,\n",
              "          'bake': 1,\n",
              "          'houses': 9,\n",
              "          'pyramids': 3,\n",
              "          'sailor': 78,\n",
              "          'jump': 8,\n",
              "          'spar': 8,\n",
              "          'grasshopper': 2,\n",
              "          'sense': 14,\n",
              "          'honour': 19,\n",
              "          'family': 12,\n",
              "          'van': 5,\n",
              "          'rensselaers': 1,\n",
              "          'randolphs': 1,\n",
              "          'hardicanutes': 1,\n",
              "          'tar': 9,\n",
              "          'pot': 9,\n",
              "          'schoolmaster': 6,\n",
              "          'awe': 10,\n",
              "          'transition': 5,\n",
              "          'assure': 3,\n",
              "          'decoction': 1,\n",
              "          'seneca': 1,\n",
              "          'stoics': 1,\n",
              "          'hunks': 3,\n",
              "          'orders': 24,\n",
              "          'broom': 3,\n",
              "          'decks': 20,\n",
              "          'indignity': 2,\n",
              "          'amount': 3,\n",
              "          'mean': 7,\n",
              "          'scales': 5,\n",
              "          'testament': 1,\n",
              "          'archangel': 5,\n",
              "          'anything': 43,\n",
              "          'instance': 18,\n",
              "          'slave': 5,\n",
              "          'tell': 10,\n",
              "          'captains': 22,\n",
              "          'satisfaction': 4,\n",
              "          'everybody': 7,\n",
              "          'thump': 4,\n",
              "          'hands': 117,\n",
              "          'shoulder': 11,\n",
              "          'blades': 7,\n",
              "          'penny': 4,\n",
              "          'difference': 18,\n",
              "          'act': 28,\n",
              "          'infliction': 1,\n",
              "          'orchard': 2,\n",
              "          'thieves': 2,\n",
              "          'activity': 9,\n",
              "          'ills': 1,\n",
              "          'exercise': 3,\n",
              "          'pure': 5,\n",
              "          'fore': 13,\n",
              "          'castle': 4,\n",
              "          'deck': 189,\n",
              "          'winds': 17,\n",
              "          'maxim': 3,\n",
              "          'quarter': 47,\n",
              "          'atmosphere': 5,\n",
              "          'sailors': 52,\n",
              "          'forecastle': 24,\n",
              "          'commonalty': 1,\n",
              "          'leaders': 2,\n",
              "          'merchant': 16,\n",
              "          'fates': 6,\n",
              "          'surveillance': 1,\n",
              "          'dogs': 7,\n",
              "          'influences': 7,\n",
              "          'programme': 1,\n",
              "          'providence': 3,\n",
              "          'brief': 4,\n",
              "          'interlude': 4,\n",
              "          'solo': 1,\n",
              "          'performances': 3,\n",
              "          'bill': 8,\n",
              "          'election': 1,\n",
              "          'presidency': 1,\n",
              "          'states': 6,\n",
              "          'ishmael': 12,\n",
              "          'bloody': 8,\n",
              "          'managers': 1,\n",
              "          'parts': 41,\n",
              "          'tragedies': 2,\n",
              "          'genteel': 1,\n",
              "          'comedies': 1,\n",
              "          'farces': 1,\n",
              "          'circumstances': 26,\n",
              "          'springs': 3,\n",
              "          'motives': 4,\n",
              "          'disguises': 1,\n",
              "          'delusion': 2,\n",
              "          'choice': 5,\n",
              "          'freewill': 1,\n",
              "          'judgment': 10,\n",
              "          'chief': 10,\n",
              "          'idea': 33,\n",
              "          'wild': 3,\n",
              "          'distant': 2,\n",
              "          'nameless': 4,\n",
              "          'perils': 23,\n",
              "          'marvels': 8,\n",
              "          'sights': 11,\n",
              "          'inducements': 2,\n",
              "          'itch': 1,\n",
              "          'coasts': 6,\n",
              "          'horror': 11,\n",
              "          'terms': 12,\n",
              "          'inmates': 3,\n",
              "          'place': 110,\n",
              "          'reason': 64,\n",
              "          'gates': 2,\n",
              "          'wonder': 25,\n",
              "          'swung': 6,\n",
              "          'conceits': 4,\n",
              "          'processions': 3,\n",
              "          'snow': 6,\n",
              "          'carpet': 8,\n",
              "          'bag': 21,\n",
              "          'shirt': 9,\n",
              "          'arm': 87,\n",
              "          'cape': 39,\n",
              "          'horn': 27,\n",
              "          'pacific': 27,\n",
              "          'manhatto': 1,\n",
              "          'bedford': 18,\n",
              "          'december': 4,\n",
              "          'packet': 3,\n",
              "          'monday': 2,\n",
              "          'candidates': 1,\n",
              "          'penalties': 1,\n",
              "          'stop': 11,\n",
              "          'mind': 50,\n",
              "          'craft': 54,\n",
              "          'business': 68,\n",
              "          'tyre': 1,\n",
              "          'carthage': 1,\n",
              "          'canoes': 7,\n",
              "          'chase': 50,\n",
              "          'sloop': 4,\n",
              "          'cobblestones': 1,\n",
              "          'harpoon': 75,\n",
              "          'bowsprit': 7,\n",
              "          ...})"
            ]
          },
          "metadata": {
            "tags": []
          },
          "execution_count": 36
        }
      ]
    },
    {
      "cell_type": "code",
      "metadata": {
        "id": "MsVUpoZ5Esod",
        "colab_type": "code",
        "colab": {
          "base_uri": "https://localhost:8080/",
          "height": 187
        },
        "outputId": "877ede06-306c-4795-a3d3-be1c1e98d923"
      },
      "source": [
        "nouns_fd.most_common(10)\n",
        "# These are the noun words that are more common \n",
        "# occured the most number of times \n",
        "# This could help us to explain what need to be done and what exactly the paragraph says \n"
      ],
      "execution_count": 37,
      "outputs": [
        {
          "output_type": "execute_result",
          "data": {
            "text/plain": [
              "[('i', 1182),\n",
              " ('whale', 909),\n",
              " ('s', 774),\n",
              " ('man', 527),\n",
              " ('ship', 498),\n",
              " ('sea', 435),\n",
              " ('head', 337),\n",
              " ('time', 334),\n",
              " ('boat', 332),\n",
              " ('ahab', 278)]"
            ]
          },
          "metadata": {
            "tags": []
          },
          "execution_count": 37
        }
      ]
    },
    {
      "cell_type": "code",
      "metadata": {
        "id": "hs1_r03nFiBo",
        "colab_type": "code",
        "colab": {}
      },
      "source": [
        "# Multiple Parts of Speech "
      ],
      "execution_count": 0,
      "outputs": []
    },
    {
      "cell_type": "code",
      "metadata": {
        "id": "Ni9bG1zoEzOk",
        "colab_type": "code",
        "colab": {}
      },
      "source": [
        "import nltk\n",
        "alice = nltk.corpus.gutenberg.words('carroll-alice.txt')\n",
        "alice_norm = [word.lower() for word in alice if word.isalpha()]\n",
        "# alice_norm"
      ],
      "execution_count": 0,
      "outputs": []
    },
    {
      "cell_type": "code",
      "metadata": {
        "id": "Pgt_RHbgF1uB",
        "colab_type": "code",
        "colab": {
          "base_uri": "https://localhost:8080/",
          "height": 187
        },
        "outputId": "6fe4a3a1-bbb5-4af3-aeb5-1f948060b6ac"
      },
      "source": [
        "alice_tags = nltk.pos_tag(alice_norm,tagset = 'universal')\n",
        "alice_tags[:10]"
      ],
      "execution_count": 40,
      "outputs": [
        {
          "output_type": "execute_result",
          "data": {
            "text/plain": [
              "[('alice', 'NOUN'),\n",
              " ('s', 'NOUN'),\n",
              " ('adventures', 'NOUN'),\n",
              " ('in', 'ADP'),\n",
              " ('wonderland', 'NOUN'),\n",
              " ('by', 'ADP'),\n",
              " ('lewis', 'ADJ'),\n",
              " ('carroll', 'NOUN'),\n",
              " ('chapter', 'NOUN'),\n",
              " ('i', 'VERB')]"
            ]
          },
          "metadata": {
            "tags": []
          },
          "execution_count": 40
        }
      ]
    },
    {
      "cell_type": "code",
      "metadata": {
        "id": "oZc1iEkfGB7g",
        "colab_type": "code",
        "colab": {
          "base_uri": "https://localhost:8080/",
          "height": 1000
        },
        "outputId": "48f3c677-49c0-4562-e2e5-7d17cc6a9e6c"
      },
      "source": [
        "# Multiple parts of speech can be done  through Conditional Frequency Distribution \n",
        "\n",
        "alice_cfd = nltk.ConditionalFreqDist(alice_tags)\n",
        "alice_cfd"
      ],
      "execution_count": 41,
      "outputs": [
        {
          "output_type": "execute_result",
          "data": {
            "text/plain": [
              "ConditionalFreqDist(nltk.probability.FreqDist,\n",
              "                    {'alice': FreqDist({'ADJ': 27,\n",
              "                               'ADP': 3,\n",
              "                               'ADV': 74,\n",
              "                               'NOUN': 261,\n",
              "                               'PRT': 2,\n",
              "                               'VERB': 31}),\n",
              "                     's': FreqDist({'ADJ': 31,\n",
              "                               'ADV': 2,\n",
              "                               'DET': 1,\n",
              "                               'NOUN': 34,\n",
              "                               'PRON': 3,\n",
              "                               'VERB': 130}),\n",
              "                     'adventures': FreqDist({'NOUN': 7}),\n",
              "                     'in': FreqDist({'ADP': 369}),\n",
              "                     'wonderland': FreqDist({'NOUN': 3}),\n",
              "                     'by': FreqDist({'ADP': 59}),\n",
              "                     'lewis': FreqDist({'ADJ': 1}),\n",
              "                     'carroll': FreqDist({'NOUN': 1}),\n",
              "                     'chapter': FreqDist({'NOUN': 11, 'VERB': 1}),\n",
              "                     'i': FreqDist({'ADJ': 173,\n",
              "                               'ADP': 2,\n",
              "                               'ADV': 10,\n",
              "                               'NOUN': 262,\n",
              "                               'VERB': 96}),\n",
              "                     'down': FreqDist({'ADP': 9,\n",
              "                               'ADV': 36,\n",
              "                               'NOUN': 1,\n",
              "                               'PRT': 56}),\n",
              "                     'the': FreqDist({'DET': 1642}),\n",
              "                     'rabbit': FreqDist({'NOUN': 51}),\n",
              "                     'hole': FreqDist({'ADJ': 2, 'NOUN': 3}),\n",
              "                     'was': FreqDist({'VERB': 357}),\n",
              "                     'beginning': FreqDist({'NOUN': 3, 'VERB': 11}),\n",
              "                     'to': FreqDist({'PRT': 729}),\n",
              "                     'get': FreqDist({'NOUN': 1, 'VERB': 45}),\n",
              "                     'very': FreqDist({'ADV': 144}),\n",
              "                     'tired': FreqDist({'ADJ': 4, 'VERB': 3}),\n",
              "                     'of': FreqDist({'ADP': 514}),\n",
              "                     'sitting': FreqDist({'VERB': 10}),\n",
              "                     'her': FreqDist({'PRON': 248}),\n",
              "                     'sister': FreqDist({'ADJ': 1, 'NOUN': 8}),\n",
              "                     'on': FreqDist({'ADP': 193}),\n",
              "                     'bank': FreqDist({'NOUN': 3}),\n",
              "                     'and': FreqDist({'CONJ': 872}),\n",
              "                     'having': FreqDist({'VERB': 10}),\n",
              "                     'nothing': FreqDist({'NOUN': 34}),\n",
              "                     'do': FreqDist({'VERB': 81}),\n",
              "                     'once': FreqDist({'ADV': 34}),\n",
              "                     'or': FreqDist({'CONJ': 77}),\n",
              "                     'twice': FreqDist({'ADV': 4, 'VERB': 1}),\n",
              "                     'she': FreqDist({'PRON': 553}),\n",
              "                     'had': FreqDist({'VERB': 178}),\n",
              "                     'peeped': FreqDist({'VERB': 3}),\n",
              "                     'into': FreqDist({'ADP': 67}),\n",
              "                     'book': FreqDist({'NOUN': 11}),\n",
              "                     'reading': FreqDist({'VERB': 3}),\n",
              "                     'but': FreqDist({'CONJ': 170}),\n",
              "                     'it': FreqDist({'PRON': 595}),\n",
              "                     'no': FreqDist({'ADV': 2, 'DET': 88}),\n",
              "                     'pictures': FreqDist({'NOUN': 4}),\n",
              "                     'conversations': FreqDist({'NOUN': 1}),\n",
              "                     'what': FreqDist({'DET': 2, 'PRON': 139}),\n",
              "                     'is': FreqDist({'VERB': 108}),\n",
              "                     'use': FreqDist({'NOUN': 17, 'VERB': 1}),\n",
              "                     'a': FreqDist({'DET': 632}),\n",
              "                     'thought': FreqDist({'ADJ': 10,\n",
              "                               'NOUN': 9,\n",
              "                               'PRT': 1,\n",
              "                               'VERB': 54}),\n",
              "                     'without': FreqDist({'ADP': 26}),\n",
              "                     'conversation': FreqDist({'NOUN': 10}),\n",
              "                     'so': FreqDist({'ADP': 34, 'ADV': 117}),\n",
              "                     'considering': FreqDist({'VERB': 3}),\n",
              "                     'own': FreqDist({'ADJ': 10}),\n",
              "                     'mind': FreqDist({'ADP': 1, 'NOUN': 8, 'VERB': 2}),\n",
              "                     'as': FreqDist({'ADP': 213, 'ADV': 50}),\n",
              "                     'well': FreqDist({'ADV': 51, 'NOUN': 11, 'VERB': 1}),\n",
              "                     'could': FreqDist({'VERB': 77}),\n",
              "                     'for': FreqDist({'ADP': 153}),\n",
              "                     'hot': FreqDist({'ADJ': 7}),\n",
              "                     'day': FreqDist({'NOUN': 29}),\n",
              "                     'made': FreqDist({'VERB': 30}),\n",
              "                     'feel': FreqDist({'ADJ': 1, 'VERB': 7}),\n",
              "                     'sleepy': FreqDist({'ADJ': 4, 'NOUN': 1}),\n",
              "                     'stupid': FreqDist({'ADJ': 5, 'NOUN': 1}),\n",
              "                     'whether': FreqDist({'ADP': 11}),\n",
              "                     'pleasure': FreqDist({'NOUN': 2}),\n",
              "                     'making': FreqDist({'VERB': 8}),\n",
              "                     'daisy': FreqDist({'NOUN': 1}),\n",
              "                     'chain': FreqDist({'NOUN': 1}),\n",
              "                     'would': FreqDist({'VERB': 83}),\n",
              "                     'be': FreqDist({'VERB': 148}),\n",
              "                     'worth': FreqDist({'ADJ': 2, 'ADP': 2}),\n",
              "                     'trouble': FreqDist({'NOUN': 6}),\n",
              "                     'getting': FreqDist({'VERB': 22}),\n",
              "                     'up': FreqDist({'ADP': 6, 'ADV': 28, 'PRT': 66}),\n",
              "                     'picking': FreqDist({'VERB': 2}),\n",
              "                     'daisies': FreqDist({'NOUN': 1}),\n",
              "                     'when': FreqDist({'ADV': 79}),\n",
              "                     'suddenly': FreqDist({'ADV': 13}),\n",
              "                     'white': FreqDist({'ADJ': 30}),\n",
              "                     'with': FreqDist({'ADP': 180}),\n",
              "                     'pink': FreqDist({'ADJ': 1}),\n",
              "                     'eyes': FreqDist({'NOUN': 29}),\n",
              "                     'ran': FreqDist({'VERB': 16}),\n",
              "                     'close': FreqDist({'ADJ': 5, 'ADV': 7, 'NOUN': 1}),\n",
              "                     'there': FreqDist({'ADV': 17, 'DET': 82}),\n",
              "                     'remarkable': FreqDist({'ADJ': 2}),\n",
              "                     'that': FreqDist({'ADP': 191, 'DET': 124}),\n",
              "                     'nor': FreqDist({'CONJ': 3}),\n",
              "                     'did': FreqDist({'VERB': 63}),\n",
              "                     'think': FreqDist({'NOUN': 1, 'VERB': 52}),\n",
              "                     'much': FreqDist({'ADJ': 33, 'ADV': 18}),\n",
              "                     'out': FreqDist({'ADP': 43, 'ADV': 3, 'PRT': 71}),\n",
              "                     'way': FreqDist({'NOUN': 56}),\n",
              "                     'hear': FreqDist({'VERB': 14}),\n",
              "                     'say': FreqDist({'VERB': 51}),\n",
              "                     'itself': FreqDist({'PRON': 14}),\n",
              "                     'oh': FreqDist({'ADJ': 8,\n",
              "                               'ADP': 12,\n",
              "                               'ADV': 2,\n",
              "                               'NOUN': 7,\n",
              "                               'PRT': 2,\n",
              "                               'VERB': 11,\n",
              "                               'X': 3}),\n",
              "                     'dear': FreqDist({'ADJ': 12,\n",
              "                               'ADP': 1,\n",
              "                               'ADV': 1,\n",
              "                               'NOUN': 12,\n",
              "                               'VERB': 3}),\n",
              "                     'shall': FreqDist({'VERB': 25}),\n",
              "                     'late': FreqDist({'ADJ': 4, 'ADV': 2}),\n",
              "                     'over': FreqDist({'ADP': 31, 'ADV': 4, 'PRT': 5}),\n",
              "                     'afterwards': FreqDist({'NOUN': 2}),\n",
              "                     'occurred': FreqDist({'VERB': 2}),\n",
              "                     'ought': FreqDist({'VERB': 14}),\n",
              "                     'have': FreqDist({'VERB': 80}),\n",
              "                     'wondered': FreqDist({'VERB': 1}),\n",
              "                     'at': FreqDist({'ADP': 212}),\n",
              "                     'this': FreqDist({'DET': 134}),\n",
              "                     'time': FreqDist({'NOUN': 71}),\n",
              "                     'all': FreqDist({'DET': 181, 'VERB': 1}),\n",
              "                     'seemed': FreqDist({'VERB': 27}),\n",
              "                     'quite': FreqDist({'ADJ': 1,\n",
              "                               'ADV': 51,\n",
              "                               'DET': 1,\n",
              "                               'NOUN': 1,\n",
              "                               'VERB': 1}),\n",
              "                     'natural': FreqDist({'ADJ': 4}),\n",
              "                     'actually': FreqDist({'ADV': 1}),\n",
              "                     'took': FreqDist({'VERB': 24}),\n",
              "                     'watch': FreqDist({'NOUN': 6, 'VERB': 2}),\n",
              "                     'its': FreqDist({'PRON': 57}),\n",
              "                     'waistcoat': FreqDist({'NOUN': 2}),\n",
              "                     'pocket': FreqDist({'NOUN': 6, 'VERB': 1}),\n",
              "                     'looked': FreqDist({'VERB': 45}),\n",
              "                     'then': FreqDist({'ADV': 94}),\n",
              "                     'hurried': FreqDist({'ADJ': 3, 'VERB': 8}),\n",
              "                     'started': FreqDist({'VERB': 2}),\n",
              "                     'feet': FreqDist({'NOUN': 19}),\n",
              "                     'flashed': FreqDist({'VERB': 1}),\n",
              "                     'across': FreqDist({'ADP': 5}),\n",
              "                     'never': FreqDist({'ADV': 48}),\n",
              "                     'before': FreqDist({'ADP': 33, 'ADV': 5}),\n",
              "                     'seen': FreqDist({'VERB': 15}),\n",
              "                     'either': FreqDist({'CONJ': 7, 'DET': 3}),\n",
              "                     'take': FreqDist({'ADJ': 1, 'VERB': 21}),\n",
              "                     'burning': FreqDist({'VERB': 1}),\n",
              "                     'curiosity': FreqDist({'NOUN': 5}),\n",
              "                     'field': FreqDist({'NOUN': 1}),\n",
              "                     'after': FreqDist({'ADP': 43}),\n",
              "                     'fortunately': FreqDist({'ADV': 1}),\n",
              "                     'just': FreqDist({'ADV': 52}),\n",
              "                     'see': FreqDist({'NOUN': 1, 'VERB': 66}),\n",
              "                     'pop': FreqDist({'VERB': 1}),\n",
              "                     'large': FreqDist({'ADJ': 33}),\n",
              "                     'under': FreqDist({'ADP': 16}),\n",
              "                     'hedge': FreqDist({'NOUN': 2}),\n",
              "                     'another': FreqDist({'DET': 22}),\n",
              "                     'moment': FreqDist({'NOUN': 31}),\n",
              "                     'went': FreqDist({'VERB': 83}),\n",
              "                     'how': FreqDist({'ADV': 68}),\n",
              "                     'world': FreqDist({'NOUN': 7}),\n",
              "                     'again': FreqDist({'ADV': 83}),\n",
              "                     'straight': FreqDist({'ADV': 2}),\n",
              "                     'like': FreqDist({'ADJ': 1, 'ADP': 71, 'VERB': 13}),\n",
              "                     'tunnel': FreqDist({'NOUN': 1}),\n",
              "                     'some': FreqDist({'DET': 51}),\n",
              "                     'dipped': FreqDist({'VERB': 2}),\n",
              "                     'not': FreqDist({'ADV': 145}),\n",
              "                     'about': FreqDist({'ADP': 86, 'ADV': 7, 'NOUN': 1}),\n",
              "                     'stopping': FreqDist({'VERB': 1}),\n",
              "                     'herself': FreqDist({'NOUN': 3, 'PRON': 37, 'VERB': 43}),\n",
              "                     'found': FreqDist({'ADP': 1, 'VERB': 31}),\n",
              "                     'falling': FreqDist({'VERB': 2}),\n",
              "                     'deep': FreqDist({'ADJ': 6, 'ADV': 1}),\n",
              "                     'fell': FreqDist({'VERB': 6}),\n",
              "                     'slowly': FreqDist({'ADV': 8}),\n",
              "                     'plenty': FreqDist({'NOUN': 2}),\n",
              "                     'look': FreqDist({'NOUN': 15, 'VERB': 14}),\n",
              "                     'wonder': FreqDist({'NOUN': 4, 'VERB': 14}),\n",
              "                     'going': FreqDist({'VERB': 27}),\n",
              "                     'happen': FreqDist({'VERB': 8}),\n",
              "                     'next': FreqDist({'ADJ': 20,\n",
              "                               'ADP': 5,\n",
              "                               'ADV': 4,\n",
              "                               'VERB': 1}),\n",
              "                     'first': FreqDist({'ADJ': 35, 'ADV': 15, 'VERB': 1}),\n",
              "                     'tried': FreqDist({'VERB': 19}),\n",
              "                     'make': FreqDist({'VERB': 27}),\n",
              "                     'coming': FreqDist({'VERB': 9}),\n",
              "                     'too': FreqDist({'ADV': 26}),\n",
              "                     'dark': FreqDist({'ADJ': 2, 'NOUN': 1}),\n",
              "                     'anything': FreqDist({'NOUN': 20}),\n",
              "                     'sides': FreqDist({'NOUN': 4}),\n",
              "                     'noticed': FreqDist({'ADJ': 1, 'VERB': 7}),\n",
              "                     'they': FreqDist({'PRON': 152}),\n",
              "                     'were': FreqDist({'VERB': 85}),\n",
              "                     'filled': FreqDist({'VERB': 3}),\n",
              "                     'cupboards': FreqDist({'NOUN': 2}),\n",
              "                     'shelves': FreqDist({'NOUN': 2}),\n",
              "                     'here': FreqDist({'ADV': 51}),\n",
              "                     'saw': FreqDist({'VERB': 14}),\n",
              "                     'maps': FreqDist({'NOUN': 1}),\n",
              "                     'hung': FreqDist({'VERB': 1}),\n",
              "                     'upon': FreqDist({'ADJ': 2, 'ADP': 24}),\n",
              "                     'pegs': FreqDist({'NOUN': 1}),\n",
              "                     'jar': FreqDist({'NOUN': 2}),\n",
              "                     'from': FreqDist({'ADP': 36}),\n",
              "                     'one': FreqDist({'NOUN': 9, 'NUM': 95}),\n",
              "                     'passed': FreqDist({'VERB': 5}),\n",
              "                     'labelled': FreqDist({'VERB': 1}),\n",
              "                     'orange': FreqDist({'NOUN': 1}),\n",
              "                     'marmalade': FreqDist({'NOUN': 1}),\n",
              "                     'great': FreqDist({'ADJ': 39}),\n",
              "                     'disappointment': FreqDist({'NOUN': 1}),\n",
              "                     'empty': FreqDist({'ADJ': 1}),\n",
              "                     'drop': FreqDist({'VERB': 1}),\n",
              "                     'fear': FreqDist({'NOUN': 4}),\n",
              "                     'killing': FreqDist({'VERB': 1}),\n",
              "                     'somebody': FreqDist({'NOUN': 6, 'VERB': 1}),\n",
              "                     'managed': FreqDist({'VERB': 4}),\n",
              "                     'put': FreqDist({'NOUN': 1, 'VERB': 30}),\n",
              "                     'past': FreqDist({'ADJ': 1, 'ADP': 2}),\n",
              "                     'such': FreqDist({'ADJ': 23, 'DET': 18}),\n",
              "                     'fall': FreqDist({'NOUN': 4, 'VERB': 3}),\n",
              "                     'tumbling': FreqDist({'VERB': 2}),\n",
              "                     'stairs': FreqDist({'ADJ': 1, 'NOUN': 1, 'VERB': 1}),\n",
              "                     'brave': FreqDist({'NOUN': 1}),\n",
              "                     'll': FreqDist({'ADJ': 2,\n",
              "                               'ADV': 5,\n",
              "                               'NOUN': 11,\n",
              "                               'VERB': 39}),\n",
              "                     'me': FreqDist({'PRON': 68}),\n",
              "                     'home': FreqDist({'ADV': 1, 'NOUN': 4}),\n",
              "                     'why': FreqDist({'ADV': 40}),\n",
              "                     'wouldn': FreqDist({'ADJ': 1,\n",
              "                               'DET': 1,\n",
              "                               'NOUN': 2,\n",
              "                               'VERB': 9}),\n",
              "                     't': FreqDist({'ADJ': 68,\n",
              "                               'ADP': 6,\n",
              "                               'ADV': 16,\n",
              "                               'NOUN': 84,\n",
              "                               'PRON': 1,\n",
              "                               'VERB': 43}),\n",
              "                     'even': FreqDist({'ADV': 19}),\n",
              "                     'if': FreqDist({'ADP': 96}),\n",
              "                     'off': FreqDist({'ADP': 19, 'ADV': 1, 'PRT': 53}),\n",
              "                     'top': FreqDist({'ADJ': 1, 'NOUN': 7}),\n",
              "                     'house': FreqDist({'NOUN': 18}),\n",
              "                     'which': FreqDist({'DET': 49}),\n",
              "                     'likely': FreqDist({'ADJ': 5}),\n",
              "                     'true': FreqDist({'ADJ': 4}),\n",
              "                     'come': FreqDist({'ADJ': 3,\n",
              "                               'NOUN': 6,\n",
              "                               'PRT': 1,\n",
              "                               'VERB': 36}),\n",
              "                     'an': FreqDist({'DET': 57}),\n",
              "                     'end': FreqDist({'NOUN': 15, 'VERB': 2}),\n",
              "                     'many': FreqDist({'ADJ': 12}),\n",
              "                     'miles': FreqDist({'NOUN': 3}),\n",
              "                     've': FreqDist({'NOUN': 9, 'VERB': 35}),\n",
              "                     'fallen': FreqDist({'VERB': 4}),\n",
              "                     'said': FreqDist({'VERB': 462}),\n",
              "                     'aloud': FreqDist({'ADJ': 2, 'ADV': 1, 'NOUN': 2}),\n",
              "                     'must': FreqDist({'VERB': 44}),\n",
              "                     'somewhere': FreqDist({'ADV': 3}),\n",
              "                     'near': FreqDist({'ADP': 14, 'ADV': 1}),\n",
              "                     'centre': FreqDist({'NOUN': 1}),\n",
              "                     'earth': FreqDist({'NOUN': 4}),\n",
              "                     'let': FreqDist({'NOUN': 4, 'VERB': 18}),\n",
              "                     'four': FreqDist({'NUM': 8}),\n",
              "                     'thousand': FreqDist({'ADJ': 1, 'NOUN': 1}),\n",
              "                     'you': FreqDist({'PRON': 411}),\n",
              "                     'learnt': FreqDist({'ADJ': 1, 'VERB': 1}),\n",
              "                     'several': FreqDist({'ADJ': 4}),\n",
              "                     'things': FreqDist({'NOUN': 31}),\n",
              "                     'sort': FreqDist({'NOUN': 20}),\n",
              "                     'lessons': FreqDist({'NOUN': 10}),\n",
              "                     'schoolroom': FreqDist({'NOUN': 1}),\n",
              "                     'though': FreqDist({'ADP': 11}),\n",
              "                     'good': FreqDist({'ADJ': 27}),\n",
              "                     'opportunity': FreqDist({'NOUN': 8}),\n",
              "                     'showing': FreqDist({'VERB': 2}),\n",
              "                     'knowledge': FreqDist({'NOUN': 3}),\n",
              "                     'listen': FreqDist({'VERB': 7}),\n",
              "                     'still': FreqDist({'ADV': 13}),\n",
              "                     'practice': FreqDist({'NOUN': 1}),\n",
              "                     'yes': FreqDist({'ADV': 1, 'NOUN': 8, 'VERB': 2, 'X': 2}),\n",
              "                     'right': FreqDist({'ADJ': 17, 'ADV': 6, 'NOUN': 9}),\n",
              "                     'distance': FreqDist({'NOUN': 8}),\n",
              "                     'latitude': FreqDist({'NOUN': 1, 'VERB': 1}),\n",
              "                     'longitude': FreqDist({'ADJ': 1, 'VERB': 1}),\n",
              "                     'got': FreqDist({'VERB': 45}),\n",
              "                     'idea': FreqDist({'NOUN': 15}),\n",
              "                     'nice': FreqDist({'ADJ': 6}),\n",
              "                     'grand': FreqDist({'ADJ': 3}),\n",
              "                     'words': FreqDist({'NOUN': 21}),\n",
              "                     'presently': FreqDist({'ADV': 2}),\n",
              "                     'began': FreqDist({'VERB': 58}),\n",
              "                     'through': FreqDist({'ADP': 14}),\n",
              "                     'funny': FreqDist({'ADJ': 3}),\n",
              "                     'seem': FreqDist({'ADJ': 1, 'VERB': 7}),\n",
              "                     'among': FreqDist({'ADP': 12}),\n",
              "                     'people': FreqDist({'NOUN': 13}),\n",
              "                     'walk': FreqDist({'NOUN': 1, 'VERB': 4}),\n",
              "                     'their': FreqDist({'PRON': 52}),\n",
              "                     'heads': FreqDist({'NOUN': 10}),\n",
              "                     'downward': FreqDist({'ADP': 1}),\n",
              "                     'antipathies': FreqDist({'NOUN': 1}),\n",
              "                     'rather': FreqDist({'ADV': 25}),\n",
              "                     'glad': FreqDist({'ADJ': 8, 'NOUN': 3}),\n",
              "                     'listening': FreqDist({'NOUN': 1, 'VERB': 2}),\n",
              "                     'didn': FreqDist({'NOUN': 3, 'VERB': 11}),\n",
              "                     'sound': FreqDist({'NOUN': 4}),\n",
              "                     'word': FreqDist({'NOUN': 10}),\n",
              "                     'ask': FreqDist({'VERB': 11}),\n",
              "                     'them': FreqDist({'PRON': 88}),\n",
              "                     'name': FreqDist({'NOUN': 10}),\n",
              "                     'country': FreqDist({'NOUN': 1}),\n",
              "                     'know': FreqDist({'NOUN': 3, 'VERB': 85}),\n",
              "                     'please': FreqDist({'NOUN': 7, 'VERB': 12}),\n",
              "                     'ma': FreqDist({'ADJ': 1, 'NOUN': 2}),\n",
              "                     'am': FreqDist({'VERB': 16}),\n",
              "                     'new': FreqDist({'ADJ': 5}),\n",
              "                     'zealand': FreqDist({'NOUN': 1}),\n",
              "                     'australia': FreqDist({'NOUN': 1}),\n",
              "                     'curtsey': FreqDist({'VERB': 1}),\n",
              "                     'spoke': FreqDist({'NOUN': 1, 'VERB': 16}),\n",
              "                     'fancy': FreqDist({'ADJ': 1, 'NOUN': 4, 'VERB': 2}),\n",
              "                     'curtseying': FreqDist({'NOUN': 1}),\n",
              "                     're': FreqDist({'VERB': 38}),\n",
              "                     'air': FreqDist({'NOUN': 15}),\n",
              "                     'manage': FreqDist({'NOUN': 1, 'VERB': 6}),\n",
              "                     'ignorant': FreqDist({'ADJ': 1}),\n",
              "                     'little': FreqDist({'ADJ': 126, 'ADV': 2}),\n",
              "                     'girl': FreqDist({'NOUN': 4}),\n",
              "                     'asking': FreqDist({'VERB': 5}),\n",
              "                     'perhaps': FreqDist({'ADV': 17}),\n",
              "                     'written': FreqDist({'VERB': 6}),\n",
              "                     'else': FreqDist({'ADJ': 2, 'ADV': 10}),\n",
              "                     'soon': FreqDist({'ADV': 25}),\n",
              "                     'talking': FreqDist({'VERB': 17}),\n",
              "                     'dinah': FreqDist({'ADJ': 3, 'NOUN': 9, 'VERB': 2}),\n",
              "                     'miss': FreqDist({'ADJ': 1, 'VERB': 3}),\n",
              "                     'night': FreqDist({'NOUN': 5}),\n",
              "                     'should': FreqDist({'VERB': 27}),\n",
              "                     'cat': FreqDist({'NOUN': 37}),\n",
              "                     'hope': FreqDist({'VERB': 3}),\n",
              "                     'remember': FreqDist({'NOUN': 1, 'VERB': 13}),\n",
              "                     'saucer': FreqDist({'NOUN': 1}),\n",
              "                     'milk': FreqDist({'NOUN': 2}),\n",
              "                     'tea': FreqDist({'ADJ': 4, 'NOUN': 14, 'VERB': 1}),\n",
              "                     'my': FreqDist({'PRON': 58}),\n",
              "                     'wish': FreqDist({'ADJ': 6, 'NOUN': 4, 'VERB': 11}),\n",
              "                     'are': FreqDist({'VERB': 54}),\n",
              "                     'mice': FreqDist({'NOUN': 4}),\n",
              "                     'm': FreqDist({'ADJ': 5, 'NOUN': 17, 'VERB': 41}),\n",
              "                     'afraid': FreqDist({'ADJ': 4,\n",
              "                               'ADP': 1,\n",
              "                               'NOUN': 3,\n",
              "                               'VERB': 4}),\n",
              "                     'might': FreqDist({'VERB': 28}),\n",
              "                     'catch': FreqDist({'NOUN': 1, 'VERB': 3}),\n",
              "                     'bat': FreqDist({'NOUN': 3}),\n",
              "                     'mouse': FreqDist({'ADP': 1, 'NOUN': 42, 'VERB': 1}),\n",
              "                     'cats': FreqDist({'NOUN': 12, 'VERB': 1}),\n",
              "                     'eat': FreqDist({'NOUN': 4, 'VERB': 14}),\n",
              "                     'bats': FreqDist({'NOUN': 4}),\n",
              "                     'saying': FreqDist({'VERB': 15}),\n",
              "                     'dreamy': FreqDist({'ADJ': 1}),\n",
              "                     'sometimes': FreqDist({'ADV': 5}),\n",
              "                     'couldn': FreqDist({'VERB': 9}),\n",
              "                     'answer': FreqDist({'ADP': 1, 'NOUN': 5, 'VERB': 3}),\n",
              "                     'question': FreqDist({'NOUN': 17}),\n",
              "                     'matter': FreqDist({'ADV': 1, 'NOUN': 7, 'VERB': 1}),\n",
              "                     'felt': FreqDist({'VERB': 23}),\n",
              "                     'dozing': FreqDist({'VERB': 1}),\n",
              "                     'begun': FreqDist({'VERB': 7}),\n",
              "                     'dream': FreqDist({'NOUN': 6, 'VERB': 1}),\n",
              "                     'walking': FreqDist({'NOUN': 1, 'VERB': 4}),\n",
              "                     'hand': FreqDist({'NOUN': 21}),\n",
              "                     'earnestly': FreqDist({'ADV': 2}),\n",
              "                     'now': FreqDist({'ADV': 60}),\n",
              "                     'tell': FreqDist({'NOUN': 3, 'VERB': 29}),\n",
              "                     'truth': FreqDist({'NOUN': 1}),\n",
              "                     'ever': FreqDist({'ADV': 21}),\n",
              "                     'thump': FreqDist({'VERB': 2}),\n",
              "                     'came': FreqDist({'VERB': 40}),\n",
              "                     'heap': FreqDist({'NOUN': 1}),\n",
              "                     'sticks': FreqDist({'NOUN': 1}),\n",
              "                     'dry': FreqDist({'ADJ': 6, 'VERB': 2}),\n",
              "                     'leaves': FreqDist({'NOUN': 5, 'VERB': 1}),\n",
              "                     'bit': FreqDist({'NOUN': 15, 'VERB': 1}),\n",
              "                     'hurt': FreqDist({'NOUN': 1, 'VERB': 2}),\n",
              "                     'jumped': FreqDist({'ADJ': 1, 'VERB': 5}),\n",
              "                     'overhead': FreqDist({'NOUN': 1}),\n",
              "                     'long': FreqDist({'ADJ': 24, 'ADV': 8}),\n",
              "                     'passage': FreqDist({'NOUN': 4}),\n",
              "                     'sight': FreqDist({'ADJ': 1, 'NOUN': 9}),\n",
              "                     'hurrying': FreqDist({'VERB': 1}),\n",
              "                     'lost': FreqDist({'VERB': 3}),\n",
              "                     'away': FreqDist({'ADV': 22, 'PRT': 3}),\n",
              "                     'wind': FreqDist({'NOUN': 2}),\n",
              "                     'turned': FreqDist({'ADJ': 1, 'VERB': 15}),\n",
              "                     'corner': FreqDist({'NOUN': 4}),\n",
              "                     'ears': FreqDist({'NOUN': 4, 'VERB': 1}),\n",
              "                     'whiskers': FreqDist({'NOUN': 3}),\n",
              "                     'behind': FreqDist({'ADP': 11, 'ADV': 1, 'VERB': 1}),\n",
              "                     'longer': FreqDist({'ADJ': 3}),\n",
              "                     'low': FreqDist({'ADJ': 15}),\n",
              "                     'hall': FreqDist({'NOUN': 9}),\n",
              "                     'lit': FreqDist({'VERB': 1}),\n",
              "                     'row': FreqDist({'NOUN': 2}),\n",
              "                     'lamps': FreqDist({'NOUN': 1}),\n",
              "                     'hanging': FreqDist({'VERB': 3}),\n",
              "                     'roof': FreqDist({'ADJ': 1, 'NOUN': 5}),\n",
              "                     'doors': FreqDist({'NOUN': 2}),\n",
              "                     'round': FreqDist({'ADJ': 2,\n",
              "                               'ADP': 2,\n",
              "                               'ADV': 1,\n",
              "                               'NOUN': 20,\n",
              "                               'PRT': 4,\n",
              "                               'VERB': 12}),\n",
              "                     'locked': FreqDist({'VERB': 1}),\n",
              "                     'been': FreqDist({'VERB': 38}),\n",
              "                     'side': FreqDist({'NOUN': 17}),\n",
              "                     'other': FreqDist({'ADJ': 40}),\n",
              "                     'trying': FreqDist({'VERB': 14}),\n",
              "                     'every': FreqDist({'DET': 12}),\n",
              "                     'door': FreqDist({'NOUN': 30}),\n",
              "                     'walked': FreqDist({'VERB': 10}),\n",
              "                     'sadly': FreqDist({'ADV': 5}),\n",
              "                     'middle': FreqDist({'ADJ': 5, 'NOUN': 2}),\n",
              "                     'wondering': FreqDist({'NOUN': 1, 'VERB': 6}),\n",
              "                     'three': FreqDist({'NUM': 28}),\n",
              "                     'legged': FreqDist({'ADJ': 1, 'VERB': 1}),\n",
              "                     'table': FreqDist({'ADJ': 1, 'NOUN': 17}),\n",
              "                     'solid': FreqDist({'ADJ': 1}),\n",
              "                     'glass': FreqDist({'NOUN': 10}),\n",
              "                     'except': FreqDist({'ADP': 4}),\n",
              "                     'tiny': FreqDist({'ADJ': 4}),\n",
              "                     'golden': FreqDist({'ADJ': 7}),\n",
              "                     'key': FreqDist({'NOUN': 9}),\n",
              "                     'belong': FreqDist({'VERB': 1}),\n",
              "                     'alas': FreqDist({'ADP': 1, 'NOUN': 1, 'VERB': 2}),\n",
              "                     'locks': FreqDist({'NOUN': 2}),\n",
              "                     'small': FreqDist({'ADJ': 10}),\n",
              "                     'any': FreqDist({'DET': 39}),\n",
              "                     'rate': FreqDist({'NOUN': 9}),\n",
              "                     'open': FreqDist({'ADJ': 3, 'VERB': 4}),\n",
              "                     'however': FreqDist({'ADV': 20}),\n",
              "                     'second': FreqDist({'ADJ': 4}),\n",
              "                     'curtain': FreqDist({'NOUN': 1}),\n",
              "                     'fifteen': FreqDist({'ADJ': 1}),\n",
              "                     'inches': FreqDist({'NOUN': 6}),\n",
              "                     'high': FreqDist({'ADJ': 13, 'ADV': 1, 'NOUN': 2}),\n",
              "                     'lock': FreqDist({'NOUN': 1}),\n",
              "                     'delight': FreqDist({'NOUN': 3}),\n",
              "                     'fitted': FreqDist({'VERB': 1}),\n",
              "                     'opened': FreqDist({'VERB': 10}),\n",
              "                     'led': FreqDist({'VERB': 4}),\n",
              "                     'larger': FreqDist({'ADJ': 7}),\n",
              "                     'than': FreqDist({'ADP': 24}),\n",
              "                     'rat': FreqDist({'NOUN': 1}),\n",
              "                     'knelt': FreqDist({'VERB': 1}),\n",
              "                     'along': FreqDist({'ADP': 4, 'ADV': 2}),\n",
              "                     'loveliest': FreqDist({'ADJ': 1}),\n",
              "                     'garden': FreqDist({'NOUN': 16}),\n",
              "                     'longed': FreqDist({'VERB': 2}),\n",
              "                     'wander': FreqDist({'NOUN': 1}),\n",
              "                     'those': FreqDist({'DET': 10}),\n",
              "                     'beds': FreqDist({'NOUN': 2}),\n",
              "                     'bright': FreqDist({'ADJ': 7, 'VERB': 1}),\n",
              "                     'flowers': FreqDist({'NOUN': 2}),\n",
              "                     'cool': FreqDist({'ADJ': 1, 'NOUN': 1}),\n",
              "                     'fountains': FreqDist({'NOUN': 1, 'VERB': 1}),\n",
              "                     'head': FreqDist({'NOUN': 49, 'VERB': 1}),\n",
              "                     'doorway': FreqDist({'NOUN': 1}),\n",
              "                     'go': FreqDist({'NOUN': 1, 'VERB': 49}),\n",
              "                     'poor': FreqDist({'ADJ': 27}),\n",
              "                     'shoulders': FreqDist({'NOUN': 4}),\n",
              "                     'shut': FreqDist({'VERB': 5}),\n",
              "                     'telescope': FreqDist({'NOUN': 3}),\n",
              "                     'only': FreqDist({'ADJ': 4, 'ADV': 46}),\n",
              "                     'begin': FreqDist({'NOUN': 2, 'VERB': 11}),\n",
              "                     'happened': FreqDist({'VERB': 7}),\n",
              "                     'lately': FreqDist({'ADV': 1}),\n",
              "                     'few': FreqDist({'ADJ': 9}),\n",
              "                     'indeed': FreqDist({'ADV': 16}),\n",
              "                     'really': FreqDist({'ADV': 13}),\n",
              "                     'impossible': FreqDist({'ADJ': 3}),\n",
              "                     'waiting': FreqDist({'VERB': 9}),\n",
              "                     'back': FreqDist({'ADJ': 1,\n",
              "                               'ADV': 31,\n",
              "                               'NOUN': 3,\n",
              "                               'PRT': 4}),\n",
              "                     'half': FreqDist({'DET': 4, 'NOUN': 18, 'VERB': 1}),\n",
              "                     'hoping': FreqDist({'VERB': 3}),\n",
              "                     'find': FreqDist({'VERB': 21}),\n",
              "                     'rules': FreqDist({'NOUN': 3}),\n",
              "                     'shutting': FreqDist({'VERB': 2}),\n",
              "                     'telescopes': FreqDist({'NOUN': 1}),\n",
              "                     'bottle': FreqDist({'NOUN': 10}),\n",
              "                     'certainly': FreqDist({'ADV': 14}),\n",
              "                     'neck': FreqDist({'NOUN': 7}),\n",
              "                     'paper': FreqDist({'NOUN': 4}),\n",
              "                     'label': FreqDist({'NOUN': 2}),\n",
              "                     'drink': FreqDist({'VERB': 7}),\n",
              "                     'beautifully': FreqDist({'ADV': 2}),\n",
              "                     'printed': FreqDist({'VERB': 1}),\n",
              "                     'letters': FreqDist({'NOUN': 1}),\n",
              "                     'wise': FreqDist({'NOUN': 2}),\n",
              "                     'hurry': FreqDist({'NOUN': 11}),\n",
              "                     'marked': FreqDist({'ADJ': 1, 'VERB': 5}),\n",
              "                     'poison': FreqDist({'NOUN': 3}),\n",
              "                     'read': FreqDist({'NOUN': 3, 'VERB': 8}),\n",
              "                     'histories': FreqDist({'NOUN': 1}),\n",
              "                     'children': FreqDist({'NOUN': 10}),\n",
              "                     'who': FreqDist({'PRON': 63}),\n",
              "                     'burnt': FreqDist({'ADV': 1}),\n",
              "                     'eaten': FreqDist({'VERB': 1}),\n",
              "                     'wild': FreqDist({'ADJ': 2}),\n",
              "                     'beasts': FreqDist({'NOUN': 2}),\n",
              "                     'unpleasant': FreqDist({'ADJ': 2}),\n",
              "                     'because': FreqDist({'ADP': 15}),\n",
              "                     'simple': FreqDist({'ADJ': 2, 'NOUN': 3}),\n",
              "                     'friends': FreqDist({'NOUN': 2}),\n",
              "                     'taught': FreqDist({'VERB': 4}),\n",
              "                     'red': FreqDist({'ADJ': 3}),\n",
              "                     'poker': FreqDist({'NOUN': 1}),\n",
              "                     'will': FreqDist({'VERB': 33}),\n",
              "                     'burn': FreqDist({'VERB': 2}),\n",
              "                     'hold': FreqDist({'NOUN': 4, 'VERB': 6}),\n",
              "                     'cut': FreqDist({'VERB': 5}),\n",
              "                     'your': FreqDist({'PRON': 62}),\n",
              "                     'finger': FreqDist({'NOUN': 5}),\n",
              "                     'deeply': FreqDist({'ADV': 3, 'VERB': 1}),\n",
              "                     'knife': FreqDist({'NOUN': 2, 'VERB': 1}),\n",
              "                     'usually': FreqDist({'ADV': 2}),\n",
              "                     'bleeds': FreqDist({'VERB': 1}),\n",
              "                     'forgotten': FreqDist({'VERB': 6}),\n",
              "                     'almost': FreqDist({'ADV': 6}),\n",
              "                     'certain': FreqDist({'ADJ': 3}),\n",
              "                     'disagree': FreqDist({'VERB': 1}),\n",
              "                     'sooner': FreqDist({'ADJ': 1, 'VERB': 1}),\n",
              "                     'later': FreqDist({'ADJ': 1, 'ADV': 2}),\n",
              "                     'ventured': FreqDist({'VERB': 4}),\n",
              "                     'taste': FreqDist({'VERB': 2}),\n",
              "                     'finding': FreqDist({'VERB': 3}),\n",
              "                     'fact': FreqDist({'NOUN': 8}),\n",
              "                     'mixed': FreqDist({'ADJ': 1, 'VERB': 1}),\n",
              "                     'flavour': FreqDist({'NOUN': 1}),\n",
              "                     'cherry': FreqDist({'ADJ': 1}),\n",
              "                     'tart': FreqDist({'ADJ': 1}),\n",
              "                     'custard': FreqDist({'NOUN': 1}),\n",
              "                     'pine': FreqDist({'NOUN': 1}),\n",
              "                     'apple': FreqDist({'NOUN': 1}),\n",
              "                     'roast': FreqDist({'NOUN': 1}),\n",
              "                     'turkey': FreqDist({'ADJ': 1}),\n",
              "                     'toffee': FreqDist({'NOUN': 1}),\n",
              "                     'buttered': FreqDist({'VERB': 1}),\n",
              "                     'toast': FreqDist({'ADP': 1}),\n",
              "                     'finished': FreqDist({'VERB': 12}),\n",
              "                     'curious': FreqDist({'ADJ': 19}),\n",
              "                     'feeling': FreqDist({'NOUN': 2, 'VERB': 5}),\n",
              "                     'ten': FreqDist({'ADJ': 3, 'NOUN': 3}),\n",
              "                     'face': FreqDist({'NOUN': 15}),\n",
              "                     'brightened': FreqDist({'VERB': 2}),\n",
              "                     'size': FreqDist({'NOUN': 13}),\n",
              "                     'lovely': FreqDist({'ADJ': 1, 'ADV': 1}),\n",
              "                     'waited': FreqDist({'VERB': 11}),\n",
              "                     'minutes': FreqDist({'NOUN': 11}),\n",
              "                     'shrink': FreqDist({'VERB': 1}),\n",
              "                     'further': FreqDist({'ADJ': 2, 'ADV': 1}),\n",
              "                     'nervous': FreqDist({'ADJ': 5}),\n",
              "                     'altogether': FreqDist({'ADV': 4, 'NOUN': 1}),\n",
              "                     'candle': FreqDist({'NOUN': 3}),\n",
              "                     'flame': FreqDist({'NOUN': 1}),\n",
              "                     'blown': FreqDist({'VERB': 1}),\n",
              "                     'thing': FreqDist({'NOUN': 49}),\n",
              "                     'while': FreqDist({'ADP': 20, 'NOUN': 5}),\n",
              "                     'more': FreqDist({'ADJ': 35, 'ADV': 14}),\n",
              "                     'decided': FreqDist({'ADJ': 1, 'VERB': 2}),\n",
              "                     'possibly': FreqDist({'ADV': 3}),\n",
              "                     'reach': FreqDist({'NOUN': 2, 'VERB': 2}),\n",
              "                     'plainly': FreqDist({'ADV': 1}),\n",
              "                     'best': FreqDist({'ADJ': 12}),\n",
              "                     'climb': FreqDist({'VERB': 1}),\n",
              "                     'legs': FreqDist({'NOUN': 3}),\n",
              "                     'slippery': FreqDist({'ADJ': 1}),\n",
              "                     'sat': FreqDist({'VERB': 17}),\n",
              "                     'cried': FreqDist({'ADJ': 1, 'VERB': 19}),\n",
              "                     'crying': FreqDist({'VERB': 2}),\n",
              "                     'sharply': FreqDist({'ADV': 4}),\n",
              "                     'advise': FreqDist({'VERB': 1}),\n",
              "                     'leave': FreqDist({'VERB': 9}),\n",
              "                     'minute': FreqDist({'NOUN': 21}),\n",
              "                     'generally': FreqDist({'ADV': 7}),\n",
              "                     'gave': FreqDist({'VERB': 15}),\n",
              "                     'advice': FreqDist({'NOUN': 2}),\n",
              "                     'seldom': FreqDist({'ADV': 1}),\n",
              "                     'followed': FreqDist({'VERB': 8}),\n",
              "                     'scolded': FreqDist({'VERB': 1}),\n",
              "                     'severely': FreqDist({'ADV': 4}),\n",
              "                     'bring': FreqDist({'VERB': 3}),\n",
              "                     'tears': FreqDist({'NOUN': 11}),\n",
              "                     'remembered': FreqDist({'VERB': 5}),\n",
              "                     'box': FreqDist({'NOUN': 9, 'VERB': 1}),\n",
              "                     'cheated': FreqDist({'VERB': 1}),\n",
              "                     'game': FreqDist({'NOUN': 13}),\n",
              "                     'croquet': FreqDist({'NOUN': 7, 'VERB': 2}),\n",
              "                     'playing': FreqDist({'VERB': 2}),\n",
              "                     'against': FreqDist({'ADP': 9}),\n",
              "                     'child': FreqDist({'ADJ': 1, 'NOUN': 9, 'VERB': 1}),\n",
              "                     'fond': FreqDist({'ADJ': 2, 'NOUN': 2}),\n",
              "                     'pretending': FreqDist({'VERB': 1}),\n",
              "                     'two': FreqDist({'NUM': 40}),\n",
              "                     'pretend': FreqDist({'VERB': 1}),\n",
              "                     'hardly': FreqDist({'ADV': 12}),\n",
              "                     'enough': FreqDist({'ADJ': 7, 'ADV': 11}),\n",
              "                     'left': FreqDist({'ADJ': 2, 'VERB': 12}),\n",
              "                     'respectable': FreqDist({'ADJ': 1}),\n",
              "                     'person': FreqDist({'NOUN': 4}),\n",
              "                     'eye': FreqDist({'NOUN': 7}),\n",
              "                     'lying': FreqDist({'VERB': 8}),\n",
              "                     'cake': FreqDist({'NOUN': 2, 'VERB': 1}),\n",
              "                     'currants': FreqDist({'NOUN': 1}),\n",
              "                     'makes': FreqDist({'VERB': 11}),\n",
              "                     'grow': FreqDist({'ADJ': 1, 'VERB': 12}),\n",
              "                     'can': FreqDist({'VERB': 63}),\n",
              "                     'smaller': FreqDist({'ADJ': 3}),\n",
              "                     'creep': FreqDist({'VERB': 1}),\n",
              "                     'don': FreqDist({'ADJ': 3, 'NOUN': 14, 'VERB': 44}),\n",
              "                     'care': FreqDist({'NOUN': 4}),\n",
              "                     'happens': FreqDist({'VERB': 5}),\n",
              "                     'ate': FreqDist({'VERB': 1}),\n",
              "                     'anxiously': FreqDist({'ADV': 14}),\n",
              "                     'holding': FreqDist({'VERB': 3}),\n",
              "                     'growing': FreqDist({'VERB': 11}),\n",
              "                     'surprised': FreqDist({'ADJ': 2, 'VERB': 5}),\n",
              "                     'remained': FreqDist({'VERB': 3}),\n",
              "                     'same': FreqDist({'ADJ': 24}),\n",
              "                     'sure': FreqDist({'ADJ': 22, 'NOUN': 2}),\n",
              "                     'eats': FreqDist({'NOUN': 1}),\n",
              "                     'expecting': FreqDist({'VERB': 3}),\n",
              "                     'dull': FreqDist({'ADJ': 2, 'VERB': 1}),\n",
              "                     'life': FreqDist({'NOUN': 12}),\n",
              "                     'common': FreqDist({'ADJ': 1}),\n",
              "                     'set': FreqDist({'NOUN': 1, 'VERB': 13}),\n",
              "                     'work': FreqDist({'NOUN': 1, 'VERB': 7}),\n",
              "                     'ii': FreqDist({'VERB': 1}),\n",
              "                     'pool': FreqDist({'NOUN': 11}),\n",
              "                     'curiouser': FreqDist({'NOUN': 2}),\n",
              "                     'forgot': FreqDist({'VERB': 2}),\n",
              "                     'speak': FreqDist({'ADJ': 1, 'VERB': 14}),\n",
              "                     'english': FreqDist({'ADJ': 4, 'NOUN': 2}),\n",
              "                     'opening': FreqDist({'NOUN': 1, 'VERB': 2}),\n",
              "                     'largest': FreqDist({'ADJ': 1}),\n",
              "                     'bye': FreqDist({'NOUN': 2}),\n",
              "                     'far': FreqDist({'ADV': 13}),\n",
              "                     'shoes': FreqDist({'NOUN': 6, 'VERB': 1}),\n",
              "                     'stockings': FreqDist({'NOUN': 1}),\n",
              "                     'dears': FreqDist({'NOUN': 2, 'VERB': 1}),\n",
              "                     'shan': FreqDist({'NOUN': 2, 'VERB': 4}),\n",
              "                     'able': FreqDist({'ADJ': 1}),\n",
              "                     'deal': FreqDist({'NOUN': 12}),\n",
              "                     'myself': FreqDist({'PRON': 7}),\n",
              "                     'kind': FreqDist({'NOUN': 7}),\n",
              "                     'won': FreqDist({'VERB': 26}),\n",
              "                     'want': FreqDist({'NOUN': 1, 'VERB': 8}),\n",
              "                     'give': FreqDist({'ADJ': 1, 'VERB': 11}),\n",
              "                     'pair': FreqDist({'NOUN': 5}),\n",
              "                     'boots': FreqDist({'NOUN': 4}),\n",
              "                     'christmas': FreqDist({'NOUN': 1}),\n",
              "                     'planning': FreqDist({'NOUN': 1}),\n",
              "                     'carrier': FreqDist({'NOUN': 1}),\n",
              "                     'sending': FreqDist({'VERB': 2}),\n",
              "                     'presents': FreqDist({'NOUN': 2}),\n",
              "                     'odd': FreqDist({'ADJ': 1}),\n",
              "                     'directions': FreqDist({'NOUN': 3}),\n",
              "                     'foot': FreqDist({'NOUN': 10}),\n",
              "                     'esq': FreqDist({'ADJ': 1}),\n",
              "                     'hearthrug': FreqDist({'NOUN': 1}),\n",
              "                     'fender': FreqDist({'NOUN': 1}),\n",
              "                     'love': FreqDist({'ADP': 1, 'NOUN': 1, 'VERB': 1}),\n",
              "                     'nonsense': FreqDist({'ADP': 1, 'NOUN': 6}),\n",
              "                     'struck': FreqDist({'NOUN': 1, 'VERB': 1}),\n",
              "                     'nine': FreqDist({'NUM': 5}),\n",
              "                     'hopeless': FreqDist({'NOUN': 1}),\n",
              "                     'cry': FreqDist({'NOUN': 1, 'VERB': 2}),\n",
              "                     'ashamed': FreqDist({'VERB': 2}),\n",
              "                     'yourself': FreqDist({'PRON': 10}),\n",
              "                     'stop': FreqDist({'NOUN': 1, 'VERB': 5}),\n",
              "                     'shedding': FreqDist({'VERB': 1}),\n",
              "                     'gallons': FreqDist({'NOUN': 1}),\n",
              "                     'until': FreqDist({'ADP': 5}),\n",
              "                     'reaching': FreqDist({'VERB': 1}),\n",
              "                     'heard': FreqDist({'ADV': 1, 'NOUN': 4, 'VERB': 25}),\n",
              "                     'pattering': FreqDist({'NOUN': 3}),\n",
              "                     'hastily': FreqDist({'ADV': 15, 'NOUN': 1}),\n",
              "                     'dried': FreqDist({'VERB': 1}),\n",
              "                     'returning': FreqDist({'VERB': 1}),\n",
              "                     'splendidly': FreqDist({'ADV': 1}),\n",
              "                     'dressed': FreqDist({'VERB': 1}),\n",
              "                     'kid': FreqDist({'NOUN': 5}),\n",
              "                     'gloves': FreqDist({'NOUN': 9, 'VERB': 2}),\n",
              "                     'fan': FreqDist({'NOUN': 10}),\n",
              "                     'he': FreqDist({'PRON': 125}),\n",
              "                     'trotting': FreqDist({'VERB': 2}),\n",
              "                     'muttering': FreqDist({'NOUN': 1, 'VERB': 2}),\n",
              "                     'himself': FreqDist({'PRON': 6}),\n",
              "                     'duchess': FreqDist({'NOUN': 42}),\n",
              "                     'savage': FreqDist({'ADJ': 2, 'NOUN': 1, 'VERB': 1}),\n",
              "                     'kept': FreqDist({'NOUN': 2, 'VERB': 11}),\n",
              "                     'desperate': FreqDist({'ADJ': 1}),\n",
              "                     'ready': FreqDist({'ADJ': 8}),\n",
              "                     'help': FreqDist({'NOUN': 3, 'VERB': 6}),\n",
              "                     'timid': FreqDist({'ADJ': 2, 'NOUN': 1}),\n",
              "                     'voice': FreqDist({'NOUN': 48}),\n",
              "                     'sir': FreqDist({'ADV': 1, 'NOUN': 4, 'VERB': 2}),\n",
              "                     'violently': FreqDist({'ADV': 4}),\n",
              "                     'dropped': FreqDist({'VERB': 5}),\n",
              "                     'skurried': FreqDist({'VERB': 1}),\n",
              "                     'darkness': FreqDist({'NOUN': 1}),\n",
              "                     'hard': FreqDist({'ADJ': 4, 'ADV': 4}),\n",
              "                     'fanning': FreqDist({'VERB': 1}),\n",
              "                     'queer': FreqDist({'ADJ': 2,\n",
              "                               'ADV': 2,\n",
              "                               'NOUN': 6,\n",
              "                               'VERB': 2}),\n",
              "                     'everything': FreqDist({'NOUN': 14}),\n",
              "                     'yesterday': FreqDist({'NOUN': 3}),\n",
              "                     'usual': FreqDist({'ADJ': 5}),\n",
              "                     'changed': FreqDist({'VERB': 8}),\n",
              "                     'morning': FreqDist({'NOUN': 5}),\n",
              "                     'different': FreqDist({'ADJ': 9}),\n",
              "                     'ah': FreqDist({'ADJ': 1,\n",
              "                               'ADV': 1,\n",
              "                               'NOUN': 2,\n",
              "                               'VERB': 1}),\n",
              "                     'puzzle': FreqDist({'NOUN': 1}),\n",
              "                     'thinking': FreqDist({'NOUN': 2, 'VERB': 9}),\n",
              "                     'knew': FreqDist({'VERB': 14}),\n",
              "                     'age': FreqDist({'NOUN': 4}),\n",
              "                     'ada': FreqDist({'VERB': 1}),\n",
              "                     'hair': FreqDist({'NOUN': 7}),\n",
              "                     'goes': FreqDist({'VERB': 7}),\n",
              "                     'ringlets': FreqDist({'NOUN': 2}),\n",
              "                     'mine': FreqDist({'NOUN': 8, 'PRON': 1, 'VERB': 1}),\n",
              "                     'doesn': FreqDist({'NOUN': 5, 'VERB': 11}),\n",
              "                     'mabel': FreqDist({'NOUN': 2, 'VERB': 2}),\n",
              "                     'sorts': FreqDist({'NOUN': 3}),\n",
              "                     'knows': FreqDist({'VERB': 2}),\n",
              "                     'besides': FreqDist({'ADP': 3, 'VERB': 1}),\n",
              "                     'puzzling': FreqDist({'VERB': 4}),\n",
              "                     'try': FreqDist({'ADP': 1, 'NOUN': 3, 'VERB': 8}),\n",
              "                     'used': FreqDist({'VERB': 13}),\n",
              "                     'times': FreqDist({'NOUN': 6}),\n",
              "                     'five': FreqDist({'NUM': 8}),\n",
              "                     'twelve': FreqDist({'ADJ': 1,\n",
              "                               'ADP': 1,\n",
              "                               'NOUN': 1,\n",
              "                               'VERB': 1}),\n",
              "                     'six': FreqDist({'NUM': 2}),\n",
              "                     'thirteen': FreqDist({'ADJ': 1}),\n",
              "                     'seven': FreqDist({'NUM': 6}),\n",
              "                     'twenty': FreqDist({'ADJ': 1, 'ADV': 1, 'VERB': 1}),\n",
              "                     'multiplication': FreqDist({'NOUN': 1}),\n",
              "                     'signify': FreqDist({'VERB': 1}),\n",
              "                     'geography': FreqDist({'NOUN': 1}),\n",
              "                     'london': FreqDist({'NOUN': 1}),\n",
              "                     'capital': FreqDist({'NOUN': 4}),\n",
              "                     'paris': FreqDist({'NOUN': 2}),\n",
              "                     'rome': FreqDist({'NOUN': 1, 'VERB': 1}),\n",
              "                     'wrong': FreqDist({'ADJ': 4, 'ADV': 1}),\n",
              "                     'doth': FreqDist({'DET': 2, 'VERB': 1}),\n",
              "                     'crossed': FreqDist({'VERB': 3}),\n",
              "                     'hands': FreqDist({'NOUN': 12}),\n",
              "                     'lap': FreqDist({'NOUN': 2}),\n",
              "                     'repeat': FreqDist({'NOUN': 2, 'VERB': 5}),\n",
              "                     'sounded': FreqDist({'ADJ': 1, 'VERB': 4}),\n",
              "                     'hoarse': FreqDist({'NOUN': 3}),\n",
              "                     'strange': FreqDist({'ADJ': 4, 'NOUN': 1}),\n",
              "                     'crocodile': FreqDist({'ADJ': 1}),\n",
              "                     'improve': FreqDist({'VERB': 1}),\n",
              "                     'his': FreqDist({'PRON': 96}),\n",
              "                     'shining': FreqDist({'VERB': 1}),\n",
              "                     'tail': FreqDist({'NOUN': 9}),\n",
              "                     'pour': FreqDist({'VERB': 1}),\n",
              "                     'waters': FreqDist({'NOUN': 1}),\n",
              "                     'nile': FreqDist({'NOUN': 1}),\n",
              "                     'scale': FreqDist({'NOUN': 1}),\n",
              "                     'cheerfully': FreqDist({'ADV': 1}),\n",
              "                     'seems': FreqDist({'VERB': 5}),\n",
              "                     'grin': FreqDist({'NOUN': 4, 'VERB': 2}),\n",
              "                     'neatly': FreqDist({'ADV': 2}),\n",
              "                     'spread': FreqDist({'VERB': 3}),\n",
              "                     'claws': FreqDist({'NOUN': 2}),\n",
              "                     'welcome': FreqDist({'ADJ': 1}),\n",
              "                     'fishes': FreqDist({'NOUN': 1}),\n",
              "                     'gently': FreqDist({'ADV': 3}),\n",
              "                     'smiling': FreqDist({'VERB': 2}),\n",
              "                     'jaws': FreqDist({'NOUN': 2}),\n",
              "                     'live': FreqDist({'ADJ': 1, 'VERB': 7}),\n",
              "                     'poky': FreqDist({'ADJ': 1}),\n",
              "                     'toys': FreqDist({'NOUN': 1}),\n",
              "                     'play': FreqDist({'NOUN': 1, 'VERB': 7}),\n",
              "                     'learn': FreqDist({'VERB': 7}),\n",
              "                     'stay': FreqDist({'NOUN': 1, 'VERB': 4}),\n",
              "                     'putting': FreqDist({'VERB': 3}),\n",
              "                     'being': FreqDist({'VERB': 19}),\n",
              "                     'till': FreqDist({'ADJ': 1,\n",
              "                               'ADP': 4,\n",
              "                               'ADV': 1,\n",
              "                               'NOUN': 11,\n",
              "                               'VERB': 4}),\n",
              "                     'sudden': FreqDist({'ADJ': 5}),\n",
              "                     'burst': FreqDist({'NOUN': 1}),\n",
              "                     'alone': FreqDist({'ADJ': 1, 'ADV': 3}),\n",
              "                     'done': FreqDist({'VERB': 15}),\n",
              "                     'measure': FreqDist({'VERB': 1}),\n",
              "                     'nearly': FreqDist({'ADV': 11}),\n",
              "                     'guess': FreqDist({'NOUN': 1, 'VERB': 2}),\n",
              "                     'shrinking': FreqDist({'VERB': 4}),\n",
              "                     'rapidly': FreqDist({'ADV': 2}),\n",
              "                     'cause': FreqDist({'NOUN': 3}),\n",
              "                     'avoid': FreqDist({'VERB': 1}),\n",
              "                     'narrow': FreqDist({'ADJ': 2}),\n",
              "                     'escape': FreqDist({'NOUN': 3, 'VERB': 1}),\n",
              "                     'frightened': FreqDist({'ADJ': 2, 'VERB': 5}),\n",
              "                     'change': FreqDist({'NOUN': 5, 'VERB': 9}),\n",
              "                     'existence': FreqDist({'NOUN': 1}),\n",
              "                     'speed': FreqDist({'NOUN': 1}),\n",
              "                     'worse': FreqDist({'ADJ': 2, 'NOUN': 1}),\n",
              "                     'declare': FreqDist({'VERB': 2}),\n",
              "                     'bad': FreqDist({'ADJ': 2}),\n",
              "                     'these': FreqDist({'DET': 14}),\n",
              "                     'slipped': FreqDist({'VERB': 3}),\n",
              "                     'splash': FreqDist({'NOUN': 1}),\n",
              "                     'chin': FreqDist({'ADJ': 1, 'NOUN': 6}),\n",
              "                     'salt': FreqDist({'NOUN': 2}),\n",
              "                     'water': FreqDist({'NOUN': 5}),\n",
              "                     'somehow': FreqDist({'ADV': 1}),\n",
              "                     'sea': FreqDist({'NOUN': 11, 'VERB': 3}),\n",
              "                     'case': FreqDist({'NOUN': 5}),\n",
              "                     'railway': FreqDist({'NOUN': 2}),\n",
              "                     'seaside': FreqDist({'NOUN': 1}),\n",
              "                     'general': FreqDist({'ADJ': 3}),\n",
              "                     'conclusion': FreqDist({'NOUN': 2}),\n",
              "                     'wherever': FreqDist({'ADP': 1, 'NOUN': 1}),\n",
              "                     'coast': FreqDist({'NOUN': 1}),\n",
              "                     'number': FreqDist({'NOUN': 5}),\n",
              "                     'bathing': FreqDist({'VERB': 1}),\n",
              "                     'machines': FreqDist({'NOUN': 1}),\n",
              "                     'digging': FreqDist({'VERB': 4}),\n",
              "                     'sand': FreqDist({'NOUN': 1}),\n",
              "                     'wooden': FreqDist({'ADJ': 1}),\n",
              "                     'spades': FreqDist({'NOUN': 1}),\n",
              "                     'lodging': FreqDist({'VERB': 1}),\n",
              "                     'houses': FreqDist({'NOUN': 1}),\n",
              "                     'station': FreqDist({'NOUN': 1}),\n",
              "                     'wept': FreqDist({'NOUN': 1}),\n",
              "                     'hadn': FreqDist({'ADJ': 1, 'NOUN': 1, 'VERB': 6}),\n",
              "                     'swam': FreqDist({'NOUN': 2, 'VERB': 3}),\n",
              "                     'punished': FreqDist({'VERB': 1}),\n",
              "                     'suppose': FreqDist({'ADJ': 2, 'NOUN': 2, 'VERB': 10}),\n",
              "                     'drowned': FreqDist({'VERB': 1}),\n",
              "                     'something': FreqDist({'NOUN': 18}),\n",
              "                     'splashing': FreqDist({'VERB': 2}),\n",
              "                     'nearer': FreqDist({'ADJ': 1, 'ADV': 1, 'NOUN': 3}),\n",
              "                     'walrus': FreqDist({'NOUN': 1}),\n",
              "                     'hippopotamus': FreqDist({'NOUN': 1}),\n",
              "                     'talk': FreqDist({'NOUN': 7, 'VERB': 7}),\n",
              "                     'harm': FreqDist({'NOUN': 1}),\n",
              "                     'o': FreqDist({'ADJ': 4, 'ADP': 1, 'NOUN': 1}),\n",
              "                     'swimming': FreqDist({'VERB': 2}),\n",
              "                     'speaking': FreqDist({'VERB': 5}),\n",
              "                     'brother': FreqDist({'NOUN': 1}),\n",
              "                     'latin': FreqDist({'ADJ': 1}),\n",
              "                     'grammar': FreqDist({'NOUN': 1}),\n",
              "                     'inquisitively': FreqDist({'ADV': 1}),\n",
              "                     'wink': FreqDist({'NOUN': 1, 'VERB': 1}),\n",
              "                     'understand': FreqDist({'ADJ': 2, 'NOUN': 1, 'VERB': 3}),\n",
              "                     'daresay': FreqDist({'VERB': 1}),\n",
              "                     'french': FreqDist({'ADJ': 4}),\n",
              "                     'william': FreqDist({'ADJ': 1,\n",
              "                               'DET': 1,\n",
              "                               'NOUN': 3,\n",
              "                               'VERB': 3}),\n",
              "                     'conqueror': FreqDist({'NOUN': 2}),\n",
              "                     'history': FreqDist({'NOUN': 7}),\n",
              "                     'clear': FreqDist({'ADJ': 2}),\n",
              "                     'notion': FreqDist({'NOUN': 3}),\n",
              "                     'ago': FreqDist({'ADV': 2}),\n",
              "                     'ou': FreqDist({'ADJ': 1}),\n",
              "                     'est': FreqDist({'ADJ': 1}),\n",
              "                     'chatte': FreqDist({'NOUN': 1}),\n",
              "                     'sentence': FreqDist({'NOUN': 6}),\n",
              "                     'lesson': FreqDist({'ADJ': 1, 'NOUN': 2}),\n",
              "                     'leap': FreqDist({'NOUN': 1}),\n",
              "                     'quiver': FreqDist({'VERB': 1}),\n",
              "                     'fright': FreqDist({'ADJ': 1, 'NOUN': 1}),\n",
              "                     'beg': FreqDist({'VERB': 8}),\n",
              "                     'pardon': FreqDist({'NOUN': 5, 'VERB': 1}),\n",
              "                     'animal': FreqDist({'ADJ': 2}),\n",
              "                     'feelings': FreqDist({'NOUN': 2}),\n",
              "                     'shrill': FreqDist({'ADJ': 1, 'NOUN': 4}),\n",
              "                     'passionate': FreqDist({'ADJ': 1}),\n",
              "                     'soothing': FreqDist({'VERB': 1}),\n",
              "                     'tone': FreqDist({'NOUN': 40}),\n",
              "                     'angry': FreqDist({'ADJ': 5}),\n",
              "                     'yet': FreqDist({'ADV': 25}),\n",
              "                     'show': FreqDist({'VERB': 3}),\n",
              "                     'our': FreqDist({'PRON': 8}),\n",
              "                     'd': FreqDist({'NOUN': 1, 'VERB': 28}),\n",
              "                     'quiet': FreqDist({'ADJ': 2}),\n",
              "                     'lazily': FreqDist({'ADV': 1}),\n",
              "                     'sits': FreqDist({'VERB': 1}),\n",
              "                     'purring': FreqDist({'VERB': 2}),\n",
              "                     'nicely': FreqDist({'ADV': 2}),\n",
              "                     'fire': FreqDist({'NOUN': 4}),\n",
              "                     'licking': FreqDist({'VERB': 1}),\n",
              "                     'paws': FreqDist({'NOUN': 4}),\n",
              "                     'washing': FreqDist({'NOUN': 1, 'VERB': 2}),\n",
              "                     'soft': FreqDist({'ADJ': 1}),\n",
              "                     'nurse': FreqDist({'NOUN': 1, 'VERB': 2}),\n",
              "                     'catching': FreqDist({'VERB': 2}),\n",
              "                     'bristling': FreqDist({'VERB': 1}),\n",
              "                     'offended': FreqDist({'ADJ': 5, 'VERB': 5}),\n",
              "                     'we': FreqDist({'PRON': 34}),\n",
              "                     'trembling': FreqDist({'ADJ': 3, 'NOUN': 2, 'VERB': 1}),\n",
              "                     'subject': FreqDist({'ADJ': 1, 'NOUN': 5}),\n",
              "                     'family': FreqDist({'NOUN': 1}),\n",
              "                     'always': FreqDist({'ADV': 13}),\n",
              "                     'hated': FreqDist({'VERB': 1}),\n",
              "                     'nasty': FreqDist({'ADJ': 1}),\n",
              "                     'vulgar': FreqDist({'NOUN': 1}),\n",
              "                     'dogs': FreqDist({'NOUN': 3}),\n",
              "                     'eagerly': FreqDist({'ADV': 7, 'NOUN': 1}),\n",
              "                     'dog': FreqDist({'NOUN': 3}),\n",
              "                     'eyed': FreqDist({'VERB': 1}),\n",
              "                     'terrier': FreqDist({'NOUN': 1}),\n",
              "                     'curly': FreqDist({'ADV': 1}),\n",
              "                     'brown': FreqDist({'ADJ': 2}),\n",
              "                     'fetch': FreqDist({'ADJ': 1, 'NOUN': 1, 'VERB': 5}),\n",
              "                     'throw': FreqDist({'VERB': 3}),\n",
              "                     'sit': FreqDist({'CONJ': 1, 'NOUN': 2, 'VERB': 5}),\n",
              "                     'dinner': FreqDist({'NOUN': 2}),\n",
              "                     'belongs': FreqDist({'VERB': 2}),\n",
              "                     'farmer': FreqDist({'NOUN': 1}),\n",
              "                     'says': FreqDist({'VERB': 4}),\n",
              "                     'useful': FreqDist({'ADJ': 2}),\n",
              "                     'hundred': FreqDist({'ADJ': 1}),\n",
              "                     'pounds': FreqDist({'NOUN': 1}),\n",
              "                     'kills': FreqDist({'VERB': 1}),\n",
              "                     'rats': FreqDist({'NOUN': 1}),\n",
              "                     'sorrowful': FreqDist({'ADJ': 2}),\n",
              "                     'commotion': FreqDist({'NOUN': 1}),\n",
              "                     'called': FreqDist({'VERB': 15}),\n",
              "                     'softly': FreqDist({'ADV': 1}),\n",
              "                     'pale': FreqDist({'ADJ': 4}),\n",
              "                     'passion': FreqDist({'NOUN': 3}),\n",
              "                     'us': FreqDist({'PRON': 14}),\n",
              "                     'shore': FreqDist({'NOUN': 3, 'VERB': 1}),\n",
              "                     'hate': FreqDist({'NOUN': 1, 'VERB': 1}),\n",
              "                     'crowded': FreqDist({'VERB': 5}),\n",
              "                     'birds': FreqDist({'NOUN': 10}),\n",
              "                     'animals': FreqDist({'NOUN': 4}),\n",
              "                     'duck': FreqDist({'NOUN': 4}),\n",
              "                     'dodo': FreqDist({'NOUN': 13}),\n",
              "                     'lory': FreqDist({'ADJ': 2, 'NOUN': 5}),\n",
              "                     'eaglet': FreqDist({'NOUN': 3}),\n",
              "                     'creatures': FreqDist({'NOUN': 10}),\n",
              "                     'whole': FreqDist({'ADJ': 13}),\n",
              "                     'party': FreqDist({'NOUN': 10}),\n",
              "                     'iii': FreqDist({'VERB': 1}),\n",
              "                     'caucus': FreqDist({'NOUN': 3}),\n",
              "                     'race': FreqDist({'NOUN': 6}),\n",
              "                     'tale': FreqDist({'NOUN': 4}),\n",
              "                     'looking': FreqDist({'VERB': 32}),\n",
              "                     'assembled': FreqDist({'VERB': 2}),\n",
              "                     'draggled': FreqDist({'ADJ': 1}),\n",
              "                     'feathers': FreqDist({'NOUN': 1}),\n",
              "                     'fur': FreqDist({'NOUN': 3}),\n",
              "                     'clinging': FreqDist({'VERB': 1}),\n",
              "                     'dripping': FreqDist({'VERB': 1}),\n",
              "                     'wet': FreqDist({'ADJ': 1, 'NOUN': 1}),\n",
              "                     'cross': FreqDist({'NOUN': 1, 'VERB': 2}),\n",
              "                     'uncomfortable': FreqDist({'ADJ': 4}),\n",
              "                     'course': FreqDist({'NOUN': 26}),\n",
              "                     'consultation': FreqDist({'NOUN': 1}),\n",
              "                     'familiarly': FreqDist({'ADV': 1}),\n",
              "                     'known': FreqDist({'VERB': 1}),\n",
              "                     'argument': FreqDist({'NOUN': 4}),\n",
              "                     'last': FreqDist({'ADJ': 33}),\n",
              "                     'sulky': FreqDist({'ADJ': 2, 'NOUN': 1}),\n",
              "                     'older': FreqDist({'ADJ': 2}),\n",
              "                     'better': FreqDist({'ADJ': 9, 'ADV': 4, 'NOUN': 1}),\n",
              "                     'allow': FreqDist({'VERB': 3}),\n",
              "                     'knowing': FreqDist({'VERB': 2}),\n",
              "                     'old': FreqDist({'ADJ': 19}),\n",
              "                     'positively': FreqDist({'ADV': 1}),\n",
              "                     'refused': FreqDist({'VERB': 1}),\n",
              "                     'authority': FreqDist({'NOUN': 2}),\n",
              "                     'ring': FreqDist({'NOUN': 2}),\n",
              "                     'fixed': FreqDist({'VERB': 1}),\n",
              "                     'cold': FreqDist({'NOUN': 1}),\n",
              "                     'ahem': FreqDist({'NOUN': 1}),\n",
              "                     'important': FreqDist({'ADJ': 7}),\n",
              "                     'driest': FreqDist({'ADJ': 1}),\n",
              "                     'silence': FreqDist({'NOUN': 14}),\n",
              "                     'whose': FreqDist({'PRON': 2}),\n",
              "                     'favoured': FreqDist({'VERB': 1}),\n",
              "                     'pope': FreqDist({'NOUN': 1}),\n",
              "                     'submitted': FreqDist({'VERB': 1}),\n",
              "                     'wanted': FreqDist({'VERB': 4}),\n",
              "                     'leaders': FreqDist({'NOUN': 1}),\n",
              "                     'accustomed': FreqDist({'VERB': 1}),\n",
              "                     'usurpation': FreqDist({'NOUN': 1}),\n",
              "                     'conquest': FreqDist({'NOUN': 1}),\n",
              "                     'edwin': FreqDist({'NOUN': 2}),\n",
              "                     'morcar': FreqDist({'VERB': 2}),\n",
              "                     'earls': FreqDist({'NOUN': 2}),\n",
              "                     'mercia': FreqDist({'NOUN': 2}),\n",
              "                     'northumbria': FreqDist({'NOUN': 2}),\n",
              "                     'ugh': FreqDist({'ADJ': 1, 'ADP': 1}),\n",
              "                     'shiver': FreqDist({'NOUN': 1}),\n",
              "                     'frowning': FreqDist({'NOUN': 1, 'VERB': 3}),\n",
              "                     'politely': FreqDist({'ADV': 6}),\n",
              "                     'proceed': FreqDist({'NOUN': 1, 'VERB': 1}),\n",
              "                     'declared': FreqDist({'VERB': 1}),\n",
              "                     'him': FreqDist({'PRON': 43}),\n",
              "                     'stigand': FreqDist({'VERB': 1}),\n",
              "                     'patriotic': FreqDist({'ADJ': 1}),\n",
              "                     'archbishop': FreqDist({'NOUN': 2}),\n",
              "                     'canterbury': FreqDist({'NOUN': 1}),\n",
              "                     'advisable': FreqDist({'ADJ': 2}),\n",
              "                     'replied': FreqDist({'VERB': 29}),\n",
              "                     'crossly': FreqDist({'ADV': 1}),\n",
              "                     'means': FreqDist({'NOUN': 1, 'VERB': 4}),\n",
              "                     'frog': FreqDist({'ADJ': 1, 'NOUN': 2}),\n",
              "                     'worm': FreqDist({'NOUN': 1}),\n",
              "                     'notice': FreqDist({'NOUN': 3, 'VERB': 2}),\n",
              "                     'hurriedly': FreqDist({'ADV': 2}),\n",
              "                     'edgar': FreqDist({'NOUN': 1}),\n",
              "                     'atheling': FreqDist({'VERB': 1}),\n",
              "                     'meet': FreqDist({'VERB': 2}),\n",
              "                     'offer': FreqDist({'VERB': 2}),\n",
              "                     'crown': FreqDist({'NOUN': 3}),\n",
              "                     'conduct': FreqDist({'NOUN': 1}),\n",
              "                     'moderate': FreqDist({'ADJ': 1}),\n",
              "                     'insolence': FreqDist({'NOUN': 1}),\n",
              "                     'normans': FreqDist({'NOUN': 1}),\n",
              "                     'continued': FreqDist({'VERB': 9}),\n",
              "                     'turning': FreqDist({'VERB': 12}),\n",
              "                     'melancholy': FreqDist({'ADJ': 5, 'NOUN': 1}),\n",
              "                     ...})"
            ]
          },
          "metadata": {
            "tags": []
          },
          "execution_count": 41
        }
      ]
    },
    {
      "cell_type": "code",
      "metadata": {
        "id": "RK_DNUYsGsmb",
        "colab_type": "code",
        "colab": {
          "base_uri": "https://localhost:8080/",
          "height": 34
        },
        "outputId": "8043a0f6-926d-4720-8670-542edc7bb93a"
      },
      "source": [
        "# Individually, certain words can be identified through \n",
        "\n",
        "alice_cfd['over']"
      ],
      "execution_count": 42,
      "outputs": [
        {
          "output_type": "execute_result",
          "data": {
            "text/plain": [
              "FreqDist({'ADP': 31, 'ADV': 4, 'PRT': 5})"
            ]
          },
          "metadata": {
            "tags": []
          },
          "execution_count": 42
        }
      ]
    },
    {
      "cell_type": "code",
      "metadata": {
        "id": "brew_1CDHKAm",
        "colab_type": "code",
        "colab": {
          "base_uri": "https://localhost:8080/",
          "height": 34
        },
        "outputId": "af09ae54-0b78-4176-e956-2cf99b5872eb"
      },
      "source": [
        "alice_cfd['spoke']"
      ],
      "execution_count": 43,
      "outputs": [
        {
          "output_type": "execute_result",
          "data": {
            "text/plain": [
              "FreqDist({'NOUN': 1, 'VERB': 16})"
            ]
          },
          "metadata": {
            "tags": []
          },
          "execution_count": 43
        }
      ]
    },
    {
      "cell_type": "code",
      "metadata": {
        "id": "fFEBH58jHPf1",
        "colab_type": "code",
        "colab": {
          "base_uri": "https://localhost:8080/",
          "height": 34
        },
        "outputId": "2a0f4f57-0c8d-4b58-a12a-e4bca5166924"
      },
      "source": [
        "alice_cfd['answer']"
      ],
      "execution_count": 44,
      "outputs": [
        {
          "output_type": "execute_result",
          "data": {
            "text/plain": [
              "FreqDist({'ADP': 1, 'NOUN': 5, 'VERB': 3})"
            ]
          },
          "metadata": {
            "tags": []
          },
          "execution_count": 44
        }
      ]
    },
    {
      "cell_type": "markdown",
      "metadata": {
        "id": "k1ehqSXHe05B",
        "colab_type": "text"
      },
      "source": [
        "Text Choices\n"
      ]
    },
    {
      "cell_type": "code",
      "metadata": {
        "id": "_L1Qbv1pHSaf",
        "colab_type": "code",
        "colab": {}
      },
      "source": [
        "# bryant-stories.txt"
      ],
      "execution_count": 0,
      "outputs": []
    },
    {
      "cell_type": "code",
      "metadata": {
        "id": "VRlGjcuvgNeJ",
        "colab_type": "code",
        "colab": {
          "base_uri": "https://localhost:8080/",
          "height": 187
        },
        "outputId": "89dbef3b-f52f-48c0-f675-e512adec5742"
      },
      "source": [
        "stories = nltk.corpus.gutenberg.words('bryant-stories.txt')\n",
        "tags = nltk.pos_tag(stories, tagset = 'universal')\n",
        "tags[:10]"
      ],
      "execution_count": 55,
      "outputs": [
        {
          "output_type": "execute_result",
          "data": {
            "text/plain": [
              "[('[', 'NOUN'),\n",
              " ('Stories', 'NOUN'),\n",
              " ('to', 'PRT'),\n",
              " ('Tell', 'VERB'),\n",
              " ('to', 'PRT'),\n",
              " ('Children', 'NOUN'),\n",
              " ('by', 'ADP'),\n",
              " ('Sara', 'NOUN'),\n",
              " ('Cone', 'NOUN'),\n",
              " ('Bryant', 'NOUN')]"
            ]
          },
          "metadata": {
            "tags": []
          },
          "execution_count": 55
        }
      ]
    },
    {
      "cell_type": "code",
      "metadata": {
        "id": "9ZFfGZ4uhaP4",
        "colab_type": "code",
        "colab": {
          "base_uri": "https://localhost:8080/",
          "height": 85
        },
        "outputId": "7fc9f85c-c787-4270-8c33-197d427351e2"
      },
      "source": [
        "# creation of choices \n",
        "\n",
        "for ((word1,tag1),(word2,tag2),(word3,tag3)) in nltk.trigrams(tags):\n",
        "  if tag1 == 'NOUN' and word2 == 'or' and tag3 == 'NOUN':\n",
        "    print(word1 + \" \" + word2 + \" \" + word3)\n",
        "\n",
        "\n",
        "# This will give meaning of choices according to the context present inside .txt file "
      ],
      "execution_count": 57,
      "outputs": [
        {
          "output_type": "stream",
          "text": [
            "ship or part\n",
            "food or water\n",
            "queens or princesses\n",
            "rank or wealth\n"
          ],
          "name": "stdout"
        }
      ]
    },
    {
      "cell_type": "markdown",
      "metadata": {
        "id": "Xvp3vhdzj3aY",
        "colab_type": "text"
      },
      "source": [
        "Chunking Concept "
      ]
    },
    {
      "cell_type": "code",
      "metadata": {
        "id": "q4mgJv8viL_J",
        "colab_type": "code",
        "colab": {
          "base_uri": "https://localhost:8080/",
          "height": 306
        },
        "outputId": "47fb63f1-22e9-4bfd-f039-5a41c02b02ec"
      },
      "source": [
        "import nltk\n",
        "text = \"I will go to the coffee shop in Ney Year after I get off the jet plane\"\n",
        "text_tag = nltk.pos_tag(nltk.word_tokenize(text))\n",
        "text_tag"
      ],
      "execution_count": 58,
      "outputs": [
        {
          "output_type": "execute_result",
          "data": {
            "text/plain": [
              "[('I', 'PRP'),\n",
              " ('will', 'MD'),\n",
              " ('go', 'VB'),\n",
              " ('to', 'TO'),\n",
              " ('the', 'DT'),\n",
              " ('coffee', 'NN'),\n",
              " ('shop', 'NN'),\n",
              " ('in', 'IN'),\n",
              " ('Ney', 'NNP'),\n",
              " ('Year', 'NN'),\n",
              " ('after', 'IN'),\n",
              " ('I', 'PRP'),\n",
              " ('get', 'VBP'),\n",
              " ('off', 'IN'),\n",
              " ('the', 'DT'),\n",
              " ('jet', 'NN'),\n",
              " ('plane', 'NN')]"
            ]
          },
          "metadata": {
            "tags": []
          },
          "execution_count": 58
        }
      ]
    },
    {
      "cell_type": "code",
      "metadata": {
        "id": "dB_u8H_rmdv2",
        "colab_type": "code",
        "colab": {}
      },
      "source": [
        "sequence = '''\n",
        "              Chunk:\n",
        "              {<NNPS>+}\n",
        "              {<NNP>+}\n",
        "              {<NN>+}'''\n",
        "\n",
        "              #Chunking filter creator"
      ],
      "execution_count": 0,
      "outputs": []
    },
    {
      "cell_type": "code",
      "metadata": {
        "id": "HJ4pxcqJnqt2",
        "colab_type": "code",
        "colab": {
          "base_uri": "https://localhost:8080/",
          "height": 289
        },
        "outputId": "0b8f90a4-5616-4a1b-8d62-e776be72714f"
      },
      "source": [
        "NPChunker =nltk.RegexpParser(sequence)\n",
        "result = NPChunker.parse(text_tag)\n",
        "print(result)\n",
        "\n",
        "# when result is called, they can throw the error like environment not available "
      ],
      "execution_count": 64,
      "outputs": [
        {
          "output_type": "stream",
          "text": [
            "(S\n",
            "  I/PRP\n",
            "  will/MD\n",
            "  go/VB\n",
            "  to/TO\n",
            "  the/DT\n",
            "  (Chunk coffee/NN shop/NN)\n",
            "  in/IN\n",
            "  (Chunk Ney/NNP)\n",
            "  (Chunk Year/NN)\n",
            "  after/IN\n",
            "  I/PRP\n",
            "  get/VBP\n",
            "  off/IN\n",
            "  the/DT\n",
            "  (Chunk jet/NN plane/NN))\n"
          ],
          "name": "stdout"
        }
      ]
    },
    {
      "cell_type": "code",
      "metadata": {
        "id": "Db3KFBxUn2iA",
        "colab_type": "code",
        "colab": {}
      },
      "source": [
        "# Important thing to notify while doing Chunking is:\n",
        "# Sequence creation \n",
        "# nltk.RegexpParser(sequence passing)\n",
        "# .parse(.txt)"
      ],
      "execution_count": 0,
      "outputs": []
    },
    {
      "cell_type": "markdown",
      "metadata": {
        "id": "kqeRnILVrAap",
        "colab_type": "text"
      },
      "source": [
        "Named Entity Recognization:\n"
      ]
    },
    {
      "cell_type": "code",
      "metadata": {
        "id": "IrufkWKarEXb",
        "colab_type": "code",
        "colab": {
          "base_uri": "https://localhost:8080/",
          "height": 122
        },
        "outputId": "ae26fbad-8957-4755-8150-7a87bb3d75af"
      },
      "source": [
        "from google.colab import drive\n",
        "drive.mount('/content/drive')"
      ],
      "execution_count": 66,
      "outputs": [
        {
          "output_type": "stream",
          "text": [
            "Go to this URL in a browser: https://accounts.google.com/o/oauth2/auth?client_id=947318989803-6bn6qk8qdgf4n4g3pfee6491hc0brc4i.apps.googleusercontent.com&redirect_uri=urn%3aietf%3awg%3aoauth%3a2.0%3aoob&response_type=code&scope=email%20https%3a%2f%2fwww.googleapis.com%2fauth%2fdocs.test%20https%3a%2f%2fwww.googleapis.com%2fauth%2fdrive%20https%3a%2f%2fwww.googleapis.com%2fauth%2fdrive.photos.readonly%20https%3a%2f%2fwww.googleapis.com%2fauth%2fpeopleapi.readonly\n",
            "\n",
            "Enter your authorization code:\n",
            "··········\n",
            "Mounted at /content/drive\n"
          ],
          "name": "stdout"
        }
      ]
    },
    {
      "cell_type": "code",
      "metadata": {
        "id": "9UR_afYzrypr",
        "colab_type": "code",
        "colab": {
          "base_uri": "https://localhost:8080/",
          "height": 119
        },
        "outputId": "feda00ff-ce0f-4dbb-cdbb-9d2630890893"
      },
      "source": [
        "nltk.download('maxent_ne_chunker')\n",
        "nltk.download('words')"
      ],
      "execution_count": 77,
      "outputs": [
        {
          "output_type": "stream",
          "text": [
            "[nltk_data] Downloading package maxent_ne_chunker to\n",
            "[nltk_data]     /root/nltk_data...\n",
            "[nltk_data]   Package maxent_ne_chunker is already up-to-date!\n",
            "[nltk_data] Downloading package words to /root/nltk_data...\n",
            "[nltk_data]   Unzipping corpora/words.zip.\n"
          ],
          "name": "stdout"
        },
        {
          "output_type": "execute_result",
          "data": {
            "text/plain": [
              "True"
            ]
          },
          "metadata": {
            "tags": []
          },
          "execution_count": 77
        }
      ]
    },
    {
      "cell_type": "code",
      "metadata": {
        "id": "szLdTDzmrMBr",
        "colab_type": "code",
        "colab": {}
      },
      "source": [
        "\n",
        "\n",
        "text = open('/content/drive/My Drive/nltk/example.txt').read()"
      ],
      "execution_count": 0,
      "outputs": []
    },
    {
      "cell_type": "code",
      "metadata": {
        "id": "FGiZU9M-ovfy",
        "colab_type": "code",
        "colab": {}
      },
      "source": [
        "text_tag = nltk.pos_tag(nltk.word_tokenize(text))\n"
      ],
      "execution_count": 0,
      "outputs": []
    },
    {
      "cell_type": "code",
      "metadata": {
        "id": "MD-lM47UqZy3",
        "colab_type": "code",
        "colab": {}
      },
      "source": [
        "# text chunk\n",
        "\n",
        "text_ch = nltk.ne_chunk(text_tag)\n",
        "\n",
        "# Function: re_chunk()  should be consideree"
      ],
      "execution_count": 0,
      "outputs": []
    },
    {
      "cell_type": "code",
      "metadata": {
        "id": "befm7iZ0qhxJ",
        "colab_type": "code",
        "colab": {
          "base_uri": "https://localhost:8080/",
          "height": 1000
        },
        "outputId": "9d8cb5fc-c683-468b-c0de-a51f99f8bcb1"
      },
      "source": [
        "for chunk in text_ch:\n",
        "  if hasattr(chunk, \"label\"):\n",
        "\n",
        "\n",
        "    # hasattr() function is used \n",
        "    print(chunk.label(),' '.join(c[0]for c in chunk.leaves()))\n",
        "\n",
        "    # chunk.leaves() function is being used here"
      ],
      "execution_count": 82,
      "outputs": [
        {
          "output_type": "stream",
          "text": [
            "ORGANIZATION WWII\n",
            "ORGANIZATION WW2\n",
            "ORGANIZATION Second\n",
            "ORGANIZATION Axis\n",
            "ORGANIZATION Hiroshima\n",
            "GPE Nagasaki\n",
            "ORGANIZATION Empire of Japan\n",
            "GPE Asia\n",
            "ORGANIZATION Pacific\n",
            "ORGANIZATION Republic\n",
            "GPE China\n",
            "GPE Poland\n",
            "GPE Germany\n",
            "GPE Germany\n",
            "GPE France\n",
            "ORGANIZATION United Kingdom\n",
            "GPE Germany\n",
            "GPE Europe\n",
            "ORGANIZATION Axis\n",
            "GPE Italy\n",
            "GPE Japan\n",
            "GPE Germany\n",
            "GPE Soviet Union\n",
            "GPE European\n",
            "GPE Poland\n",
            "GPE Finland\n",
            "GPE Romania\n",
            "GPE Baltic\n",
            "ORGANIZATION United Kingdom\n",
            "GPE British\n",
            "ORGANIZATION European Axis\n",
            "GPE North Africa\n",
            "ORGANIZATION Horn\n",
            "GPE Africa\n",
            "GPE Britain\n",
            "GPE Blitz\n",
            "ORGANIZATION Atlantic\n",
            "ORGANIZATION European Axis\n",
            "GPE Soviet Union\n",
            "ORGANIZATION Axis\n",
            "GPE Japan\n",
            "GPE United States\n",
            "GPE European\n",
            "ORGANIZATION Pacific Ocean\n",
            "LOCATION Western Pacific\n",
            "ORGANIZATION Axis\n",
            "PERSON Japan\n",
            "GPE Midway\n",
            "GPE Hawaii\n",
            "GPE Germany\n",
            "GPE North Africa\n",
            "FACILITY Stalingrad\n",
            "GPE Soviet Union\n",
            "GPE German\n",
            "LOCATION Eastern Front\n",
            "GPE Italy\n",
            "GPE Italian\n",
            "GPE Allied\n",
            "ORGANIZATION Pacific\n",
            "ORGANIZATION Axis\n",
            "LOCATION Western\n",
            "GPE France\n",
            "GPE Soviet Union\n",
            "GPE Germany\n",
            "GPE Japanese\n",
            "GPE Asia\n",
            "GPE South\n",
            "GPE China\n",
            "GPE Burma\n",
            "GPE Japanese\n",
            "ORGANIZATION Navy\n",
            "LOCATION Western Pacific\n",
            "GPE Europe\n",
            "GPE Germany\n",
            "LOCATION Western\n",
            "GPE Soviet Union\n",
            "GPE Berlin\n",
            "GPE Soviet\n",
            "GPE Polish\n",
            "GPE German\n",
            "ORGANIZATION Potsdam\n",
            "GPE Japan\n",
            "GPE United States\n",
            "GPE Japanese\n",
            "ORGANIZATION Hiroshima\n",
            "PERSON Nagasaki\n",
            "GPE Japanese\n",
            "GPE Soviet Union\n",
            "GPE Japan\n",
            "GPE Manchuria\n",
            "GPE Japan\n",
            "GPE Asia\n",
            "ORGANIZATION United Nations\n",
            "GPE United States\n",
            "GPE Soviet Union\n",
            "GPE China\n",
            "ORGANIZATION United Kingdom\n",
            "ORGANIZATION United Nations\n",
            "ORGANIZATION Security Council\n",
            "GPE Soviet Union\n",
            "GPE United States\n",
            "GPE European\n",
            "GPE Asia\n",
            "PERSON Africa\n",
            "GPE Europe\n"
          ],
          "name": "stdout"
        }
      ]
    },
    {
      "cell_type": "code",
      "metadata": {
        "id": "FC1JZ9wYr2x1",
        "colab_type": "code",
        "colab": {}
      },
      "source": [
        ""
      ],
      "execution_count": 0,
      "outputs": []
    }
  ]
}