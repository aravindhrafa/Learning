{
  "nbformat": 4,
  "nbformat_minor": 0,
  "metadata": {
    "colab": {
      "name": "nlp_initial_sentiment_analysis.ipynb",
      "provenance": [],
      "collapsed_sections": []
    },
    "kernelspec": {
      "name": "python3",
      "display_name": "Python 3"
    }
  },
  "cells": [
    {
      "cell_type": "code",
      "metadata": {
        "id": "Pig8K_ZPkIzF",
        "colab_type": "code",
        "colab": {
          "base_uri": "https://localhost:8080/",
          "height": 68
        },
        "outputId": "d3bd11f4-8421-4c4f-ef39-01dbe1210cb1"
      },
      "source": [
        "import pandas as pd \n",
        "import numpy as np \n",
        "import csv\n",
        "import nltk \n",
        "nltk.download('punkt')"
      ],
      "execution_count": 86,
      "outputs": [
        {
          "output_type": "stream",
          "text": [
            "[nltk_data] Downloading package punkt to /root/nltk_data...\n",
            "[nltk_data]   Package punkt is already up-to-date!\n"
          ],
          "name": "stdout"
        },
        {
          "output_type": "execute_result",
          "data": {
            "text/plain": [
              "True"
            ]
          },
          "metadata": {
            "tags": []
          },
          "execution_count": 86
        }
      ]
    },
    {
      "cell_type": "code",
      "metadata": {
        "id": "PE8PGDgfzhLg",
        "colab_type": "code",
        "outputId": "c15f0d6a-f400-4fcb-d9ae-293449bd5380",
        "colab": {
          "base_uri": "https://localhost:8080/",
          "height": 34
        }
      },
      "source": [
        "\n",
        "from google.colab import drive\n",
        "drive.mount('/content/drive')"
      ],
      "execution_count": 87,
      "outputs": [
        {
          "output_type": "stream",
          "text": [
            "Drive already mounted at /content/drive; to attempt to forcibly remount, call drive.mount(\"/content/drive\", force_remount=True).\n"
          ],
          "name": "stdout"
        }
      ]
    },
    {
      "cell_type": "markdown",
      "metadata": {
        "id": "CBLRMk6u3LH5",
        "colab_type": "text"
      },
      "source": [
        "Sentiment analysis : Basis "
      ]
    },
    {
      "cell_type": "code",
      "metadata": {
        "id": "UlaLXC5Czq2z",
        "colab_type": "code",
        "colab": {}
      },
      "source": [
        "positive = []\n",
        "with open('/content/drive/My Drive/nltk/words-positive.csv','r') as file:\n",
        "#with open('/content/drive/My Drive/nltk/words-negative.csv','rb', encoding =<theencodingofthefile>)as  file:     ---> Another representation of the above code line \n",
        "  reader = csv.reader(file)\n",
        "  for row in reader:\n",
        "    positive.append(row)\n"
      ],
      "execution_count": 0,
      "outputs": []
    },
    {
      "cell_type": "code",
      "metadata": {
        "id": "k4Ix7CtM0yYY",
        "colab_type": "code",
        "colab": {}
      },
      "source": [
        "negative = []\n",
        "with open('/content/drive/My Drive/nltk/words-negative.csv','r') as file:\n",
        "#with open('/content/drive/My Drive/nltk/words-negative.csv','rb', encoding =<theencodingofthefile>)as  file:     ---> Another representation of the above code line \n",
        "  reader = csv.reader(file)\n",
        "  for row in reader:\n",
        "    negative.append(row)"
      ],
      "execution_count": 0,
      "outputs": []
    },
    {
      "cell_type": "code",
      "metadata": {
        "id": "UDU3JVlH17BT",
        "colab_type": "code",
        "colab": {
          "base_uri": "https://localhost:8080/",
          "height": 187
        },
        "outputId": "075b0ac9-67f2-41c4-f6a6-da33da2e235a"
      },
      "source": [
        "positive[:10]"
      ],
      "execution_count": 90,
      "outputs": [
        {
          "output_type": "execute_result",
          "data": {
            "text/plain": [
              "[['absolutely'],\n",
              " ['adorable'],\n",
              " ['accepted'],\n",
              " ['acclaimed'],\n",
              " ['accomplish'],\n",
              " ['accomplishment'],\n",
              " ['achievement'],\n",
              " ['action'],\n",
              " ['active'],\n",
              " ['admire']]"
            ]
          },
          "metadata": {
            "tags": []
          },
          "execution_count": 90
        }
      ]
    },
    {
      "cell_type": "code",
      "metadata": {
        "id": "HpKzriyC2JMH",
        "colab_type": "code",
        "colab": {
          "base_uri": "https://localhost:8080/",
          "height": 187
        },
        "outputId": "1916f8a5-b1e2-47fc-fcd6-bd99f20943e1"
      },
      "source": [
        "negative[:10]"
      ],
      "execution_count": 91,
      "outputs": [
        {
          "output_type": "execute_result",
          "data": {
            "text/plain": [
              "[['abysmal'],\n",
              " ['adverse'],\n",
              " ['alarming'],\n",
              " ['angry'],\n",
              " ['annoy'],\n",
              " ['annoying'],\n",
              " ['anxious'],\n",
              " ['apathy'],\n",
              " ['appalling'],\n",
              " ['atrocious']]"
            ]
          },
          "metadata": {
            "tags": []
          },
          "execution_count": 91
        }
      ]
    },
    {
      "cell_type": "code",
      "metadata": {
        "id": "UVAlN_Iv2KgS",
        "colab_type": "code",
        "colab": {}
      },
      "source": [
        "def sentiment(text):\n",
        "  text_sent = nltk.sent_tokenize(text)\n",
        "  for sentence in text_sent:\n",
        "    n_count = 0                                                       # Negative count variable \n",
        "    p_count = 0                                                       # Positive count variable \n",
        "    sent_words = nltk.word_tokenize(sentence)                         # Word tokenization of the sentence \n",
        "    for word in sent_words:\n",
        "      for item in positive:\n",
        "        if (word == item[0]):\n",
        "          p_count += 1\n",
        "\n",
        "      for item in negative:\n",
        "        if (word == item[0]):\n",
        "          n_count += 1\n",
        "\n",
        "    if (p_count > 0 and n_count == 0):\n",
        "      print('+ :' + sentence)\n",
        "\n",
        "    elif (n_count % 2 > 0):\n",
        "      print('- :' + sentence)\n",
        "    \n",
        "    elif (n_count % 2 == 0 and n_count > 0):\n",
        "      print('+ :' + sentence)\n",
        "\n",
        "    else:\n",
        "      print('? :' + sentence)"
      ],
      "execution_count": 0,
      "outputs": []
    },
    {
      "cell_type": "code",
      "metadata": {
        "id": "Ncav2omv7Z9n",
        "colab_type": "code",
        "colab": {
          "base_uri": "https://localhost:8080/",
          "height": 34
        },
        "outputId": "51711d4b-cedb-430f-d943-8cc7c9fce989"
      },
      "source": [
        "sentiment('It was terribly bad')"
      ],
      "execution_count": 93,
      "outputs": [
        {
          "output_type": "stream",
          "text": [
            "- :It was terribly bad\n"
          ],
          "name": "stdout"
        }
      ]
    },
    {
      "cell_type": "code",
      "metadata": {
        "id": "jwWHU3_s7dbM",
        "colab_type": "code",
        "colab": {
          "base_uri": "https://localhost:8080/",
          "height": 34
        },
        "outputId": "523462eb-cd99-40e7-d055-a098261d2350"
      },
      "source": [
        "sentiment('Acutally, it was not bad at all.')"
      ],
      "execution_count": 94,
      "outputs": [
        {
          "output_type": "stream",
          "text": [
            "+ :Acutally, it was not bad at all.\n"
          ],
          "name": "stdout"
        }
      ]
    },
    {
      "cell_type": "code",
      "metadata": {
        "id": "uMzBubTg8eZ0",
        "colab_type": "code",
        "colab": {
          "base_uri": "https://localhost:8080/",
          "height": 34
        },
        "outputId": "7534f1a1-042d-4df4-96ae-248fc06671cb"
      },
      "source": [
        "sentiment('This is sentence about nothing.')"
      ],
      "execution_count": 95,
      "outputs": [
        {
          "output_type": "stream",
          "text": [
            "? :This is sentence about nothing.\n"
          ],
          "name": "stdout"
        }
      ]
    },
    {
      "cell_type": "markdown",
      "metadata": {
        "id": "qKCY0AdCAXhn",
        "colab_type": "text"
      },
      "source": [
        "Sentiment Analysis with Review files "
      ]
    },
    {
      "cell_type": "code",
      "metadata": {
        "id": "EdhDaI8b8hhV",
        "colab_type": "code",
        "colab": {}
      },
      "source": [
        "def sentiment1(text):\n",
        "  temp = []\n",
        "  text_sent = nltk.sent_tokenize(text)\n",
        "  for sentence in text_sent:\n",
        "    n_count = 0                                                       \n",
        "    p_count = 0                                                       \n",
        "    sent_words = nltk.word_tokenize(sentence)                         \n",
        "    for word in sent_words:\n",
        "      for item in positive:\n",
        "        if (word == item[0]):\n",
        "          p_count += 1\n",
        "\n",
        "      for item in negative:\n",
        "        if (word == item[0]):\n",
        "          n_count += 1\n",
        "\n",
        "    if (p_count > 0 and n_count == 0):\n",
        "      temp.append(1)\n",
        "\n",
        "    elif (n_count % 2 > 0):\n",
        "      temp.append(-1)\n",
        "    \n",
        "    elif (n_count % 2 == 0 and n_count > 0):\n",
        "      temp.append(1)\n",
        "\n",
        "    else:\n",
        "      temp.append(0)\n",
        "\n",
        "  return temp"
      ],
      "execution_count": 0,
      "outputs": []
    },
    {
      "cell_type": "code",
      "metadata": {
        "id": "F5mGBx9BAywX",
        "colab_type": "code",
        "colab": {}
      },
      "source": [
        "comments = []\n",
        "with open('/content/drive/My Drive/nltk/reviews.csv','r') as file:\n",
        "  reader  = csv.reader(file)\n",
        "  for row in reader:\n",
        "    comments.append(row)"
      ],
      "execution_count": 0,
      "outputs": []
    },
    {
      "cell_type": "code",
      "metadata": {
        "id": "ar60wIJeBcuR",
        "colab_type": "code",
        "colab": {
          "base_uri": "https://localhost:8080/",
          "height": 34
        },
        "outputId": "4caaf3bb-76e4-45dc-a694-7f5056e63ac7"
      },
      "source": [
        "len(comments)"
      ],
      "execution_count": 105,
      "outputs": [
        {
          "output_type": "execute_result",
          "data": {
            "text/plain": [
              "8"
            ]
          },
          "metadata": {
            "tags": []
          },
          "execution_count": 105
        }
      ]
    },
    {
      "cell_type": "code",
      "metadata": {
        "id": "04jv0DxhBl2v",
        "colab_type": "code",
        "colab": {}
      },
      "source": [
        "# To find the average based on the passage\n",
        "# for review in comments:\n",
        "#   for i in review:\n",
        "#     print(i)\n",
        "  \n",
        "  # print('\\n')\n",
        "  # print(np.average(sentiment(str(review))))\n",
        "  # print(review)"
      ],
      "execution_count": 0,
      "outputs": []
    },
    {
      "cell_type": "code",
      "metadata": {
        "id": "xHZ_jrWECUxq",
        "colab_type": "code",
        "colab": {
          "base_uri": "https://localhost:8080/",
          "height": 153
        },
        "outputId": "2a4d37d1-7265-4a8c-fea7-6a98c61c9960"
      },
      "source": [
        "for review in comments:\n",
        "  for i in review:\n",
        "    # print(i for len(i) < 3)\n",
        "    print(i[2])"
      ],
      "execution_count": 100,
      "outputs": [
        {
          "output_type": "stream",
          "text": [
            "i\n",
            "g\n",
            "l\n",
            "b\n",
            "e\n",
            "t\n",
            "t\n",
            "a\n"
          ],
          "name": "stdout"
        }
      ]
    },
    {
      "cell_type": "code",
      "metadata": {
        "id": "c8K0DU_SE-Mc",
        "colab_type": "code",
        "colab": {
          "base_uri": "https://localhost:8080/",
          "height": 581
        },
        "outputId": "b636c2e4-bd9e-43f1-e7a7-a3138ede3223"
      },
      "source": [
        "for review in comments:\n",
        "  print('\\n')\n",
        "  print(np.average(sentiment1(str(review[0]))))\n",
        "  print(review)\n",
        "\n",
        "\n",
        "# The value ranges from -1 to 1 as mentioned on the above function "
      ],
      "execution_count": 107,
      "outputs": [
        {
          "output_type": "stream",
          "text": [
            "\n",
            "\n",
            "0.6\n",
            "[\"This camera is perfect for an enthusiastic amateur photographer. The pictures are razor-sharp, even in macro. It is small enough to fit easily in a coat pocket or purse. It is light enough to carry around all day without bother. Operating its many features is easy and often obvious - i'm no annie lebovitz, but i was able to figure out most of its abilities just messing around with it at a camera store. The manual does a fine job filling in any blanks that remain. The auto-focus performs well, but i love having the 12 optional scene modes - they are dummy-proof, and correspond to many situations in which i would actually seek to use the camera. Comes with a 16 mb compact flash and one rechargeable battery the charging unit, included, is fast and small. I bought a 256 mb cf and a second battery, so it's good to go on a long vacation. I enthusiastically recommend this camera.\"]\n",
            "\n",
            "\n",
            "0.875\n",
            "[\"I got my camera three days back, and although i had some experience with digital cameras prior to purchasing this one, i still rate myself as a beginner. I bought this camera because it fit my budget and the pre-production and production model reviews were positive. It's easy to use, and yet very feature rich. In the auto mode it functions basically as a point and click, the scene modes are very easy to use and produce good results. The manual mode is feature rich and i can't wait to get the hang of it. The macro mode is exceptional, the pictures are very clear and you can take the pictures with the lens unbelievably close the subject. The battery life is very good, i got about 90 minutes with the lcd turned on all the time, the first time around, and i have been using it with the lcd off every now and then, and have yet needed to recharge it. The camera comes with a lexar 16mb starter card, which stores about 10 images in fine mode at the highest resolution, i intend to buy a bigger card soon.\"]\n",
            "\n",
            "\n",
            "0.6666666666666666\n",
            "['I love photography. I had an older camera that was simply a point and shoot camera. I needed something with more power, so i bought a nikon coolpix 4300. I fell in love with this camera, it combines ease of use, with an immense amount of options and power. You can use the scene modes, or fine tune the options, i. you can change the iso level, shutter speed, etc. This camera is ideal for people who want more power, but don’t want to spend 1000s dollars on a camera. ']\n",
            "\n",
            "\n",
            "0.18181818181818182\n",
            "[\"I bought coolpix 4300 two months after i had bought canon powershot s400. It was not easy sharing one with my teen age kid. The two cameras are very similar in functionality and pricing. I've had no problem with canon whatsoever. With nikon, although picture qualities are as good as any other 4 mp cameras, i've had the following headaches. Pictures won't transfer to pc directly from the camera using the included transfer cable. I did everything i could, and it took many days of frustration before concluding that the only way to transfer to pc is with the card reader. The speed is noticeably slower than canon, especially so with flashes on. With low battery, it twice wiped out the entire pictures in the memory chip. I used lexar 256 mb and i still use it which means nothing is wrong with lexar. Be very careful when the battery is low and make sure to carry extra batteries. \"]\n",
            "\n",
            "\n",
            "0.2857142857142857\n",
            "['The other reviewers have clearly pointed all the good things about this camera, which i do agree. But there are certain issues might be they are to me here - all of them are minor; not major ones though. This camera keeps on autofocusing in auto mode with a buzzing sound which can\\'t be stopped. Would be really good if they have given an option to stop this autofocusing. If you want to have the date; time on the image, its only through their software \"nikon view\" which reads the images date; time from the images meta-data. So if you use your card reader; copy images - you got to once again open them through their software to put the date; time. In that too, there is not a direct way to add date; time - you got to say\\' print images\\' to a different directory in which there is an option to specify the date; time. Even the slightest of the shakes totally distorts your image. Images taken indoor were not so clear. You got to have flash on to get it even though your room is well lit. Lens cap is a really annoying. The movie clips taken will always have some noise in it, you can\\'t avoid that. But overall this is a good camera with a\\' really good\\' picture clarity; an exceptional close-up shooting capability. I would rate this is 4.5 stars picture quality; image size defined above are specific to nikon coolpix.']\n",
            "\n",
            "\n",
            "-0.2857142857142857\n",
            "[\"Within a year, there are problems with my menu dial knob. It became stuck which makes it almost impossible to switch between modes. I send my camera to nikon for servicing, took them a whole 6 weeks to diagnose the problem. Worse of all, they claim that it's some kind of internal damage and refuse to cover the cost via warranty! They wouldn't repair my camera unless if i pay $100 for parts? and labor! It is a good camera in terms of the function and quality, but take your chance with it because nikon absolutely sucks when it comes to customer service.\"]\n",
            "\n",
            "\n",
            "0.0\n",
            "['Got a \"system error\" problem 30 days after purchase. Made the camera totally inoperable. Also, the lens cap design is flawed. You have to manually Audio on video also lacking. Otherwise, it takes very good pictures; shutter delay is not so bad either. Still, had to send it back to nikon for repair.']\n",
            "\n",
            "\n",
            "0.45454545454545453\n",
            "['I am an amateur photographer and here is a piece of advise to all the folks who are thinking about making a move the digital world. I feel, is the best camera out there for the features and price. I had initially thought of buying a 2 or 3 megapixel camera but these are good for 4x6\" or 5x7\" prints and i wanted some really great 8x10\" photos once in a while. I did not want a very small camera as it seems to get lost in my hands and i was not comfortable with that. I wanted a decent sized camera with a contour for my fingers to hold it steadily. I wanted a camera that had a lot of built-in settings for different types of surroundings while giving me an option to use my photography skills although, I am an amateur with an interest in photography by turning on the manual settings. I wanted a respected brand and had to stay within my budget because i had bought an expensive camcorder before but had not used it much. Depending on all the above requirements, I had narrowed down my search to nikon 4300 and canon powershot s400 models. Nikon got the final nod for its settings auto and manual along with movie modes, medium; compact size, price, brand name, good software that is included and previous reviews. I should say I have been very happy with my decision ever since. The pictures are absolutely amazing - the camera captures the minutest of details.']\n"
          ],
          "name": "stdout"
        }
      ]
    },
    {
      "cell_type": "code",
      "metadata": {
        "id": "AnENrBj-HAI4",
        "colab_type": "code",
        "colab": {}
      },
      "source": [
        ""
      ],
      "execution_count": 0,
      "outputs": []
    }
  ]
}