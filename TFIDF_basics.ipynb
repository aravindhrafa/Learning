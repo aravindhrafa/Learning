{
  "nbformat": 4,
  "nbformat_minor": 0,
  "metadata": {
    "colab": {
      "name": "TFIDF_basics.ipynb",
      "provenance": [],
      "collapsed_sections": []
    },
    "kernelspec": {
      "name": "python3",
      "display_name": "Python 3"
    }
  },
  "cells": [
    {
      "cell_type": "code",
      "metadata": {
        "id": "FjFDofr27OVy",
        "colab_type": "code",
        "colab": {
          "base_uri": "https://localhost:8080/",
          "height": 156
        },
        "outputId": "0eca22bd-acc8-48df-d37e-89696c743464"
      },
      "source": [
        "import nltk\n",
        "nltk.download('punkt')\n",
        "from google.colab import drive\n",
        "drive.mount('/content/drive')"
      ],
      "execution_count": 3,
      "outputs": [
        {
          "output_type": "stream",
          "text": [
            "[nltk_data] Downloading package punkt to /root/nltk_data...\n",
            "[nltk_data]   Unzipping tokenizers/punkt.zip.\n",
            "Go to this URL in a browser: https://accounts.google.com/o/oauth2/auth?client_id=947318989803-6bn6qk8qdgf4n4g3pfee6491hc0brc4i.apps.googleusercontent.com&redirect_uri=urn%3aietf%3awg%3aoauth%3a2.0%3aoob&response_type=code&scope=email%20https%3a%2f%2fwww.googleapis.com%2fauth%2fdocs.test%20https%3a%2f%2fwww.googleapis.com%2fauth%2fdrive%20https%3a%2f%2fwww.googleapis.com%2fauth%2fdrive.photos.readonly%20https%3a%2f%2fwww.googleapis.com%2fauth%2fpeopleapi.readonly\n",
            "\n",
            "Enter your authorization code:\n",
            "··········\n",
            "Mounted at /content/drive\n"
          ],
          "name": "stdout"
        }
      ]
    },
    {
      "cell_type": "code",
      "metadata": {
        "id": "5BQ3vGQFIIJi",
        "colab_type": "code",
        "colab": {}
      },
      "source": [
        "dataset={'tfidf_1.txt': open('/content/drive/My Drive/nltk/tfidf-1.txt').read(),\n",
        "'tfidf_2.txt': open('/content/drive/My Drive/nltk/tfidf-2.txt').read(),\n",
        "'tfidf_3.txt': open('/content/drive/My Drive/nltk/tfidf-3.txt').read(),\n",
        "'tfidf_4.txt': open('/content/drive/My Drive/nltk/tfidf-4.txt').read(),\n",
        "'tfidf_5.txt': open('/content/drive/My Drive/nltk/tfidf-5.txt').read(),\n",
        "'tfidf_6.txt': open('/content/drive/My Drive/nltk/tfidf-6.txt').read(),\n",
        "'tfidf_7.txt': open('/content/drive/My Drive/nltk/tfidf-7.txt').read(),\n",
        "'tfidf_8.txt': open('/content/drive/My Drive/nltk/tfidf-8.txt').read(),\n",
        "'tfidf_9.txt': open('/content/drive/My Drive/nltk/tfidf-9.txt').read(),\n",
        "'tfidf_10.txt': open('/content/drive/My Drive/nltk/tfidf-10.txt').read()}\n",
        "\n",
        "# The above code is the kind of the dictionary creation "
      ],
      "execution_count": 0,
      "outputs": []
    },
    {
      "cell_type": "code",
      "metadata": {
        "id": "aN1ktFnQJVMF",
        "colab_type": "code",
        "colab": {
          "base_uri": "https://localhost:8080/",
          "height": 34
        },
        "outputId": "580603b4-5a9f-46af-a125-5510164d8a52"
      },
      "source": [
        "# since it is the dictionary, we can have key and value pair \n",
        "\n",
        "dataset.keys()"
      ],
      "execution_count": 5,
      "outputs": [
        {
          "output_type": "execute_result",
          "data": {
            "text/plain": [
              "dict_keys(['tfidf_1.txt', 'tfidf_2.txt', 'tfidf_3.txt', 'tfidf_4.txt', 'tfidf_5.txt', 'tfidf_6.txt', 'tfidf_7.txt', 'tfidf_8.txt', 'tfidf_9.txt', 'tfidf_10.txt'])"
            ]
          },
          "metadata": {
            "tags": []
          },
          "execution_count": 5
        }
      ]
    },
    {
      "cell_type": "code",
      "metadata": {
        "id": "5y5TBQm_Kfzy",
        "colab_type": "code",
        "colab": {
          "base_uri": "https://localhost:8080/",
          "height": 54
        },
        "outputId": "bc440bfb-fad0-4ec3-8eba-e5d3a9dc28e2"
      },
      "source": [
        "dataset['tfidf_1.txt']"
      ],
      "execution_count": 6,
      "outputs": [
        {
          "output_type": "execute_result",
          "data": {
            "text/plain": [
              "'World War II (WWII or WW2), also known as the Second World War, was a global war that lasted from 1939 to 1945, though related conflicts began earlier. It involved the vast majority of the world\\'s nations—including all of the great powers—eventually forming two opposing military alliances: the Allies and the Axis. It was the most widespread war in history, and directly involved more than 100 million people from over 30 countries. In a state of \"total war\", the major participants threw their entire economic, industrial, and scientific capabilities behind the war effort, erasing the distinction between civilian and military resources. Marked by mass deaths of civilians, including the Holocaust (in which approximately 11 million people were killed) and the strategic bombing of industrial and population centres (in which approximately one million were killed, and which included the atomic bombings of Hiroshima and Nagasaki), it resulted in an estimated 50 million to 85 million fatalities. These made World War II the deadliest conflict in human history.\\n\\nThe Empire of Japan aimed to dominate Asia and the Pacific and was already at war with the Republic of China in 1937, but the world war is generally said to have begun on 1 September 1939 with the invasion of Poland by Germany and subsequent declarations of war on Germany by France and the United Kingdom. From late 1939 to early 1941, in a series of campaigns and treaties, Germany conquered or controlled much of continental Europe, and formed the Axis alliance with Italy and Japan. Based on the Molotov–Ribbentrop Pact of August 1939, Germany and the Soviet Union partitioned and annexed territories of their European neighbours, Poland, Finland, Romania and the Baltic states. For a year starting in late June 1940, the United Kingdom and the British Commonwealth were the only Allied forces continuing the fight against the European Axis powers, with campaigns in North Africa and the Horn of Africa, the aerial Battle of Britain and the Blitz bombing campaign, as well as the long-running Battle of the Atlantic. In June 1941, the European Axis powers launched an invasion of the Soviet Union, opening the largest land theatre of war in history, which trapped the major part of the Axis\\' military forces into a war of attrition. In December 1941, Japan attacked the United States and European territories in the Pacific Ocean, and quickly conquered much of the Western Pacific.\\n\\nThe Axis advance halted in 1942 when Japan lost the critical Battle of Midway, near Hawaii, and Germany was defeated in North Africa and then, decisively, at Stalingrad in the Soviet Union. In 1943, with a series of German defeats on the Eastern Front, the Allied invasion of Italy which brought about Italian surrender, and Allied victories in the Pacific, the Axis lost the initiative and undertook strategic retreat on all fronts. In 1944, the Western Allies invaded German-occupied France, while the Soviet Union regained all of its territorial losses and invaded Germany and its allies. During 1944 and 1945 the Japanese suffered major reverses in mainland Asia in South Central China and Burma, while the Allies crippled the Japanese Navy and captured key Western Pacific islands.\\n\\nThe war in Europe ended with an invasion of Germany by the Western Allies and the Soviet Union culminating in the capture of Berlin by Soviet and Polish troops and the subsequent German unconditional surrender on 8 May 1945. Following the Potsdam Declaration by the Allies on 26 July 1945 and the refusal of Japan to surrender under its terms, the United States dropped atomic bombs on the Japanese cities of Hiroshima and Nagasaki on 6 August and 9 August respectively. With an invasion of the Japanese archipelago imminent, the possibility of additional atomic bombings, and the Soviet Union\\'s declaration of war on Japan and invasion of Manchuria, Japan surrendered on 15 August 1945. Thus ended the war in Asia, cementing the total victory of the Allies.\\n\\nWorld War II altered the political alignment and social structure of the world. The United Nations (UN) was established to foster international co-operation and prevent future conflicts. The victorious great powers—the United States, the Soviet Union, China, the United Kingdom, and France—became the permanent members of the United Nations Security Council. The Soviet Union and the United States emerged as rival superpowers, setting the stage for the Cold War, which lasted for the next 46 years. Meanwhile, the influence of European great powers waned, while the decolonisation of Asia and Africa began. Most countries whose industries had been damaged moved towards economic recovery. Political integration, especially in Europe, emerged as an effort to end pre-war enmities and to create a common identity.'"
            ]
          },
          "metadata": {
            "tags": []
          },
          "execution_count": 6
        }
      ]
    },
    {
      "cell_type": "code",
      "metadata": {
        "id": "68RRgM8FKwkf",
        "colab_type": "code",
        "colab": {}
      },
      "source": [
        "# the number of times, the word appears in the document ---> Term Frequency \n",
        "\n",
        "# This can be better understand with the function creation \n",
        "\n",
        "def tf(dataset,filename):\n",
        "  text = dataset[filename]\n",
        "  tokens=nltk.word_tokenize(text)\n",
        "  fd = nltk.FreqDist(tokens)\n",
        "  return fd"
      ],
      "execution_count": 0,
      "outputs": []
    },
    {
      "cell_type": "code",
      "metadata": {
        "id": "DczaHQ6jMB_a",
        "colab_type": "code",
        "colab": {}
      },
      "source": [
        "tf(dataset,'tfidf_1.txt')"
      ],
      "execution_count": 0,
      "outputs": []
    },
    {
      "cell_type": "code",
      "metadata": {
        "id": "NeonFyV_GqEk",
        "colab_type": "code",
        "colab": {
          "base_uri": "https://localhost:8080/",
          "height": 34
        },
        "outputId": "abd162ef-8082-418a-84d8-1fea79bf182e"
      },
      "source": [
        "len(tf(dataset,'tfidf_1.txt'))  # This could be referred below "
      ],
      "execution_count": 20,
      "outputs": [
        {
          "output_type": "execute_result",
          "data": {
            "text/plain": [
              "355"
            ]
          },
          "metadata": {
            "tags": []
          },
          "execution_count": 20
        }
      ]
    },
    {
      "cell_type": "code",
      "metadata": {
        "id": "wTKYIc01MHVY",
        "colab_type": "code",
        "colab": {}
      },
      "source": [
        "import math\n",
        "def idf(dataset,term):\n",
        "  count  = [term in dataset[file_name] for file_name in dataset]\n",
        "  inv_df = math.log(len(count)/sum(count))\n",
        "  return inv_df"
      ],
      "execution_count": 0,
      "outputs": []
    },
    {
      "cell_type": "code",
      "metadata": {
        "id": "IlRSdgwG97bv",
        "colab_type": "code",
        "colab": {}
      },
      "source": [
        "# idf(dataset,'iphone')   \n",
        "# This indicates that iphone word is not present inside any of the datasets\n",
        "# So, they are throwing the zero division error\n",
        "# A little of division maht and statstics understanding could be much helpful in this part \n",
        "\n"
      ],
      "execution_count": 0,
      "outputs": []
    },
    {
      "cell_type": "code",
      "metadata": {
        "id": "TVViYxr69_YI",
        "colab_type": "code",
        "colab": {
          "base_uri": "https://localhost:8080/",
          "height": 187
        },
        "outputId": "7d469c41-b8d0-4061-e120-55bd6cbe334b"
      },
      "source": [
        "# for file_name in dataset:\n",
        "#   print(file_name)\n",
        "\n",
        "\n",
        "# Result: \n",
        "\n",
        "# tfidf_1.txt\n",
        "# tfidf_2.txt\n",
        "# tfidf_3.txt\n",
        "# tfidf_4.txt\n",
        "# tfidf_5.txt\n",
        "# tfidf_6.txt\n",
        "# tfidf_7.txt\n",
        "# tfidf_8.txt\n",
        "# tfidf_9.txt\n",
        "# tfidf_10.txt"
      ],
      "execution_count": 14,
      "outputs": [
        {
          "output_type": "stream",
          "text": [
            "tfidf_1.txt\n",
            "tfidf_2.txt\n",
            "tfidf_3.txt\n",
            "tfidf_4.txt\n",
            "tfidf_5.txt\n",
            "tfidf_6.txt\n",
            "tfidf_7.txt\n",
            "tfidf_8.txt\n",
            "tfidf_9.txt\n",
            "tfidf_10.txt\n"
          ],
          "name": "stdout"
        }
      ]
    },
    {
      "cell_type": "code",
      "metadata": {
        "id": "7z6k3DE6-6xz",
        "colab_type": "code",
        "colab": {
          "base_uri": "https://localhost:8080/",
          "height": 34
        },
        "outputId": "b05af225-06cf-49b1-c6d8-15eea0cc6f57"
      },
      "source": [
        "# Lets try the word that are present inside the text files \n",
        "\n",
        "idf(dataset,'world')"
      ],
      "execution_count": 15,
      "outputs": [
        {
          "output_type": "execute_result",
          "data": {
            "text/plain": [
              "0.5108256237659907"
            ]
          },
          "metadata": {
            "tags": []
          },
          "execution_count": 15
        }
      ]
    },
    {
      "cell_type": "code",
      "metadata": {
        "id": "HBgmMqtw_z_z",
        "colab_type": "code",
        "colab": {}
      },
      "source": [
        "# Since we had find the tf and idf values \n",
        "# According to tfidf theory, we just need to multiply the values \n",
        "\n",
        "\n",
        "# Let us assume one word 'world' for example\n",
        "# tf tells about the world word presence only on one txt file\n",
        "# idf tells about the wordld word presence on all the documents\n",
        "\n",
        "# While going through the entire document, each word is said to contain\n",
        "#tfidf values in them \n",
        "\n",
        "\n",
        "# There is also stop word presence on every document \n",
        "# tfidf could naturalluy eliminate those stop words, since, stop words will have \n",
        "# very low values "
      ],
      "execution_count": 0,
      "outputs": []
    },
    {
      "cell_type": "code",
      "metadata": {
        "id": "VonYxQEvFqvF",
        "colab_type": "code",
        "colab": {}
      },
      "source": [
        "def tfidf(dataset,file_name,n):\n",
        "  term_scores = {}\n",
        "  file_fd = tf(dataset,file_name)\n",
        "  # print(file_fd)\n",
        "  for term in file_fd:\n",
        "    if term.isalpha():\n",
        "      idf_val = idf(dataset,term)\n",
        "      tf_val = tf(dataset,file_name)[term]\n",
        "\n",
        "\n",
        "      # Since for the value 'term' we need to find the tf_val, tf_val said to contain only \n",
        "      # tokens and other stuffs\n",
        "\n",
        "      tfidf_val = tf_val * idf_val\n",
        "      term_scores[term] = round(tfidf_val,2)\n",
        "  return sorted(term_scores.items(),key = lambda x:-x[1])[:n]\n",
        "\n"
      ],
      "execution_count": 0,
      "outputs": []
    },
    {
      "cell_type": "code",
      "metadata": {
        "id": "R0sg5pt0GYyM",
        "colab_type": "code",
        "colab": {}
      },
      "source": [
        "#tfidf(dataset,'tfidf_1.txt')  #The counts are exactly matching \n",
        "\n",
        "#This cell code is for checking purposes without n value "
      ],
      "execution_count": 0,
      "outputs": []
    },
    {
      "cell_type": "code",
      "metadata": {
        "id": "EJn0giOWGcNX",
        "colab_type": "code",
        "colab": {
          "base_uri": "https://localhost:8080/",
          "height": 102
        },
        "outputId": "ad259bff-3389-4748-d093-11e602f3c709"
      },
      "source": [
        "tfidf(dataset,'tfidf_1.txt',5)"
      ],
      "execution_count": 27,
      "outputs": [
        {
          "output_type": "execute_result",
          "data": {
            "text/plain": [
              "[('Soviet', 20.72),\n",
              " ('Union', 18.42),\n",
              " ('Axis', 16.12),\n",
              " ('Japan', 11.27),\n",
              " ('Germany', 11.27)]"
            ]
          },
          "metadata": {
            "tags": []
          },
          "execution_count": 27
        }
      ]
    },
    {
      "cell_type": "code",
      "metadata": {
        "id": "2agg11oxIm3R",
        "colab_type": "code",
        "colab": {
          "base_uri": "https://localhost:8080/",
          "height": 527
        },
        "outputId": "eaa0b5bd-dd45-4678-87f0-c4ebd3db66c8"
      },
      "source": [
        "for file_name in dataset:\n",
        "  print(\"{0}: \\n {1} \\n\".format(file_name,tfidf(dataset,file_name,5)))"
      ],
      "execution_count": 29,
      "outputs": [
        {
          "output_type": "stream",
          "text": [
            "tfidf_1.txt: \n",
            " [('Soviet', 20.72), ('Union', 18.42), ('Axis', 16.12), ('Japan', 11.27), ('Germany', 11.27)] \n",
            "\n",
            "tfidf_2.txt: \n",
            " [('Module', 16.12), ('Armstrong', 13.82), ('lunar', 13.82), ('Apollo', 11.51), ('Moon', 9.21)] \n",
            "\n",
            "tfidf_3.txt: \n",
            " [('Napoleon', 32.19), ('French', 16.86), ('Coalition', 11.51), ('Prussia', 6.91), ('military', 6.02)] \n",
            "\n",
            "tfidf_4.txt: \n",
            " [('Washington', 25.33), ('President', 6.44), ('Continental', 4.82), ('presided', 4.61), ('militia', 4.61)] \n",
            "\n",
            "tfidf_5.txt: \n",
            " [('Newton', 23.03), ('scientists', 6.91), ('motion', 4.83), ('mathematician', 4.61), ('Principia', 4.61)] \n",
            "\n",
            "tfidf_6.txt: \n",
            " [('Revolution', 21.67), ('French', 15.65), ('privileges', 6.91), ('central', 6.91), ('Napoleon', 6.44)] \n",
            "\n",
            "tfidf_7.txt: \n",
            " [('Leonardo', 18.42), ('Vinci', 9.21), ('painting', 6.91), ('Piero', 4.61), ('architecture', 4.61)] \n",
            "\n",
            "tfidf_8.txt: \n",
            " [('Titanic', 18.42), ('passengers', 11.51), ('maritime', 9.21), ('safety', 9.21), ('lifeboats', 9.21)] \n",
            "\n",
            "tfidf_9.txt: \n",
            " [('Rockefeller', 23.03), ('business', 6.91), ('Standard', 6.91), ('Oil', 6.91), ('University', 4.83)] \n",
            "\n",
            "tfidf_10.txt: \n",
            " [('Tesla', 13.82), ('electrical', 6.44), ('wireless', 6.44), ('mechanical', 4.61), ('alternating', 4.61)] \n",
            "\n"
          ],
          "name": "stdout"
        }
      ]
    },
    {
      "cell_type": "code",
      "metadata": {
        "id": "oEVMMVfHJJY9",
        "colab_type": "code",
        "colab": {}
      },
      "source": [
        "# check if what could happen if all the words are lowercase()\n",
        "# This could improve the values \n",
        "# After the normalization, the overall score for that word could be improved \n",
        "\n"
      ],
      "execution_count": 0,
      "outputs": []
    }
  ]
}